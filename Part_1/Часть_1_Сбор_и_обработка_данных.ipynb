{
 "cells": [
  {
   "cell_type": "markdown",
   "id": "7b427d3a-d4e5-4895-aaaa-4797708da869",
   "metadata": {},
   "source": [
    "#### Загружаем библиотеки"
   ]
  },
  {
   "cell_type": "code",
   "execution_count": 4,
   "id": "7b94b46b-242f-4d7d-8c9a-1d5639f494bd",
   "metadata": {},
   "outputs": [],
   "source": [
    "# Загружаем библиотеки\n",
    "from pathlib import Path\n",
    "import os\n",
    "import time\n",
    "import pandas as pd\n",
    "import numpy as np\n",
    "import requests\n",
    "from bs4 import BeautifulSoup\n",
    "import re\n",
    "from datetime import datetime\n",
    "from tqdm import tqdm\n",
    "import torch\n",
    "from transformers import AutoTokenizer, AutoModel\n",
    "import matplotlib.pyplot as plt"
   ]
  },
  {
   "cell_type": "markdown",
   "id": "5af6a5d4-a067-4e8a-8b05-8f00331d0df0",
   "metadata": {},
   "source": [
    "#### Блок 1. Подготовка технических данных для анализа"
   ]
  },
  {
   "cell_type": "markdown",
   "id": "3a6b6410-9181-4e31-805e-2ce6f7c95132",
   "metadata": {},
   "source": [
    "В данном блоке кода мы обрабатываем исторические данные (котировки), полученные с сайта Investing.com, для дальнейшего построения моделей предсказания цены акции.\n",
    "В качестве исходных данных использованы котировки за период с 01.01.2012 по 02.06.2025:\n",
    "\n",
    "- акции ПАО «Татнефть» (таргет),\n",
    "\n",
    "- нефти марки Brent,\n",
    "\n",
    "- индекс МосБиржи,\n",
    "\n",
    "- индекс S&P 500,\n",
    "\n",
    "- валютные пары USD/RUB и EUR/RUB.\n",
    "\n",
    "Эти показатели были выбраны, так как они существенно влияют на котировки акций ПАО «Татнефть» (корреляционная матрица представлена в блоке 1.1). Несмотря на то, что согласно корреляционной матрице нефть марки Brent демонстрирует незначительное влияние на котировки акций ПАО «Татнефть», она всё же была включена в качестве признака, так как является фундаментальным индикатором при оценке акций компаний топливно-энергетического комплекса (ТЭК).\n",
    "\n",
    "В данном блоке выполняются следующие операции с данными:\n",
    "\n",
    "1. Очищаем числовые значения от лишних символов (%, запятые).\n",
    "\n",
    "2. Преобразуем текстовые обозначения чисел (K, M, B — тысячи, миллионы, миллиарды) в числовой формат.\n",
    "\n",
    "3. Приводим даты к единому формату datetime для корректного объединения датафреймов и работы моделей.\n",
    "\n",
    "4. Обрабатываем колонку объёмов (Vol.):<br>\n",
    "\n",
    "- если в колонке Vol. заполнено более 70 % значений — удаляем только строки с пропусками,<br>\n",
    "\n",
    "- если данных в Vol. недостаточно — удаляем всю колонку."
   ]
  },
  {
   "cell_type": "code",
   "execution_count": 5,
   "id": "cc4e3297-e141-4132-8522-6460cdd4fd3e",
   "metadata": {},
   "outputs": [
    {
     "name": "stderr",
     "output_type": "stream",
     "text": [
      "Обработка CSV-файлов:  33%|████████████████████▋                                         | 2/6 [00:00<00:00,  5.27it/s]"
     ]
    },
    {
     "name": "stdout",
     "output_type": "stream",
     "text": [
      "Обработан: Brent Oil Futures Historical Data.csv\n",
      "Обработан: TATNEFT Stock Price History.csv\n"
     ]
    },
    {
     "name": "stderr",
     "output_type": "stream",
     "text": [
      "Обработка CSV-файлов:  67%|█████████████████████████████████████████▎                    | 4/6 [00:00<00:00,  5.07it/s]"
     ]
    },
    {
     "name": "stdout",
     "output_type": "stream",
     "text": [
      "Обработан: EUR_RUB Historical Data.csv\n",
      "Обработан: MOEX Russia Index Historical Data.csv\n"
     ]
    },
    {
     "name": "stderr",
     "output_type": "stream",
     "text": [
      "Обработка CSV-файлов:  83%|███████████████████████████████████████████████████▋          | 5/6 [00:00<00:00,  5.12it/s]"
     ]
    },
    {
     "name": "stdout",
     "output_type": "stream",
     "text": [
      "Обработан: S&P 500 Historical Data.csv\n"
     ]
    },
    {
     "name": "stderr",
     "output_type": "stream",
     "text": [
      "Обработка CSV-файлов: 100%|██████████████████████████████████████████████████████████████| 6/6 [00:01<00:00,  4.89it/s]"
     ]
    },
    {
     "name": "stdout",
     "output_type": "stream",
     "text": [
      "Обработан: USD_RUB Historical Data.csv\n"
     ]
    },
    {
     "name": "stderr",
     "output_type": "stream",
     "text": [
      "\n"
     ]
    }
   ],
   "source": [
    "# Папки \n",
    "input_dir = Path(r\"C:\\VKR_Almaz_Mamatov\\VKR_Almaz_Mamatov_DS_16\\Part_1\\Сбор данных\")\n",
    "output_dir = Path(r\"C:\\VKR_Almaz_Mamatov\\VKR_Almaz_Mamatov_DS_16\\Part_1\\Обработанные данные\")\n",
    "output_dir.mkdir(parents=True, exist_ok=True)\n",
    "\n",
    "# Список файлов скачанных с investing.com для создания фичей. Во многих файлах столбец Vol. присутсвует, но данных в нем нет или почти нет \n",
    "file_actions = {\n",
    "    \"Brent Oil Futures Historical Data.csv\": \"drop_rows\",\n",
    "    \"TATNEFT Stock Price History.csv\": \"drop_rows\",\n",
    "    \"EUR_RUB Historical Data.csv\": \"drop_column\",\n",
    "    \"MOEX Russia Index Historical Data.csv\": \"drop_column\",\n",
    "    \"S&P 500 Historical Data.csv\": \"drop_column\",\n",
    "    \"USD_RUB Historical Data.csv\": \"drop_column\"\n",
    "}\n",
    "\n",
    "# Функция обработки одного CSV-файла с данными\n",
    "def process_file(filename: str, action: str, date_format='%m/%d/%Y'):\n",
    "    file_path = input_dir / filename\n",
    "    df = pd.read_csv(file_path)\n",
    "\n",
    "    # Преобразуем дату в вормат datetime для модели\n",
    "    df['Date'] = pd.to_datetime(df['Date'], format=date_format, errors='coerce')\n",
    "\n",
    "    # Очищаем все столбцы от лишних символов\n",
    "    for col in df.columns:\n",
    "        df[col] = df[col].astype(str)\n",
    "        df[col] = df[col].str.replace(',', '', regex=False)\n",
    "        df[col] = df[col].str.replace('%', '', regex=False)\n",
    "        df[col] = df[col].str.replace('K', 'e3', regex=False)\n",
    "        df[col] = df[col].str.replace('M', 'e6', regex=False)\n",
    "        df[col] = df[col].str.replace('B', 'e9', regex=False)\n",
    "\n",
    "    # Преобразуем строки в числа (если это возможно)\n",
    "    df = df.apply(pd.to_numeric, errors='ignore')\n",
    "    \n",
    "    # Работа с колонкой Vol.\n",
    "    if 'Vol.' in df.columns:\n",
    "        if action == \"drop_column\":\n",
    "            df.drop(columns=['Vol.'], inplace=True)\n",
    "        elif action == \"drop_rows\":\n",
    "            df = df[df['Vol.'].notna()]\n",
    "\n",
    "    # Сохраняем обработанный файл\n",
    "    output_path = output_dir / filename\n",
    "    df.to_csv(output_path, index=False, encoding='utf-8-sig')\n",
    "    print(f\"Обработан: {filename}\")\n",
    "\n",
    "# Применяем обработку ко всем файлам\n",
    "for filename, action in tqdm(file_actions.items(), desc=\"Обработка CSV-файлов\"):\n",
    "    process_file(filename, action)\n"
   ]
  },
  {
   "cell_type": "markdown",
   "id": "a84f189c-4f0d-4f09-a494-e3f379e7a25f",
   "metadata": {},
   "source": [
    "##### Блок 1.1. Корреляционная матрица основных признаков влияющих на цену акции ПАО \"Татнефть\""
   ]
  },
  {
   "cell_type": "code",
   "execution_count": 6,
   "id": "ae9b3d53-3911-4966-b56e-7d2509096100",
   "metadata": {},
   "outputs": [
    {
     "data": {
      "image/png": "[encoded data removed]",
      "text/plain": [
       "<Figure size 800x800 with 1 Axes>"
      ]
     },
     "metadata": {},
     "output_type": "display_data"
    }
   ],
   "source": [
    "# Путь к папке\n",
    "data_dir = r\"C:\\VKR_Almaz_Mamatov\\VKR_Almaz_Mamatov_DS_16\\Part_1\\Обработанные данные\"\n",
    "\n",
    "# Собираем серии \"Price\" из всех файлов\n",
    "series = {}\n",
    "for fn in os.listdir(data_dir):\n",
    "    if fn.lower().endswith(\".csv\"):\n",
    "        df = pd.read_csv(os.path.join(data_dir, fn), parse_dates=[\"Date\"])\n",
    "        if \"Price\" in df.columns:\n",
    "            name = os.path.splitext(fn)[0]\n",
    "            series[name] = df.set_index(\"Date\")[\"Price\"]\n",
    "\n",
    "# Конкатенация и корреляция\n",
    "prices = pd.concat(series, axis=1).dropna()\n",
    "corr = prices.corr()\n",
    "\n",
    "# Визуализация через matplotlib\n",
    "fig, ax = plt.subplots(figsize=(8, 8))\n",
    "im = ax.imshow(corr.values)\n",
    "\n",
    "# Метки\n",
    "names = corr.columns.tolist()\n",
    "ax.set_xticks(range(len(names)))\n",
    "ax.set_yticks(range(len(names)))\n",
    "ax.set_xticklabels(names, rotation=90)\n",
    "ax.set_yticklabels(names)\n",
    "\n",
    "# Подписи значений\n",
    "for i in range(len(names)):\n",
    "    for j in range(len(names)):\n",
    "        ax.text(j, i, f\"{corr.values[i, j]:.2f}\", ha=\"center\", va=\"center\")\n",
    "\n",
    "ax.set_title(\"Correlation matrix of Price columns\")\n",
    "fig.tight_layout()\n",
    "plt.show()\n"
   ]
  },
  {
   "cell_type": "markdown",
   "id": "b65e8195-64dc-42b5-a07c-0019ceb8d41d",
   "metadata": {},
   "source": [
    "#### Блок 2. Расчёт технических индикаторов и заполнение пропущенных значений"
   ]
  },
  {
   "cell_type": "markdown",
   "id": "2ed721f6-3511-46b0-965b-57a92f0610ea",
   "metadata": {},
   "source": [
    "В данном блоке кода мы рассчитываем технические индикаторы по историческим котировкам, полученным с сайта Investing.com. Эти индикаторы широко используются в техническом трейдинге и помогают выявить скрытые закономерности в движении цены, такие как тренды, импульсы, уровни перекупленности/перепроданности и волатильность. Все вычисления производятся отдельно для каждого файла: нефть, валюты, индексы и акция ПАО «Татнефть».\n",
    "\n",
    "В результате мы получаем дополнительные фичи для более точного предсказания нашего таргета. Помимо стандартных колонок (цена, максимум, минимум, объём) представлены более 20 новых признаков, которые будут использоваться в модели.\n",
    "\n",
    "В данном блоке мы проводим следующие операции:\n",
    "\n",
    "1. Для каждой строки рассчитываем скользящие средние (EMA) с разными окнами. EMA позволяют выявлять краткосрочные, среднесрочные и долгосрочные тренды, которые сглаживают ценовые колебания и позволяют лучше видеть направление движения рынка.\n",
    "2. Рассчитываем индекс относительной силы (RSI), который помогает выявить зоны перекупленности и перепроданности, что помогает находить потенциальные точки разворота цены.\n",
    "3. Рассчитываем индикатор схождения/расхождения скользящих средних (MACD). MACD сравнивает две скользящие средние и помогает определить силу, направление и возможный разворот текущего тренда.\n",
    "4. Рассчитываем полосы Боллинджера (Bollinger Bands) и их ширину. Bollinger Bands помогают оценить волатильность рынка. Если полосы сужаются — это может означать, что рынок «затаился» и скоро начнётся движение. Если полосы расширяются — значит, волатильность растёт, и движение уже началось.\n",
    "5. Рассчитываем средний истинный диапазон (ATR). ATR показывает средний диапазон колебаний цены за определённый период. Используется для оценки риска и волатильности — чем выше ATR, тем нестабильнее рынок.\n",
    "6. Рассчитываем процентное изменение цены за определённый период (ROC). ROC позволяет выявить ускорения/замедления тренда и сигналы на вход/выход из позиции.\n",
    "7. Рассчитываем уровни Фибоначчи, которые используются для оценки потенциальных уровней поддержки и сопротивления. Часто применяются трейдерами для постановки целей и стоп-лоссов.\n",
    "8. При наличии колонки объёма рассчитываем накопленный объём торгов (OBV) и скользящую среднюю объёма. Эти показатели помогают выявить скрытые накопления или распродажи актива, которые не видны по цене.\n",
    "9. После расчёта всех индикаторов мы заполняем пропущенные значения по числовым колонкам средними значениями.\n",
    "\n",
    "В результате мы получаем очищенные и обогащённые техническими индикаторами исторические данные (в том числе по акции ПАО «Татнефть»), содержащие большое количество признаков, которые можно использовать для построения моделей машинного обучения и нейросетей."
   ]
  },
  {
   "cell_type": "code",
   "execution_count": 7,
   "id": "3707d0a8-5fcd-417f-9620-72c2fd309e4f",
   "metadata": {},
   "outputs": [
    {
     "name": "stderr",
     "output_type": "stream",
     "text": [
      "Индикаторы и NaN:  17%|███████████                                                       | 1/6 [00:00<00:01,  3.57it/s]"
     ]
    },
    {
     "name": "stdout",
     "output_type": "stream",
     "text": [
      "Обработано и сохранено: Brent Oil Futures Historical Data with indicators.csv\n"
     ]
    },
    {
     "name": "stderr",
     "output_type": "stream",
     "text": [
      "Индикаторы и NaN:  33%|██████████████████████                                            | 2/6 [00:00<00:01,  3.68it/s]"
     ]
    },
    {
     "name": "stdout",
     "output_type": "stream",
     "text": [
      "Обработано и сохранено: EUR_RUB Historical Data with indicators.csv\n"
     ]
    },
    {
     "name": "stderr",
     "output_type": "stream",
     "text": [
      "Индикаторы и NaN:  50%|█████████████████████████████████                                 | 3/6 [00:00<00:00,  3.72it/s]"
     ]
    },
    {
     "name": "stdout",
     "output_type": "stream",
     "text": [
      "Обработано и сохранено: MOEX Russia Index Historical Data with indicators.csv\n"
     ]
    },
    {
     "name": "stderr",
     "output_type": "stream",
     "text": [
      "Индикаторы и NaN:  67%|████████████████████████████████████████████                      | 4/6 [00:01<00:00,  3.71it/s]"
     ]
    },
    {
     "name": "stdout",
     "output_type": "stream",
     "text": [
      "Обработано и сохранено: S&P 500 Historical Data with indicators.csv\n"
     ]
    },
    {
     "name": "stderr",
     "output_type": "stream",
     "text": [
      "Индикаторы и NaN:  83%|███████████████████████████████████████████████████████           | 5/6 [00:01<00:00,  3.50it/s]"
     ]
    },
    {
     "name": "stdout",
     "output_type": "stream",
     "text": [
      "Обработано и сохранено: TATNEFT Stock Price History with indicators.csv\n"
     ]
    },
    {
     "name": "stderr",
     "output_type": "stream",
     "text": [
      "Индикаторы и NaN: 100%|██████████████████████████████████████████████████████████████████| 6/6 [00:01<00:00,  3.63it/s]"
     ]
    },
    {
     "name": "stdout",
     "output_type": "stream",
     "text": [
      "Обработано и сохранено: USD_RUB Historical Data with indicators.csv\n"
     ]
    },
    {
     "name": "stderr",
     "output_type": "stream",
     "text": [
      "\n"
     ]
    }
   ],
   "source": [
    "# Функция расчёта тех. индикаторов\n",
    "def add_technical_indicators(df):\n",
    "    price = df['Price']  # цена закрытия\n",
    "    high = df['High']    # максимум за день\n",
    "    low = df['Low']      # минимум за день\n",
    "\n",
    "    # EMA (экспоненциальные скользящие средние)\n",
    "    df['EMA_5'] = price.ewm(span=5).mean()      # краткосрочная EMA\n",
    "    df['EMA_14'] = price.ewm(span=14).mean()    # среднесрочная EMA\n",
    "    df['EMA_50'] = price.ewm(span=50).mean()    # долгосрочная EMA\n",
    "\n",
    "    # RSI (индекс относительной силы)\n",
    "    delta = price.diff()                            # разница между текущей и предыдущей ценой\n",
    "    gain = np.where(delta > 0, delta, 0)            # положительные изменения\n",
    "    loss = np.where(delta < 0, -delta, 0)           # отрицательные изменения\n",
    "    avg_gain = pd.Series(gain).rolling(14).mean()   # средний рост за 14 дней\n",
    "    avg_loss = pd.Series(loss).rolling(14).mean()   # среднее падение за 14 дней\n",
    "    rs = avg_gain / avg_loss                        # отношение роста к падению\n",
    "    df['RSI_14'] = 100 - (100 / (1 + rs))           # итоговый RSI (перекупленность/перепроданность)\n",
    "\n",
    "    # MACD (расхождение скользящих средних)\n",
    "    ema12 = price.ewm(span=12).mean()                        # быстрая EMA\n",
    "    ema26 = price.ewm(span=26).mean()                        # медленная EMA\n",
    "    df['MACD'] = ema12 - ema26                               # основная MACD линия\n",
    "    df['MACD_signal'] = df['MACD'].ewm(span=9).mean()        # сигнальная линия MACD\n",
    "    df['MACD_diff'] = df['MACD'] - df['MACD_signal']         # разница между линиями (сила сигнала)\n",
    "    df['MACD_cross'] = df['MACD_diff'].apply(np.sign).diff() # смена знака — точка пересечения (вход/выход)\n",
    "\n",
    "    # Bollinger Bands (полосы Боллинджера)\n",
    "    sma20 = price.rolling(20).mean()                  # скользящая средняя за 20 дней\n",
    "    std20 = price.rolling(20).std()                   # стандартное отклонение\n",
    "    df['BB_upper'] = sma20 + 2 * std20                # верхняя граница\n",
    "    df['BB_lower'] = sma20 - 2 * std20                # нижняя граница\n",
    "    df['BB_width'] = df['BB_upper'] - df['BB_lower']  # ширина полос (волатильность)\n",
    "\n",
    "    # ATR (средний истинный диапазон)\n",
    "    tr1 = high - low                                     # диапазон дня\n",
    "    tr2 = abs(high - price.shift())                      # разница high и предыдущей цены\n",
    "    tr3 = abs(low - price.shift())                       # разница low и предыдущей цены\n",
    "    tr = pd.concat([tr1, tr2, tr3], axis=1).max(axis=1)  # выбираем максимум из трёх\n",
    "    df['ATR_14'] = tr.rolling(14).mean()                 # среднее значение за 14 дней\n",
    "\n",
    "    # ROC (изменение цены в %)\n",
    "    df['ROC_10'] = price.pct_change(10) * 100   # изменение цены за 10 дней в процентах\n",
    "\n",
    "    # Уровни Фибоначчи (уровни поддержки/сопротивления)\n",
    "    period = 14\n",
    "    high_roll = high.rolling(period).max()      # максимум за период\n",
    "    low_roll = low.rolling(period).min()        # минимум за период\n",
    "    df['Fibo_23'] = high_roll - (high_roll - low_roll) * 0.236\n",
    "    df['Fibo_38'] = high_roll - (high_roll - low_roll) * 0.382\n",
    "    df['Fibo_50'] = high_roll - (high_roll - low_roll) * 0.5\n",
    "    df['Fibo_61'] = high_roll - (high_roll - low_roll) * 0.618\n",
    "    df['Fibo_78'] = high_roll - (high_roll - low_roll) * 0.786\n",
    "\n",
    "    # Индикаторы объёма\n",
    "    if 'Vol.' in df.columns and df['Vol.'].notna().sum() > 0:\n",
    "        volume = df['Vol.'].fillna('0').replace({'K': 'e3', 'M': 'e6', 'B': 'e9'}, regex=True)   # заменяем обозначения \n",
    "        vol_numeric = volume.apply(lambda x: eval(x) if isinstance(x, str) and x.strip() else 0) # преобразуем в число\n",
    "        direction = np.where(price.diff() > 0, 1, np.where(price.diff() < 0, -1, 0))             # направление движения цены\n",
    "        df['OBV'] = (direction * vol_numeric).cumsum()                                           # кумулятивный объём\n",
    "        df['Volume_MA_10'] = vol_numeric.rolling(10).mean()                                      # скользящая средняя объёма\n",
    "\n",
    "    return df\n",
    "\n",
    "\n",
    "# Пути\n",
    "input_dir = Path(r\"C:\\VKR_Almaz_Mamatov\\VKR_Almaz_Mamatov_DS_16\\Part_1\\Обработанные данные\")\n",
    "output_dir = Path(r\"C:\\VKR_Almaz_Mamatov\\VKR_Almaz_Mamatov_DS_16\\Part_1\\Данные с индикаторами\")\n",
    "output_dir.mkdir(parents=True, exist_ok=True)  # создаём папку, если её нет\n",
    "\n",
    "# Список файлов для обработки\n",
    "files = [\n",
    "    \"Brent Oil Futures Historical Data.csv\",\n",
    "    \"EUR_RUB Historical Data.csv\",\n",
    "    \"MOEX Russia Index Historical Data.csv\",\n",
    "    \"S&P 500 Historical Data.csv\",\n",
    "    \"TATNEFT Stock Price History.csv\",\n",
    "    \"USD_RUB Historical Data.csv\"\n",
    "]\n",
    "\n",
    "# Расчёт индикаторов и заполнение NaN\n",
    "for file in tqdm(files, desc=\"Индикаторы и NaN\"):\n",
    "    df = pd.read_csv(input_dir / file)\n",
    "    df = add_technical_indicators(df)\n",
    "\n",
    "    numeric_cols = df.select_dtypes(include='number').columns\n",
    "    df[numeric_cols] = df[numeric_cols].apply(lambda col: col.fillna(col.mean()))\n",
    "\n",
    "    new_name = file.replace(\".csv\", \" with indicators.csv\")\n",
    "    df.to_csv(output_dir / new_name, index=False, encoding='utf-8-sig')\n",
    "    print(f\"Обработано и сохранено: {new_name}\")"
   ]
  },
  {
   "cell_type": "markdown",
   "id": "672f2603-6d4a-4336-86b0-002b2ea57bae",
   "metadata": {},
   "source": [
    "#### Блок 3. Объединение обработанных файлов в один DataFrame по дате и обработка NaN"
   ]
  },
  {
   "cell_type": "markdown",
   "id": "ef487863-d976-478b-9286-3a7d82242ebc",
   "metadata": {},
   "source": [
    "В данном блоке кода мы объединяем все подготовленные исторические данные, полученные с сайта Investing.com, в один целостный DataFrame. Все входные таблицы предварительно дополнены техническими индикаторами и представляют разные аспекты финансового рынка. Это объединение позволяет сконцентрировать всю важную рыночную информацию в одном пространстве признаков — по каждой дате мы будем иметь полный контекст для анализа и предсказания движения акций.\n",
    "\n",
    "В данном блоке мы проводим следующие операции:\n",
    "\n",
    "1. Загружаем основной файл с котировками ПАО «Татнефть», так как он является центральным для анализа.\n",
    "2. Последовательно присоединяем к нему остальные файлы по столбцу *Date*, используя *left join*. Таким образом, мы сохраняем все даты из основной таблицы и дополняем данными по основным котировкам и техническим индикаторам.\n",
    "3. Чтобы избежать пересечений в названиях колонок, к каждому признаку из присоединяемых таблиц добавляется уникальный префикс — например, *Brent_Close*, *SP500_RSI_14*, *USD_RUB_MACD* и т. д.\n",
    "4. После объединения заполняем все пропущенные значения в числовых колонках средними значениями по соответствующему столбцу. Это обеспечивает корректную работу моделей, для которых наличие `NaN` может быть критично.\n",
    "\n",
    "В результате мы получаем единый, технически обогащённый и полностью очищенный DataFrame, содержащий синхронизированную информацию по всем ключевым экономическим индикаторам. Эти данные станут основой для построения моделей машинного обучения, нейросетей и предсказания направления цены акции."
   ]
  },
  {
   "cell_type": "code",
   "execution_count": 8,
   "id": "36432e31-8ee8-453e-a155-fcaf41c16ca2",
   "metadata": {},
   "outputs": [
    {
     "name": "stdout",
     "output_type": "stream",
     "text": [
      "Объединённый DataFrame сохранён: Объединенный DataFrame.csv\n"
     ]
    }
   ],
   "source": [
    "# Папки с файлами\n",
    "input_dir = Path(r\"C:\\VKR_Almaz_Mamatov\\VKR_Almaz_Mamatov_DS_16\\Part_1\\Данные с индикаторами\")  \n",
    "output_dir = Path(r\"C:\\VKR_Almaz_Mamatov\\VKR_Almaz_Mamatov_DS_16\\Part_1\\Объедененный ДФ\")  \n",
    "output_dir.mkdir(parents=True, exist_ok=True) # Создаём папку для сохранения, если она ещё не существует\n",
    "\n",
    "# Задаём словарь с названиями файлов и соответствующими префиксами для всех колонок кроме даты\n",
    "file_prefixes = {  \n",
    "    \"TATNEFT Stock Price History with indicators.csv\": \"TATNEFT\",\n",
    "    \"Brent Oil Futures Historical Data with indicators.csv\": \"Brent\",\n",
    "    \"EUR_RUB Historical Data with indicators.csv\": \"EUR_RUB\",\n",
    "    \"MOEX Russia Index Historical Data with indicators.csv\": \"MOEX\",\n",
    "    \"S&P 500 Historical Data with indicators.csv\": \"SP500\",\n",
    "    \"USD_RUB Historical Data with indicators.csv\": \"USD_RUB\"\n",
    "}  \n",
    "\n",
    "# Определяем основной файл (Татнефть), к которому будем присоединять остальные\n",
    "main_file = \"TATNEFT Stock Price History with indicators.csv\"\n",
    "main_df = pd.read_csv(input_dir / main_file, encoding='utf-8-sig')\n",
    "\n",
    "\n",
    "for file, prefix in file_prefixes.items():  \n",
    "    if file == main_file:\n",
    "        continue\n",
    "    df = pd.read_csv(input_dir / file, encoding='utf-8-sig')\n",
    "    df = df.rename(columns={col: f\"{prefix}_{col}\" for col in df.columns if col != \"Date\"})\n",
    "    main_df = pd.merge(main_df, df, on=\"Date\", how=\"left\")\n",
    "    \n",
    "\n",
    "numeric_cols = main_df.select_dtypes(include='number').columns\n",
    "main_df[numeric_cols] = main_df[numeric_cols].apply(lambda col: col.fillna(col.mean()))\n",
    "\n",
    "output_path = output_dir / \"Объединенный DataFrame.csv\"\n",
    "\n",
    "main_df.to_csv(output_path, index=False, encoding='utf-8-sig')\n",
    "\n",
    "print(f\"Объединённый DataFrame сохранён: {output_path.name}\")\n"
   ]
  },
  {
   "cell_type": "markdown",
   "id": "b5919598-9f8b-4d60-a6a5-236639306e78",
   "metadata": {},
   "source": [
    "#### Блок 4. Сбор, фильтрация и очистка новостей из Telegram-архива @markettwits"
   ]
  },
  {
   "cell_type": "markdown",
   "id": "7f6e8dd9-282b-4ee4-bd8d-aa1fdee6b15a",
   "metadata": {},
   "source": [
    "В данном блоке кода мы выполняем полную обработку новостных сообщений, экспортированных из Telegram-канала @markettwits, в формате HTML. Этот канал был создан 07.11.2017, и его архив охватывает весь период после этой даты. Сообщения из более раннего периода (до 06.11.2017) будут дополнительно собраны с сайта Rosinvest.com и обработаны отдельно. Для Telegram-архива парсинг HTML необходим, поскольку данные были экспортированы стандартными средствами Telegram без использования API.\n",
    "\n",
    "В данном блоке мы проводим следующие операции:\n",
    "\n",
    "1. Перебираем все HTML-файлы, содержащие экспортированные сообщения, и с помощью библиотеки *BeautifulSoup* извлекаем из них дату, время, текст и хэштеги.\n",
    "2. Объединяем все полученные сообщения в единый DataFrame, строго сохраняя хронологию по дате.\n",
    "3. Применяем фильтрацию по заранее заданным комбинациям хэштегов. Оставляем только те сообщения, которые содержат ключевые тематики, такие как #TATN, #нефть, #санкции, #инфляция, #отчетность и др.\n",
    "4. Производим очистку текста сообщений — удаляем все хэштеги, эмодзи и посторонние символы, оставляя только содержательную часть сообщения. Это необходимо для корректной обработки текста на следующих этапах.\n",
    "5. Преобразуем полученные данные в финальный формат и сохраняем очищенный и отфильтрованный набор новостей в CSV-файл.\n",
    "\n",
    "В результате мы получаем структурированный, фильтрованный и очищенный набор новостных сообщений из Telegram, готовый для текстового анализа, извлечения признаков с помощью моделей типа RuBERT и дальнейшего использования в качестве входных данных для прогнозных моделей."
   ]
  },
  {
   "cell_type": "code",
   "execution_count": 9,
   "id": "5ca15cd4-4d92-4889-9484-7c28efa77634",
   "metadata": {},
   "outputs": [
    {
     "name": "stderr",
     "output_type": "stream",
     "text": [
      "Обработка HTML-файлов: 100%|█████████████████████████████████████████████████████████| 324/324 [13:07<00:00,  2.43s/it]\n"
     ]
    },
    {
     "name": "stdout",
     "output_type": "stream",
     "text": [
      "Сохранено 11528 релевантных и очищенных сообщений в файл:\n",
      "C:\\VKR_Almaz_Mamatov\\VKR_Almaz_Mamatov_DS_16\\Part_1\\Текстовые данные\\Собранные новости — очищенные.csv\n"
     ]
    }
   ],
   "source": [
    "# Папки с файлами\n",
    "folder_path = Path(r\"C:\\VKR_Almaz_Mamatov\\VKR_Almaz_Mamatov_DS_16\\Part_1\\Сбор данных\\ChatExport_2025-07-08\")\n",
    "save_path = Path(r\"C:\\VKR_Almaz_Mamatov\\VKR_Almaz_Mamatov_DS_16\\Part_1\\Текстовые данные\\Собранные новости — очищенные.csv\")\n",
    "\n",
    "# Список для хранения сообщений\n",
    "all_messages = []\n",
    "\n",
    "# Обрабатываем HTML-файлы с прогресс-баром\n",
    "html_files = list(folder_path.glob(\"*.html\"))\n",
    "for file in tqdm(html_files, desc=\"Обработка HTML-файлов\"):\n",
    "    with open(file, encoding='utf-8') as f:\n",
    "        soup = BeautifulSoup(f, 'html.parser')\n",
    "    current_date = None\n",
    "\n",
    "    for msg in soup.select('.message'):\n",
    "        service_block = msg.select_one('.message.service .body')\n",
    "        if service_block:\n",
    "            try:\n",
    "                parsed_date = pd.to_datetime(service_block.get_text(strip=True), format='%d %B %Y')\n",
    "                current_date = parsed_date.strftime('%Y-%m-%d')\n",
    "                continue\n",
    "            except ValueError:\n",
    "                continue\n",
    "\n",
    "        time_tag = msg.select_one('.pull_right.date')\n",
    "        text_tag = msg.select_one('.text')\n",
    "\n",
    "        if time_tag and text_tag:\n",
    "            msg_time = time_tag.get_text(strip=True)\n",
    "            full_text = text_tag.get_text(separator=' ', strip=True)\n",
    "\n",
    "            hashtags = [\n",
    "                a.get_text(strip=True)\n",
    "                for a in text_tag.select('a')\n",
    "                if a.get('onclick', '').startswith('return ShowHashtag')\n",
    "            ]\n",
    "            hashtags_combined = ','.join(hashtags) if hashtags else ''\n",
    "\n",
    "            all_messages.append({\n",
    "                'date': current_date,\n",
    "                'time': msg_time,\n",
    "                'title': full_text,\n",
    "                'hashtags': hashtags_combined\n",
    "            })\n",
    "\n",
    "df = pd.DataFrame(all_messages)                             # создаём DataFrame из списка сообщений\n",
    "df['date'] = pd.to_datetime(df['date'], errors='coerce')\n",
    "\n",
    "required_combinations = [                                   # список нужных сочетаний хэштегов\n",
    "    {'#дкп', '#россия', '#прогноз'},\n",
    "    {'#инфляциярф'},\n",
    "    {'#инфляция', '#россия', '#опрос'},\n",
    "    {'#TATN'},\n",
    "    {'#TATN', '#дивиденд'},\n",
    "    {'#TATN', '#отчетность'},\n",
    "    {'#нефть', '#опек'},\n",
    "    {'#нефть', '#прогноз'},\n",
    "    {'#опек', '#нефть'},\n",
    "    {'#нефть', '#россия', '#опек'},\n",
    "    {'#санкции', '#россия'}\n",
    "]\n",
    "\n",
    "# Функция для проверки хэштегов\n",
    "def has_required_combination(tag_string):                    \n",
    "    if pd.isna(tag_string):\n",
    "        return False\n",
    "    tags = {tag.strip().lower() for tag in tag_string.split(',')}\n",
    "    for combo in required_combinations:\n",
    "        if combo.issubset(tags):\n",
    "            return True\n",
    "    return False\n",
    "\n",
    "df = df[df['hashtags'].apply(has_required_combination)]     # фильтруем только релевантные новости\n",
    "\n",
    "# Функция очистки текста от мусора\n",
    "def clean_text(text):                                       \n",
    "    if pd.isna(text):\n",
    "        return ''\n",
    "    text = re.sub(r'#\\S+', '', text)\n",
    "    text = re.sub(r'[^\\w\\s\\.,!?%-]', '', text)\n",
    "    text = re.sub(r'\\s+', ' ', text).strip()\n",
    "    return text\n",
    "\n",
    "df['title'] = df['title'].astype(str).apply(clean_text)     # применяем очистку к каждому сообщению\n",
    "df.drop(columns=['hashtags'], inplace=True)                 # удаляем колонку с хэштегами\n",
    "\n",
    "df.to_csv(save_path, index=False, encoding='utf-8-sig')\n",
    "print(f\"Сохранено {len(df)} релевантных и очищенных сообщений в файл:\\n{save_path}\")\n"
   ]
  },
  {
   "cell_type": "markdown",
   "id": "74f3dcda-8497-4a15-9a89-885ab35fbec5",
   "metadata": {},
   "source": [
    "#### Блок 5. Парсинг, фильтрация и сохранение релевантных новостей с сайта Rosinvest за период 2012–2017 гг."
   ]
  },
  {
   "cell_type": "markdown",
   "id": "beeeab6f-d6e5-4fbd-83ff-6370a08381f5",
   "metadata": {},
   "source": [
    "В данном блоке кода мы выполняем сбор и предварительную фильтрацию новостей с сайта Rosinvest.com за период с 01.01.2012 по 06.11.2017. Эти данные охватывают исторический отрезок до появления Telegram-канала @markettwits и необходимы для формирования полной хронологии новостного фона, так как котировки были выгружены начиная с 01.01.2012. В отличие от Telegram, здесь отсутствует готовый архив сообщений, поэтому сбор осуществляется путём парсинга веб-страниц архива новостей Rosinvest по дням.\n",
    "\n",
    "В данном блоке мы проводим следующие операции:\n",
    "\n",
    "1. Задаём временной диапазон новостей (от 2012 до 2017 года), директорию сохранения и шаблон ссылок для перехода к архиву за каждый конкретный день.\n",
    "2. По каждой дате формируем ссылку на страницу архива и отправляем GET-запрос. При успешном ответе разбираем HTML-документ и извлекаем все новостные блоки с заголовками и временем публикации.\n",
    "3. Добавляем искусственную задержку между запросами, чтобы избежать блокировки со стороны сайта.\n",
    "4. Сохраняем все собранные заголовки в единый CSV-файл, содержащий дату, время и текст заголовка.\n",
    "5. Переходим к фильтрации: оставляем только те новости, в которых встречаются ключевые слова — Татнефть, ОПЕК, Brent, ММВБ и т. д. Фильтрация осуществляется с помощью регулярных выражений, учитывающих разные формы написания.\n",
    "6. Удаляем дубликаты заголовков и сохраняем финальный файл с отфильтрованными релевантными новостями в отдельный CSV-файл.\n",
    "\n",
    "В результате получается чистый набор заголовков с сайта Rosinvest, охватывающий дополняющий период до 2017 года. Этот набор будет объединён с новостями, полученными с Telegram-канала @markettwits."
   ]
  },
  {
   "cell_type": "code",
   "execution_count": 6,
   "id": "a17af188-f08f-49a3-8a09-cf1ea337d5ae",
   "metadata": {},
   "outputs": [
    {
     "name": "stderr",
     "output_type": "stream",
     "text": [
      "Парсинг Rosinvest: 100%|█████████████████████████████████████████████████████████| 2137/2137 [2:14:24<00:00,  3.77s/it]\n"
     ]
    },
    {
     "name": "stdout",
     "output_type": "stream",
     "text": [
      "\n",
      "Сохранено 189571 новостей Rosinvest в файл:\n",
      "C:\\Users\\Администратор\\Desktop\\Аналитик данных\\Дипломная работа\\Текстовые данные\\Новости росинвест\\rosinvest_2012_2017.csv\n",
      "Сохранено 1558 релевантных новостей из Rosinvest в файл:\n",
      "C:\\Users\\Администратор\\Desktop\\Аналитик данных\\Дипломная работа\\Текстовые данные\\Новости росинвест\\rosinvest_2012_2017_релевантные.csv\n"
     ]
    }
   ],
   "source": [
    "# Параметры парсинга\n",
    "start_date = datetime(2012, 1, 1)\n",
    "end_date = datetime(2017, 11, 6)\n",
    "\n",
    "# Пути\n",
    "save_dir = Path(r\"C:\\VKR_Almaz_Mamatov\\VKR_Almaz_Mamatov_DS_16\\Part_1\\Текстовые данные\\Новости росинвест\") \n",
    "save_dir.mkdir(parents=True, exist_ok=True)\n",
    "\n",
    "save_file = save_dir / \"rosinvest_2012_2017.csv\"\n",
    "\n",
    "# Шаблон ссылки на страницу архива новостей за конкретный день\n",
    "url_template = \"https://rosinvest.com/novosti/archives/d/{}/\"\n",
    "\n",
    "news_data = []\n",
    "\n",
    "# Основной цикл парсинга по датам\n",
    "for date in tqdm(pd.date_range(start_date, end_date), desc=\"Парсинг Rosinvest\"):\n",
    "    date_str = date.strftime('%Y%m%d')\n",
    "    url = url_template.format(date_str)\n",
    "\n",
    "    try:\n",
    "        response = requests.get(url, timeout=20)  # отправляем GET-запрос\n",
    "        response.raise_for_status()               # проверяем, не вернул ли сервер ошибку\n",
    "    except Exception as e:\n",
    "        print(f\"❌ Ошибка загрузки {url}: {e}\")\n",
    "        continue\n",
    "\n",
    "    soup = BeautifulSoup(response.content, \"html.parser\")    # парсим HTML контент страницы\n",
    "    news_blocks = soup.find_all(\"font\", class_=\"arh-ulopt\")  # находим блоки с новостями\n",
    "\n",
    "    if not news_blocks:\n",
    "        continue \n",
    "\n",
    "    for block in news_blocks:\n",
    "        try:\n",
    "            time_tag = block.find(\"font\", class_=\"arh-yzo\")  # вытаскиваем время публикации\n",
    "            a_tag = block.find(\"a\")                          # вытаскиваем заголовок новости\n",
    "\n",
    "            if time_tag and a_tag:\n",
    "                time_str = time_tag.text.strip()\n",
    "                news_data.append({                      # добавляем новость в список\n",
    "                    \"date\": date.strftime(\"%Y-%m-%d\"),\n",
    "                    \"time\": time_str,\n",
    "                    \"title\": a_tag.text.strip()\n",
    "                })\n",
    "        except Exception as e:\n",
    "            print(f\"Ошибка при разборе блока на {url}: {e}\")\n",
    "            continue\n",
    "\n",
    "    time.sleep(1.5)  # задержка между запросами для защиты от бана\n",
    "\n",
    "# Сохраняем все спарсенные новости\n",
    "df_ros = pd.DataFrame(news_data)\n",
    "df_ros.to_csv(save_file, index=False, encoding='utf-8-sig')\n",
    "print(f\"\\nСохранено {len(df_ros)} новостей Rosinvest в файл:\\n{save_file}\")\n",
    "\n",
    "# Фильтрация релевантных новостей\n",
    "input_file = save_file\n",
    "output_file = save_dir / \"rosinvest_2012_2017_релевантные.csv\"\n",
    "\n",
    "df = pd.read_csv(input_file, encoding='utf-8-sig')\n",
    "\n",
    "if 'title' not in df.columns:\n",
    "    raise ValueError(\"В файле отсутствует колонка 'title'.\")\n",
    "\n",
    "# Ключевые слова для фильтрации\n",
    "keywords = [\n",
    "    r'\\bТатнефть\\b',\n",
    "    r'\\bОПЕК\\b',\n",
    "    r'\\bBrent\\b',\n",
    "    r'\\bММВБ\\b',\n",
    "    r'\\bиндекс ММВБ\\b'\n",
    "]\n",
    "\n",
    "pattern = re.compile('|'.join(keywords), flags=re.IGNORECASE) # создаём шаблон регулярки по ключевым словам\n",
    "\n",
    "# Применяем фильтрацию по заголовкам\n",
    "df_filtered = df[df['title'].astype(str).apply(lambda x: bool(pattern.search(x)))]\n",
    "\n",
    "df_filtered = df_filtered.drop_duplicates(subset='title') # удаляем дублирующиеся заголовки\n",
    "\n",
    "df_filtered.to_csv(output_file, index=False, encoding='utf-8-sig')\n",
    "print(f\"Сохранено {len(df_filtered)} релевантных новостей из Rosinvest в файл:\\n{output_file}\")\n"
   ]
  },
  {
   "cell_type": "markdown",
   "id": "a62391b2-0255-4d81-acda-011c1d1bde24",
   "metadata": {},
   "source": [
    "#### Блок 6. Объединение новостей из Telegram и Rosinvest в единый CSV"
   ]
  },
  {
   "cell_type": "markdown",
   "id": "7a4b1bf8-54ad-4993-b89c-0252d2705ea5",
   "metadata": {},
   "source": [
    "В данном блоке мы объединяем релевантные и предварительно очищенные новостные сообщения, собранные из двух различных источников: Telegram-канала @markettwits и сайта Rosinvest за 2012–2017 годы. Это необходимо для формирования единого DataFrame текстов, на основе которого в дальнейшем будут извлекаться признаки и рассчитываться эмбеддинги с помощью модели RuBERT.\n",
    "\n",
    "В данном блоке мы выполняем следующие операции:\n",
    "\n",
    "1. Задаём пути к ранее сформированным CSV-файлам с отфильтрованными новостями из Telegram (*path_tg*) и Rosinvest (*path_ros*). Также указываем путь для сохранения итогового объединённого файла (*output_path*).\n",
    "2. Загружаем оба файла в отдельные DataFrame’ы с указанием кодировки `utf-8-sig`, чтобы избежать проблем с кириллицей при чтении.\n",
    "3. Проверяем, что в обоих источниках присутствуют необходимые колонки: *date*, *time*, *title*. В случае отсутствия хотя бы одной из них выбрасываем ошибку.\n",
    "4. Объединяем оба источника новостей в один DataFrame с помощью `pd.concat`, не нарушая порядок строк.\n",
    "5. Удаляем пустые строки и заголовки, содержащие только пробелы, чтобы исключить мусорные данные.\n",
    "6. Преобразуем значения *date* и *time* в один столбец *datetime* и выполняем сортировку по убыванию — от самых новых к более старым новостям.\n",
    "7. После сортировки удаляем временный столбец *datetime* и сохраняем итоговый файл в формате CSV с полной новостной лентой за весь период наблюдений.\n",
    "\n",
    "В результате получаем структурированный и хронологически упорядоченный набор релевантных новостей, охватывающий период с 01.01.2012 года по 02.06.2025. Этот датасет будет использоваться как текстовая компонента при построении прогнозных моделей на основе RuBERT."
   ]
  },
  {
   "cell_type": "code",
   "execution_count": 10,
   "id": "54ed4b8e-e91d-497f-879d-b786bddb6b91",
   "metadata": {},
   "outputs": [
    {
     "name": "stdout",
     "output_type": "stream",
     "text": [
      "Объединено 13029 новостей из Telegram и Rosinvest.\n",
      "Сохранено в файл:\n",
      "C:\\VKR_Almaz_Mamatov\\VKR_Almaz_Mamatov_DS_16\\Part_1\\Текстовые данные\\все_релевантные_новости_объединено.csv\n"
     ]
    }
   ],
   "source": [
    "# Пути к файлам\n",
    "path_tg = Path(r\"C:\\VKR_Almaz_Mamatov\\VKR_Almaz_Mamatov_DS_16\\Part_1\\Текстовые данные\\Собранные новости — очищенные.csv\")\n",
    "path_ros = Path(r\"C:\\VKR_Almaz_Mamatov\\VKR_Almaz_Mamatov_DS_16\\Part_1\\Текстовые данные\\Новости росинвест\\rosinvest_2012_2017_релевантные.csv\")\n",
    "output_path = path_tg.parent / \"все_релевантные_новости_объединено.csv\" # путь, куда будет сохранён объединённый файл с новостями\n",
    "\n",
    "# Загружаем Telegram новости\n",
    "df_tg = pd.read_csv(path_tg, encoding='utf-8-sig')\n",
    "\n",
    "# Загружаем Rosinvest новости\n",
    "df_ros = pd.read_csv(path_ros, encoding='utf-8-sig')\n",
    "\n",
    "# Проверяем наличие необходимых колонок\n",
    "for df_name, df in [(\"Telegram\", df_tg), (\"Rosinvest\", df_ros)]:\n",
    "    if not all(col in df.columns for col in ['date', 'time', 'title']):\n",
    "        raise ValueError(f\"{df_name} — отсутствуют необходимые колонки ['date', 'time', 'title']\")\n",
    "\n",
    "# Объединяем обе таблицы в одну\n",
    "df_all = pd.concat([df_tg, df_ros], ignore_index=True)\n",
    "\n",
    "# Удаляем строки без заголовка\n",
    "df_all = df_all[df_all['title'].notna() & (df_all['title'].str.strip() != '')]\n",
    "\n",
    "# Преобразуем date + time в datetime для сортировки\n",
    "df_all['datetime'] = pd.to_datetime(df_all['date'].astype(str) + ' ' + df_all['time'].astype(str), errors='coerce')\n",
    "\n",
    "# Сортировка по убыванию\n",
    "df_all = df_all.sort_values(by='datetime', ascending=False)\n",
    "\n",
    "# Удаляем временный столбец\n",
    "df_all = df_all[['date', 'time', 'title']]\n",
    "\n",
    "# Сохраняем результат\n",
    "df_all.to_csv(output_path, index=False, encoding='utf-8-sig')\n",
    "print(f\"Объединено {len(df_all)} новостей из Telegram и Rosinvest.\")\n",
    "print(f\"Сохранено в файл:\\n{output_path}\")"
   ]
  },
  {
   "cell_type": "markdown",
   "id": "778da259-75ff-4ad9-a043-67a035e868ea",
   "metadata": {},
   "source": [
    "#### Блок 7. Получение embeddings из текста с помощью RuBERT"
   ]
  },
  {
   "cell_type": "markdown",
   "id": "40860fb3-291c-4df7-b8a3-74a53ea2a287",
   "metadata": {},
   "source": [
    "В данном блоке мы выполняем преобразование текстов новостей в числовые эмбеддинги с помощью предобученной языковой модели RuBERT от Сбера. Полученные эмбеддинги впоследствии будут использованы в качестве входных признаков для построения прогнозных моделей.\n",
    "\n",
    "В данном блоке мы выполняем следующие операции:\n",
    "\n",
    "1. Задаём путь к файлу с объединёнными и отфильтрованными новостями (*input_path*) и указываем путь, по которому будут сохранены эмбеддинги (*output_path*).\n",
    "2. Проверяем наличие доступного графического процессора (GPU) и, если он доступен, используем его для ускорения расчётов. В противном случае используется CPU.\n",
    "3. Загружаем токенизатор и модель RuBERT (*sberbank-ai/ruBert-base*) с HuggingFace. Токенизатор преобразует текст в числовые токены, которые понятны модели. Модель переводим в режим предсказания и переносим на доступное устройство (GPU или CPU) для ускорения генерации эмбеддингов.\n",
    "4. Загружаем тексты новостей из файла, приводим их к строковому типу и удаляем возможные пропущенные значения.\n",
    "5. Выполняем дополнительную очистку текстов, а именно: удаляем ссылки, HTML-теги, управляющие символы, приводим текст к нижнему регистру и удаляем лишние пробелы, так как это снижает шум и повышает качество эмбеддингов.\n",
    "6. Применяем функцию очистки ко всем новостным сообщениям, получая список подготовленных строк.\n",
    "7. Для каждого текста вычисляем эмбеддинг, а именно: выполняем токенизацию, подаём токены в модель и извлекаем скрытое представление первого служебного токена (*CLS*), который несёт максимальную информацию о содержании всей новости в компактной форме.\n",
    "8. Сохраняем все полученные эмбеддинги в отдельный DataFrame, где каждый столбец соответствует отдельному числовому признаку.\n",
    "9. Объединяем эмбеддинги с исходными колонками даты и времени, исключая текстовую часть.\n",
    "10. Сохраняем итоговый DataFrame с эмбеддингами в CSV-файл с кодировкой `utf-8-sig`.\n",
    "\n",
    "В результате формируется готовый к использованию числовой набор признаков, отражающих семантику новостных сообщений. Этот набор можно напрямую использовать для обучения моделей машинного обучения и нейросетей."
   ]
  },
  {
   "cell_type": "code",
   "execution_count": 11,
   "id": "7badb16d-e2ce-4992-adb2-791c47322ee0",
   "metadata": {},
   "outputs": [
    {
     "name": "stdout",
     "output_type": "stream",
     "text": [
      "Используется устройство: cuda\n"
     ]
    },
    {
     "name": "stderr",
     "output_type": "stream",
     "text": [
      "Генерация эмбеддингов RuBERT: 100%|██████████████████████████████████████████████| 13029/13029 [08:23<00:00, 25.88it/s]\n"
     ]
    },
    {
     "name": "stdout",
     "output_type": "stream",
     "text": [
      "\n",
      "Эмбеддинги сохранены в файл:\n",
      "C:\\VKR_Almaz_Mamatov\\VKR_Almaz_Mamatov_DS_16\\Part_1\\Текстовые данные\\новости_rubert_embeddings.csv\n"
     ]
    }
   ],
   "source": [
    "# Пути к файлам\n",
    "input_path = Path(r\"C:\\VKR_Almaz_Mamatov\\VKR_Almaz_Mamatov_DS_16\\Part_1\\Текстовые данные\\все_релевантные_новости_объединено.csv\") \n",
    "output_path = input_path.parent / \"новости_rubert_embeddings.csv\" # путь, куда будут сохранены эмбеддинги\n",
    "\n",
    "# Проверка на GPU\n",
    "device = torch.device(\"cuda\" if torch.cuda.is_available() else \"cpu\")\n",
    "print(f\"Используется устройство: {device}\")\n",
    "\n",
    "# Загружаем модель и токенизатор\n",
    "model_name = \"sberbank-ai/ruBert-base\"\n",
    "tokenizer = AutoTokenizer.from_pretrained(model_name)\n",
    "model = AutoModel.from_pretrained(model_name).to(device)\n",
    "model.eval()\n",
    "\n",
    "# Загрузка новостей\n",
    "df = pd.read_csv(input_path, encoding='utf-8-sig')\n",
    "texts = df['title'].astype(str).fillna(\"\").tolist()\n",
    "\n",
    "# Функция очистки и приведения к нижнему регистру текста всех новостей\n",
    "def clean_text_minimal(text):\n",
    "    text = re.sub(r'https?://\\S+|www\\.\\S+', ' ', text)\n",
    "    text = re.sub(r'<.*?>', ' ', text)\n",
    "    text = re.sub(r'[\\n\\r\\t\\xa0]', ' ', text)\n",
    "    text = text.lower()\n",
    "    \n",
    "    return text.strip()\n",
    "\n",
    "\n",
    "texts_clean = [clean_text_minimal(t) for t in texts]  # применяем очистку ко всем новостям\n",
    "\n",
    "# Генерация эмбеддингов\n",
    "@torch.no_grad()  # отключаем подсчёт градиентов (ускоряет и экономит память)\n",
    "\n",
    "# Функция, которая превращает текст в эмбеддинг\n",
    "def get_embedding(text):\n",
    "    inputs = tokenizer(text, return_tensors='pt', truncation=True, padding='max_length', max_length=128)\n",
    "    inputs = {k: v.to(device) for k, v in inputs.items()}\n",
    "    outputs = model(**inputs)\n",
    "    cls_embedding = outputs.last_hidden_state[:, 0, :]\n",
    "    return cls_embedding.squeeze().cpu().numpy()\n",
    "\n",
    "# Обрабатываем все новости\n",
    "all_embeddings = []\n",
    "\n",
    "for text in tqdm(texts_clean, desc=\"Генерация эмбеддингов RuBERT\"):\n",
    "    emb = get_embedding(text)\n",
    "    all_embeddings.append(emb)\n",
    "\n",
    "# Формируем DataFrame с эмбеддингами\n",
    "embedding_df = pd.DataFrame(all_embeddings, columns=[f\"bert_{i}\" for i in range(len(all_embeddings[0]))])\n",
    "\n",
    "# Объединяем с исходной таблицей (без title)\n",
    "df_out = pd.concat([df[['date', 'time']].reset_index(drop=True), embedding_df], axis=1)\n",
    "\n",
    "# Сохраняем результат\n",
    "df_out.to_csv(output_path, index=False, encoding='utf-8-sig')  \n",
    "print(f\"\\nЭмбеддинги сохранены в файл:\\n{output_path}\")\n"
   ]
  },
  {
   "cell_type": "markdown",
   "id": "7fc62657-5ed5-43fe-864b-9eb2ed0fc973",
   "metadata": {},
   "source": [
    "#### Блок 8. Объединение котировок и embeddings новостей"
   ]
  },
  {
   "cell_type": "markdown",
   "id": "87c17b7b-285f-40bc-b5d6-2f9a4913e880",
   "metadata": {},
   "source": [
    "В данном блоке мы объединяем рыночные, макроэкономические и технические показатели с эмбеддингами новостей, полученными с помощью модели RuBERT. Это позволяет включить в итоговый DataFrame как числовые характеристики из котировок, так и текстовый новостной фон, агрегированный по дате. Такой подход необходим для построения прогностических моделей, учитывающих как поведение рынка, так и информационные сигналы.\n",
    "\n",
    "В данном блоке мы выполняем следующие операции:\n",
    "\n",
    "1. Приводим названия всех колонок в *df_quotes* к нижнему регистру для единообразия и предотвращения ошибок при объединении.\n",
    "2. Преобразуем столбец *date* в обоих DataFrame’ах к формату *datetime*, чтобы объединение прошло корректно и не возникло ошибок.\n",
    "3. Удаляем строки с некорректными датами в обоих DataFrame’ах, если такие имеются.\n",
    "4. Агрегируем эмбеддинги новостей по дате: если в один день было несколько публикаций, их эмбеддинги усредняются, чтобы получить единственное представление текстового фона за день.\n",
    "5. Объединяем два источника по дате с помощью *left join*, чтобы сохранить всю структуру по котировкам, а эмбеддинги добавлять только при наличии новостей.\n",
    "6. Заполняем пропущенные значения в эмбеддингах нулями, если в какие-то дни не было публикаций.\n",
    "7. Сохраняем итоговый объединённый DataFrame в CSV-файл для дальнейшего анализа и обучения моделей.\n",
    "\n",
    "В результате получаем датасет, в котором каждый день представлен совокупностью рыночных и текстовых признаков — это позволит учитывать не только цифры, но и контекст новостного фона."
   ]
  },
  {
   "cell_type": "code",
   "execution_count": 12,
   "id": "071726fa-e18d-4ef9-baf6-125e8e791d11",
   "metadata": {},
   "outputs": [
    {
     "name": "stdout",
     "output_type": "stream",
     "text": [
      "\n",
      "Объединённый файл с котировками и эмбеддингами сохранён:\n",
      "C:\\VKR_Almaz_Mamatov\\VKR_Almaz_Mamatov_DS_16\\Part_1\\котировки_с_rubert.csv\n"
     ]
    }
   ],
   "source": [
    "# Пути к файлам\n",
    "path_quotes = Path(r\"C:\\VKR_Almaz_Mamatov\\VKR_Almaz_Mamatov_DS_16\\Part_1\\Объедененный ДФ\\Объединенный DataFrame.csv\")\n",
    "path_bert = Path(r\"C:\\VKR_Almaz_Mamatov\\VKR_Almaz_Mamatov_DS_16\\Part_1\\Текстовые данные\\новости_rubert_embeddings.csv\")\n",
    "output_path = Path(r\"C:\\VKR_Almaz_Mamatov\\VKR_Almaz_Mamatov_DS_16\\Part_1\\котировки_с_rubert.csv\")\n",
    "\n",
    "# Загружаем данные\n",
    "df_quotes = pd.read_csv(path_quotes, encoding='utf-8-sig')\n",
    "df_bert = pd.read_csv(path_bert, encoding='utf-8-sig')\n",
    "\n",
    "# Приводим названия колонок к нижнему регистру чтобы объеденение прошло без ошибок\n",
    "df_quotes.columns = [col.lower() for col in df_quotes.columns]\n",
    "\n",
    "# Преобразуем даты к datetime чтобы объеденение прошло корректино и не возникло ошибок при обучении моделей\n",
    "df_quotes['date'] = pd.to_datetime(df_quotes['date'], errors='coerce')\n",
    "df_bert['date'] = pd.to_datetime(df_bert['date'], errors='coerce')\n",
    "\n",
    "# Удаляем строки с некорректными датами\n",
    "df_quotes = df_quotes[df_quotes['date'].notna()]\n",
    "df_bert = df_bert[df_bert['date'].notna()]\n",
    "\n",
    "# Усредняем эмбеддинги, если в один день было несколько новостей\n",
    "df_bert_agg = df_bert.groupby('date').mean(numeric_only=True).reset_index()\n",
    "\n",
    "# Объединяем котировки с эмбеддингами по дате (left join)\n",
    "df_merged = pd.merge(df_quotes, df_bert_agg, on='date', how='left')\n",
    "\n",
    "# Заполняем отсутствующие эмбеддинги нулями\n",
    "bert_cols = [col for col in df_merged.columns if col.startswith('bert_')]\n",
    "df_merged[bert_cols] = df_merged[bert_cols].fillna(0.0)\n",
    "\n",
    "# Сохраняем итоговый файл\n",
    "df_merged.to_csv(output_path, index=False, encoding='utf-8-sig')\n",
    "print(f\"\\nОбъединённый файл с котировками и эмбеддингами сохранён:\\n{output_path}\")\n"
   ]
  },
  {
   "cell_type": "code",
   "execution_count": null,
   "id": "51b8f2df-8efc-4e96-94d0-fbc58a422fda",
   "metadata": {},
   "outputs": [],
   "source": []
  }
 ],
 "metadata": {
  "kernelspec": {
   "display_name": "Python 3 (ipykernel)",
   "language": "python",
   "name": "python3"
  },
  "language_info": {
   "codemirror_mode": {
    "name": "ipython",
    "version": 3
   },
   "file_extension": ".py",
   "mimetype": "text/x-python",
   "name": "python",
   "nbconvert_exporter": "python",
   "pygments_lexer": "ipython3",
   "version": "3.10.11"
  }
 },
 "nbformat": 4,
 "nbformat_minor": 5
}
