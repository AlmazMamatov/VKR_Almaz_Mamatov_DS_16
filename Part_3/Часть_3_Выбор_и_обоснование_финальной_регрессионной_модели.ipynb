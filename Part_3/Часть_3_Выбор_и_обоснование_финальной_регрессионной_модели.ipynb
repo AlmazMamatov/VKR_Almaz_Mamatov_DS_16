{
 "cells": [
  {
   "cell_type": "markdown",
   "id": "a3c3f031-f46a-4834-9138-dd0047d642f6",
   "metadata": {},
   "source": [
    "## Часть 3. Выбор и обоснование финальной регрессионной модели"
   ]
  },
  {
   "cell_type": "markdown",
   "id": "0f083a34-2213-4d32-9eb4-f875c154c49f",
   "metadata": {},
   "source": [
    "Для прогнозирования цены акции ПАО «Татнефть» в качестве основной рассматривалась модель Temporal Fusion Transformer (TFT), так как она сочетает высокую точность с возможностью интерпретации результатов за счёт attention-механизмов и отбора признаков, эффективно работает с разнородными данными и подходит для многогоризонтного прогнозирования. В исследовании на криптовалютном рынке показано, что TFT даёт более точные прогнозы, чем LSTM, GRU, SVR и XGBoost, а также позволяет понять, какие признаки оказывают наибольшее влияние на результат прогноза (исследование: mdpi.com).\n",
    "\n",
    "Для подтверждения целесообразности использования TFT был проведён ряд экспериментов с применением как классических моделей машинного обучения (CatBoost, XGBoost), так и глубоких нейронных сетей (CNN, GRU, LSTM).\n",
    "\n",
    "Наилучшие результаты показала модель TFT, которая по всем основным метрикам (RMSE, MAE, MAPE) превзошла конкурентов, что отражено в сводной таблице метрик ниже.\n",
    "\n",
    "Почему именно TFT стала финальным выбором:\n",
    "\n",
    "1. Высокое качество прогноза — минимальные ошибки RMSE, MAE и MAPE среди всех протестированных моделей.\n",
    "2. Гибкость работы с временными рядами — учёт как долгосрочных, так и краткосрочных зависимостей за счёт сочетания рекуррентных и attention-механизмов.\n",
    "3. Стабильность — устойчивые и воспроизводимые результаты на тестовой выборке без значительного падения качества.\n",
    "\n",
    "| Модель    | RMSE       | MAE        | MAPE    |\n",
    "|-----------|-----------:|-----------:|--------:|\n",
    "| CatBoost  | 149.4578   | 131.6093   | 21.95%  |\n",
    "| XGBoost   | 185.7881   | 170.6799   | 30.34%  |\n",
    "| CNN       | 43.2257    | 33.3976    | 5.82%   |\n",
    "| GRU       | 130.1248   | 105.2222   | 21.50%  |\n",
    "| LSTM      | 99.4183    | 84.8469    | 16.40%  |\n",
    "| TFT       | **22.3654**| **18.2451**| **2.63%** |\n",
    "\n",
    "Таким образом, TFT была выбрана в качестве финальной регрессионной модели, так как на данных с историей цен, техническими индикаторами, макроэкономическими параметрами и текстовыми эмбеддингами она показала наилучший баланс между точностью прогноза, интерпретируемостью и возможностью интеграции в аналитический пайплайн."
   ]
  },
  {
   "cell_type": "markdown",
   "id": "23dcf968-d486-4614-89ee-22cdaa57b5b1",
   "metadata": {},
   "source": [
    "#### Блок 1. Импорты и регрессионная метрика"
   ]
  },
  {
   "cell_type": "code",
   "execution_count": 17,
   "id": "6d035a8a-4186-4810-b2a4-e31350d3ebe5",
   "metadata": {},
   "outputs": [],
   "source": [
    "import os\n",
    "import random\n",
    "import numpy as np\n",
    "import pandas as pd\n",
    "import torch\n",
    "import matplotlib.pyplot as plt\n",
    "from lightning.pytorch import Trainer\n",
    "from lightning.pytorch.callbacks import EarlyStopping, ModelCheckpoint, TQDMProgressBar\n",
    "from torchmetrics.regression import MeanAbsoluteError\n",
    "from sklearn.metrics import mean_absolute_error, mean_squared_error, mean_absolute_percentage_error\n",
    "from pytorch_forecasting import TemporalFusionTransformer, TimeSeriesDataSet\n",
    "from pytorch_forecasting.data import GroupNormalizer\n",
    "from pytorch_forecasting.metrics import RMSE, convert_torchmetric_to_pytorch_forecasting_metric\n",
    "from IPython.display import display\n",
    "from sklearn.preprocessing import StandardScaler\n",
    "\n",
    "# Фиксация seed\n",
    "seed = 42\n",
    "random.seed(seed)\n",
    "np.random.seed(seed)\n",
    "torch.manual_seed(seed)\n",
    "torch.cuda.manual_seed_all(seed)\n",
    "torch.backends.cudnn.deterministic = True\n",
    "torch.backends.cudnn.benchmark = False\n",
    "\n",
    "# Лосс и метрика\n",
    "loss = RMSE()\n",
    "metric = convert_torchmetric_to_pytorch_forecasting_metric(MeanAbsoluteError())\n"
   ]
  },
  {
   "cell_type": "markdown",
   "id": "3b4e8213-79f1-415c-a6d8-f95765695091",
   "metadata": {},
   "source": [
    "#### Блок 2: Подготовка данных для регрессионных моделей"
   ]
  },
  {
   "cell_type": "markdown",
   "id": "7d2f51cf-915d-4294-a34e-f356e16d5fcb",
   "metadata": {},
   "source": [
    "В данном блоке кода мы обрабатываем ДФ, полученный в Части 1 (Сбор и обработка данных), чтобы адаптировать его под требования модели TFT для решения задачи регрессии, т. е. прогнозирования цены акции ПАО «Татнефть» через 5 торговых дней. Подготовка включает приведение структуры данных к удобному формату, генерацию целевой переменной и масштабирование только части признаков, что необходимо для корректного и стабильного обучения TFT.\n",
    "\n",
    "Мы масштабируем только признаки, используемые в качестве входных данных модели, исключая признаки *date* и целевую переменную *target_5d*. Такой подход позволяет сохранить корректный временной индекс и интерпретируемость прогнозируемых значений, при этом обеспечивая единый масштаб входных данных.\n",
    "\n",
    "В данном блоке выполняются следующие операции:\n",
    "\n",
    "1. Загрузка и сортировка данных — читаем ДФ из файла CSV, преобразуем столбец с датой в формат *datetime* и сортируем строки по возрастанию даты для сохранения хронологического порядка.\n",
    "2. Очистка названий признаков — заменяем символы `.` и `%` на `_`, чтобы избежать ошибок при работе с именами признаков в коде и при сохранении данных.\n",
    "3. Генерация целевой переменной — создаём колонку *target_5d*, смещая цены на 5 торговых дней вперёд, чтобы каждая строка содержала прогнозируемое значение на этот горизонт.\n",
    "4. Удаление неполных данных — исключаем последние 5 строк, для которых целевая переменная не может быть рассчитана.\n",
    "5. Масштабирование признаков — нормализуем все числовые признаки, кроме *date* и *target_5d*, с помощью `StandardScaler`, чтобы улучшить сходимость и устойчивость обучения TFT.\n",
    "6. Объединение данных — собираем в единый ДФ немасштабированные столбцы *date* и *target_5d* с масштабированными входными признаками.\n",
    "7. Сохранение результата — записываем готовый ДФ в отдельный CSV-файл для дальнейшего обучения и тестирования модели.\n",
    "\n",
    "В результате мы получаем чистый, частично нормализованный и полностью готовый к использованию набор данных, где каждая строка содержит дату, масштабированные входные признаки и немасштабированное целевое значение, соответствующее прогнозу цены акции через 5 торговых дней."
   ]
  },
  {
   "cell_type": "code",
   "execution_count": 21,
   "id": "4b5984bd-6873-46d1-952a-33039b854566",
   "metadata": {},
   "outputs": [
    {
     "name": "stdout",
     "output_type": "stream",
     "text": [
      "Файл сохранён: C:\\Users\\Администратор\\Desktop\\Аналитик данных\\Дипломная работа\\DL\\Регрессия\\tatn_weekly_REG.csv\n"
     ]
    },
    {
     "data": {
      "text/html": [
       "<div>\n",
       "<style scoped>\n",
       "    .dataframe tbody tr th:only-of-type {\n",
       "        vertical-align: middle;\n",
       "    }\n",
       "\n",
       "    .dataframe tbody tr th {\n",
       "        vertical-align: top;\n",
       "    }\n",
       "\n",
       "    .dataframe thead th {\n",
       "        text-align: right;\n",
       "    }\n",
       "</style>\n",
       "<table border=\"1\" class=\"dataframe\">\n",
       "  <thead>\n",
       "    <tr style=\"text-align: right;\">\n",
       "      <th></th>\n",
       "      <th>date</th>\n",
       "      <th>price</th>\n",
       "      <th>open</th>\n",
       "      <th>high</th>\n",
       "      <th>low</th>\n",
       "      <th>vol_</th>\n",
       "      <th>change _</th>\n",
       "      <th>ema_5</th>\n",
       "      <th>ema_14</th>\n",
       "      <th>ema_50</th>\n",
       "      <th>...</th>\n",
       "      <th>bert_759</th>\n",
       "      <th>bert_760</th>\n",
       "      <th>bert_761</th>\n",
       "      <th>bert_762</th>\n",
       "      <th>bert_763</th>\n",
       "      <th>bert_764</th>\n",
       "      <th>bert_765</th>\n",
       "      <th>bert_766</th>\n",
       "      <th>bert_767</th>\n",
       "      <th>target_5d</th>\n",
       "    </tr>\n",
       "  </thead>\n",
       "  <tbody>\n",
       "    <tr>\n",
       "      <th>0</th>\n",
       "      <td>2012-01-03</td>\n",
       "      <td>-1.440906</td>\n",
       "      <td>-1.509459</td>\n",
       "      <td>-1.454655</td>\n",
       "      <td>-1.491959</td>\n",
       "      <td>-0.169129</td>\n",
       "      <td>3.290823</td>\n",
       "      <td>-1.448168</td>\n",
       "      <td>-1.455289</td>\n",
       "      <td>-1.457287</td>\n",
       "      <td>...</td>\n",
       "      <td>0.737285</td>\n",
       "      <td>1.077516</td>\n",
       "      <td>-0.986154</td>\n",
       "      <td>1.129628</td>\n",
       "      <td>-0.276002</td>\n",
       "      <td>-0.594158</td>\n",
       "      <td>-1.090323</td>\n",
       "      <td>-0.709935</td>\n",
       "      <td>-0.683390</td>\n",
       "      <td>174.00</td>\n",
       "    </tr>\n",
       "    <tr>\n",
       "      <th>1</th>\n",
       "      <td>2012-01-04</td>\n",
       "      <td>-1.432701</td>\n",
       "      <td>-1.432396</td>\n",
       "      <td>-1.448788</td>\n",
       "      <td>-1.437763</td>\n",
       "      <td>-0.042672</td>\n",
       "      <td>0.391525</td>\n",
       "      <td>-1.449738</td>\n",
       "      <td>-1.455588</td>\n",
       "      <td>-1.456169</td>\n",
       "      <td>...</td>\n",
       "      <td>0.737285</td>\n",
       "      <td>1.077516</td>\n",
       "      <td>-0.986154</td>\n",
       "      <td>1.129628</td>\n",
       "      <td>-0.276002</td>\n",
       "      <td>-0.594158</td>\n",
       "      <td>-1.090323</td>\n",
       "      <td>-0.709935</td>\n",
       "      <td>-0.683390</td>\n",
       "      <td>169.61</td>\n",
       "    </tr>\n",
       "    <tr>\n",
       "      <th>2</th>\n",
       "      <td>2012-01-05</td>\n",
       "      <td>-1.456330</td>\n",
       "      <td>-1.434421</td>\n",
       "      <td>-1.443177</td>\n",
       "      <td>-1.443691</td>\n",
       "      <td>-0.290316</td>\n",
       "      <td>-1.232449</td>\n",
       "      <td>-1.456203</td>\n",
       "      <td>-1.457202</td>\n",
       "      <td>-1.455346</td>\n",
       "      <td>...</td>\n",
       "      <td>0.308069</td>\n",
       "      <td>0.626133</td>\n",
       "      <td>1.584770</td>\n",
       "      <td>-0.216623</td>\n",
       "      <td>1.447056</td>\n",
       "      <td>3.093518</td>\n",
       "      <td>0.220764</td>\n",
       "      <td>-2.202539</td>\n",
       "      <td>1.816620</td>\n",
       "      <td>168.50</td>\n",
       "    </tr>\n",
       "    <tr>\n",
       "      <th>3</th>\n",
       "      <td>2012-01-06</td>\n",
       "      <td>-1.453007</td>\n",
       "      <td>-1.450260</td>\n",
       "      <td>-1.460060</td>\n",
       "      <td>-1.444583</td>\n",
       "      <td>-0.766941</td>\n",
       "      <td>0.143800</td>\n",
       "      <td>-1.454065</td>\n",
       "      <td>-1.455410</td>\n",
       "      <td>-1.453507</td>\n",
       "      <td>...</td>\n",
       "      <td>0.236097</td>\n",
       "      <td>0.328905</td>\n",
       "      <td>1.561778</td>\n",
       "      <td>-0.222538</td>\n",
       "      <td>1.401898</td>\n",
       "      <td>2.844294</td>\n",
       "      <td>-0.039920</td>\n",
       "      <td>-2.271590</td>\n",
       "      <td>1.967388</td>\n",
       "      <td>167.50</td>\n",
       "    </tr>\n",
       "    <tr>\n",
       "      <th>4</th>\n",
       "      <td>2012-01-09</td>\n",
       "      <td>-1.449631</td>\n",
       "      <td>-1.452077</td>\n",
       "      <td>-1.453420</td>\n",
       "      <td>-1.439022</td>\n",
       "      <td>-0.760344</td>\n",
       "      <td>0.143800</td>\n",
       "      <td>-1.452522</td>\n",
       "      <td>-1.453857</td>\n",
       "      <td>-1.451732</td>\n",
       "      <td>...</td>\n",
       "      <td>0.737285</td>\n",
       "      <td>1.077516</td>\n",
       "      <td>-0.986154</td>\n",
       "      <td>1.129628</td>\n",
       "      <td>-0.276002</td>\n",
       "      <td>-0.594158</td>\n",
       "      <td>-1.090323</td>\n",
       "      <td>-0.709935</td>\n",
       "      <td>-0.683390</td>\n",
       "      <td>168.01</td>\n",
       "    </tr>\n",
       "  </tbody>\n",
       "</table>\n",
       "<p>5 rows × 914 columns</p>\n",
       "</div>"
      ],
      "text/plain": [
       "        date     price      open      high       low      vol_  change _  \\\n",
       "0 2012-01-03 -1.440906 -1.509459 -1.454655 -1.491959 -0.169129  3.290823   \n",
       "1 2012-01-04 -1.432701 -1.432396 -1.448788 -1.437763 -0.042672  0.391525   \n",
       "2 2012-01-05 -1.456330 -1.434421 -1.443177 -1.443691 -0.290316 -1.232449   \n",
       "3 2012-01-06 -1.453007 -1.450260 -1.460060 -1.444583 -0.766941  0.143800   \n",
       "4 2012-01-09 -1.449631 -1.452077 -1.453420 -1.439022 -0.760344  0.143800   \n",
       "\n",
       "      ema_5    ema_14    ema_50  ...  bert_759  bert_760  bert_761  bert_762  \\\n",
       "0 -1.448168 -1.455289 -1.457287  ...  0.737285  1.077516 -0.986154  1.129628   \n",
       "1 -1.449738 -1.455588 -1.456169  ...  0.737285  1.077516 -0.986154  1.129628   \n",
       "2 -1.456203 -1.457202 -1.455346  ...  0.308069  0.626133  1.584770 -0.216623   \n",
       "3 -1.454065 -1.455410 -1.453507  ...  0.236097  0.328905  1.561778 -0.222538   \n",
       "4 -1.452522 -1.453857 -1.451732  ...  0.737285  1.077516 -0.986154  1.129628   \n",
       "\n",
       "   bert_763  bert_764  bert_765  bert_766  bert_767  target_5d  \n",
       "0 -0.276002 -0.594158 -1.090323 -0.709935 -0.683390     174.00  \n",
       "1 -0.276002 -0.594158 -1.090323 -0.709935 -0.683390     169.61  \n",
       "2  1.447056  3.093518  0.220764 -2.202539  1.816620     168.50  \n",
       "3  1.401898  2.844294 -0.039920 -2.271590  1.967388     167.50  \n",
       "4 -0.276002 -0.594158 -1.090323 -0.709935 -0.683390     168.01  \n",
       "\n",
       "[5 rows x 914 columns]"
      ]
     },
     "execution_count": 21,
     "metadata": {},
     "output_type": "execute_result"
    }
   ],
   "source": [
    "# Пути\n",
    "input_path = r\"C:\\VKR_Almaz_Mamatov\\VKR_Almaz_Mamatov_DS_16\\Part_1\\котировки_с_rubert.csv\"\n",
    "output_path = r\"C:\\VKR_Almaz_Mamatov\\VKR_Almaz_Mamatov_DS_16\\Part_3\\tatn_weekly_REG.csv\"\n",
    "\n",
    "# Загрузка данных\n",
    "df = pd.read_csv(input_path, parse_dates = ['date'])\n",
    "df = df.sort_values('date').reset_index(drop = True)\n",
    "\n",
    "# Очистка названий колонок: заменим '.' и '%' на '_'\n",
    "df.columns = [col.replace('.', '_').replace('%', '_') for col in df.columns]\n",
    "\n",
    "# Генерация таргета: цена через 5 торговых дней\n",
    "df['target_5d'] = df['price'].shift(-5)\n",
    "\n",
    "# Удаляем строки без target_5d (последние 5 дней)\n",
    "df = df.dropna(subset = ['target_5d']).reset_index(drop = True)\n",
    "\n",
    "# Масштабирование признаков (кроме даты и таргета)\n",
    "exclude_cols = ['date', 'target_5d']\n",
    "features = [col for col in df.columns if col not in exclude_cols]\n",
    "\n",
    "scaler = StandardScaler()\n",
    "df_scaled = pd.DataFrame(scaler.fit_transform(df[features]), columns = features)\n",
    "\n",
    "# Объединяем с немасштабированными колонками\n",
    "df_final = pd.concat([df[['date']], df_scaled, df[['target_5d']]], axis=1)\n",
    "\n",
    "# Сохраняем\n",
    "df_final.to_csv(output_path, index = False)\n",
    "print(f\"Файл сохранён: {output_path}\")\n",
    "\n",
    "df_final.head()"
   ]
  },
  {
   "cell_type": "markdown",
   "id": "91c29deb-2203-4390-a571-cf411e32f55c",
   "metadata": {},
   "source": [
    "#### Блок 3: Формирование финального ДФ с календарными и служебными признаками для TFT"
   ]
  },
  {
   "cell_type": "markdown",
   "id": "a9535443-8226-4bee-bf4a-26b5e52d3917",
   "metadata": {},
   "source": [
    "В данном блоке кода мы подготавливаем окончательный набор данных, в котором к уже обработанным признакам из предыдущего шага добавляем календарные и служебные колонки, необходимые для корректной работы модели TFT. Этот этап важен, так как TFT умеет учитывать временные закономерности и категориальные признаки, а также требует определённой структуры входных данных.\n",
    "\n",
    "В данном блоке мы выполняем следующие операции:\n",
    "\n",
    "1. Загрузка и сортировка данных — читаем ДФ, полученный на предыдущем этапе подготовки, и сортируем его по дате, чтобы сохранить хронологический порядок наблюдений.\n",
    "2. Генерация календарных признаков — добавляем новые колонки, отражающие временные характеристики каждой записи:  \n",
    "   2.1. time_idx — числовой индекс времени, необходимый TFT для построения временной оси;  \n",
    "   2.2. year, quarter, month, day, day_of_week — разбиение даты на компоненты для учёта сезонности и повторяющихся паттернов;  \n",
    "   2.3. is_weekend — индикатор выходных дней (суббота, воскресенье);  \n",
    "   2.4. is_month_start, is_month_end — индикаторы начала и конца месяца;  \n",
    "   2.5. day_of_year — порядковый номер дня в году, полезен для выявления годовой сезонности.  \n",
    "3. Преобразование категориальных признаков в строки — переводим month, day_of_week, is_weekend в строковый формат, а также задаём фиксированный идентификатор временного ряда group_id = \"tatneft\". Это важно, так как TFT требует явного разделения категориальных и числовых признаков.\n",
    "4. Финальная перестановка колонок — формируем итоговый порядок: сначала служебные поля (group_id, time_idx, date), затем признаки, и в конце целевая переменная target_5d.\n",
    "5. Сохранение итогового ДФ — записываем полученные данные в отдельный CSV-файл, который уже готов к загрузке в TimeSeriesDataSet библиотеки pytorch-forecasting.\n",
    "\n",
    "В результате мы получаем структурированный ДФ, полностью соответствующий входным требованиям TFT: с выделенным идентификатором временного ряда, индексом времени, календарными признаками и целевой переменной для прогноза цены акции через 5 торговых дней.\n"
   ]
  },
  {
   "cell_type": "code",
   "execution_count": 19,
   "id": "98f59d45-81db-47a1-b621-f5f055151b7a",
   "metadata": {},
   "outputs": [
    {
     "name": "stdout",
     "output_type": "stream",
     "text": [
      "Данные для TFT сохранены: C:\\Users\\Администратор\\Desktop\\Аналитик данных\\Дипломная работа\\DL\\Регрессия\\tatn_tft_weekly_REG.csv\n"
     ]
    },
    {
     "data": {
      "text/html": [
       "<div>\n",
       "<style scoped>\n",
       "    .dataframe tbody tr th:only-of-type {\n",
       "        vertical-align: middle;\n",
       "    }\n",
       "\n",
       "    .dataframe tbody tr th {\n",
       "        vertical-align: top;\n",
       "    }\n",
       "\n",
       "    .dataframe thead th {\n",
       "        text-align: right;\n",
       "    }\n",
       "</style>\n",
       "<table border=\"1\" class=\"dataframe\">\n",
       "  <thead>\n",
       "    <tr style=\"text-align: right;\">\n",
       "      <th></th>\n",
       "      <th>group_id</th>\n",
       "      <th>time_idx</th>\n",
       "      <th>date</th>\n",
       "      <th>price</th>\n",
       "      <th>open</th>\n",
       "      <th>high</th>\n",
       "      <th>low</th>\n",
       "      <th>vol_</th>\n",
       "      <th>change _</th>\n",
       "      <th>ema_5</th>\n",
       "      <th>...</th>\n",
       "      <th>year</th>\n",
       "      <th>quarter</th>\n",
       "      <th>month</th>\n",
       "      <th>day</th>\n",
       "      <th>day_of_week</th>\n",
       "      <th>is_weekend</th>\n",
       "      <th>is_month_start</th>\n",
       "      <th>is_month_end</th>\n",
       "      <th>day_of_year</th>\n",
       "      <th>target_5d</th>\n",
       "    </tr>\n",
       "  </thead>\n",
       "  <tbody>\n",
       "    <tr>\n",
       "      <th>0</th>\n",
       "      <td>tatneft</td>\n",
       "      <td>0</td>\n",
       "      <td>2012-01-03</td>\n",
       "      <td>-1.440906</td>\n",
       "      <td>-1.509459</td>\n",
       "      <td>-1.454655</td>\n",
       "      <td>-1.491959</td>\n",
       "      <td>-0.169129</td>\n",
       "      <td>3.290823</td>\n",
       "      <td>-1.448168</td>\n",
       "      <td>...</td>\n",
       "      <td>2012</td>\n",
       "      <td>1</td>\n",
       "      <td>1</td>\n",
       "      <td>3</td>\n",
       "      <td>1</td>\n",
       "      <td>0</td>\n",
       "      <td>0</td>\n",
       "      <td>0</td>\n",
       "      <td>3</td>\n",
       "      <td>174.00</td>\n",
       "    </tr>\n",
       "    <tr>\n",
       "      <th>1</th>\n",
       "      <td>tatneft</td>\n",
       "      <td>1</td>\n",
       "      <td>2012-01-04</td>\n",
       "      <td>-1.432701</td>\n",
       "      <td>-1.432396</td>\n",
       "      <td>-1.448788</td>\n",
       "      <td>-1.437763</td>\n",
       "      <td>-0.042672</td>\n",
       "      <td>0.391525</td>\n",
       "      <td>-1.449738</td>\n",
       "      <td>...</td>\n",
       "      <td>2012</td>\n",
       "      <td>1</td>\n",
       "      <td>1</td>\n",
       "      <td>4</td>\n",
       "      <td>2</td>\n",
       "      <td>0</td>\n",
       "      <td>0</td>\n",
       "      <td>0</td>\n",
       "      <td>4</td>\n",
       "      <td>169.61</td>\n",
       "    </tr>\n",
       "    <tr>\n",
       "      <th>2</th>\n",
       "      <td>tatneft</td>\n",
       "      <td>2</td>\n",
       "      <td>2012-01-05</td>\n",
       "      <td>-1.456330</td>\n",
       "      <td>-1.434421</td>\n",
       "      <td>-1.443177</td>\n",
       "      <td>-1.443691</td>\n",
       "      <td>-0.290316</td>\n",
       "      <td>-1.232449</td>\n",
       "      <td>-1.456203</td>\n",
       "      <td>...</td>\n",
       "      <td>2012</td>\n",
       "      <td>1</td>\n",
       "      <td>1</td>\n",
       "      <td>5</td>\n",
       "      <td>3</td>\n",
       "      <td>0</td>\n",
       "      <td>0</td>\n",
       "      <td>0</td>\n",
       "      <td>5</td>\n",
       "      <td>168.50</td>\n",
       "    </tr>\n",
       "    <tr>\n",
       "      <th>3</th>\n",
       "      <td>tatneft</td>\n",
       "      <td>3</td>\n",
       "      <td>2012-01-06</td>\n",
       "      <td>-1.453007</td>\n",
       "      <td>-1.450260</td>\n",
       "      <td>-1.460060</td>\n",
       "      <td>-1.444583</td>\n",
       "      <td>-0.766941</td>\n",
       "      <td>0.143800</td>\n",
       "      <td>-1.454065</td>\n",
       "      <td>...</td>\n",
       "      <td>2012</td>\n",
       "      <td>1</td>\n",
       "      <td>1</td>\n",
       "      <td>6</td>\n",
       "      <td>4</td>\n",
       "      <td>0</td>\n",
       "      <td>0</td>\n",
       "      <td>0</td>\n",
       "      <td>6</td>\n",
       "      <td>167.50</td>\n",
       "    </tr>\n",
       "    <tr>\n",
       "      <th>4</th>\n",
       "      <td>tatneft</td>\n",
       "      <td>4</td>\n",
       "      <td>2012-01-09</td>\n",
       "      <td>-1.449631</td>\n",
       "      <td>-1.452077</td>\n",
       "      <td>-1.453420</td>\n",
       "      <td>-1.439022</td>\n",
       "      <td>-0.760344</td>\n",
       "      <td>0.143800</td>\n",
       "      <td>-1.452522</td>\n",
       "      <td>...</td>\n",
       "      <td>2012</td>\n",
       "      <td>1</td>\n",
       "      <td>1</td>\n",
       "      <td>9</td>\n",
       "      <td>0</td>\n",
       "      <td>0</td>\n",
       "      <td>0</td>\n",
       "      <td>0</td>\n",
       "      <td>9</td>\n",
       "      <td>168.01</td>\n",
       "    </tr>\n",
       "  </tbody>\n",
       "</table>\n",
       "<p>5 rows × 925 columns</p>\n",
       "</div>"
      ],
      "text/plain": [
       "  group_id  time_idx       date     price      open      high       low  \\\n",
       "0  tatneft         0 2012-01-03 -1.440906 -1.509459 -1.454655 -1.491959   \n",
       "1  tatneft         1 2012-01-04 -1.432701 -1.432396 -1.448788 -1.437763   \n",
       "2  tatneft         2 2012-01-05 -1.456330 -1.434421 -1.443177 -1.443691   \n",
       "3  tatneft         3 2012-01-06 -1.453007 -1.450260 -1.460060 -1.444583   \n",
       "4  tatneft         4 2012-01-09 -1.449631 -1.452077 -1.453420 -1.439022   \n",
       "\n",
       "       vol_  change _     ema_5  ...  year  quarter  month  day  day_of_week  \\\n",
       "0 -0.169129  3.290823 -1.448168  ...  2012        1      1    3            1   \n",
       "1 -0.042672  0.391525 -1.449738  ...  2012        1      1    4            2   \n",
       "2 -0.290316 -1.232449 -1.456203  ...  2012        1      1    5            3   \n",
       "3 -0.766941  0.143800 -1.454065  ...  2012        1      1    6            4   \n",
       "4 -0.760344  0.143800 -1.452522  ...  2012        1      1    9            0   \n",
       "\n",
       "   is_weekend  is_month_start  is_month_end  day_of_year  target_5d  \n",
       "0           0               0             0            3     174.00  \n",
       "1           0               0             0            4     169.61  \n",
       "2           0               0             0            5     168.50  \n",
       "3           0               0             0            6     167.50  \n",
       "4           0               0             0            9     168.01  \n",
       "\n",
       "[5 rows x 925 columns]"
      ]
     },
     "execution_count": 19,
     "metadata": {},
     "output_type": "execute_result"
    }
   ],
   "source": [
    "# Пути\n",
    "input_path = r\"C:\\VKR_Almaz_Mamatov\\VKR_Almaz_Mamatov_DS_16\\Part_3\\tatn_weekly_REG.csv\"\n",
    "output_path = r\"C:\\VKR_Almaz_Mamatov\\VKR_Almaz_Mamatov_DS_16\\Part_3\\tatn_tft_weekly_REG.csv\"\n",
    "\n",
    "# Загрузка и сортировка\n",
    "df = pd.read_csv(input_path, parse_dates = ['date'])\n",
    "df = df.sort_values('date').reset_index(drop = True)\n",
    "\n",
    "# Календарные признаки\n",
    "df['time_idx'] = df.index\n",
    "df['year'] = df['date'].dt.year\n",
    "df['quarter'] = df['date'].dt.quarter\n",
    "df['month'] = df['date'].dt.month\n",
    "df['day'] = df['date'].dt.day\n",
    "df['day_of_week'] = df['date'].dt.weekday\n",
    "df['is_weekend'] = df['day_of_week'].isin([5,6]).astype(int)\n",
    "df['is_month_start'] = df['date'].dt.is_month_start.astype(int)\n",
    "df['is_month_end'] = df['date'].dt.is_month_end.astype(int)\n",
    "df['day_of_year'] = df['date'].dt.dayofyear\n",
    "\n",
    "# Преобразование категориальных признаков в строки (важно для TFT)\n",
    "df['group_id'] = 'tatneft'                         # как строка\n",
    "df['month'] = df['month'].astype(str)\n",
    "df['day_of_week'] = df['day_of_week'].astype(str)\n",
    "df['is_weekend'] = df['is_weekend'].astype(str)\n",
    "\n",
    "# Финальный порядок столбцов\n",
    "reserved = ['group_id', 'time_idx', 'date', 'target_5d']\n",
    "feature_cols = [col for col in df.columns if col not in reserved]\n",
    "df_tft = df[['group_id', 'time_idx', 'date'] + feature_cols + ['target_5d']]\n",
    "\n",
    "# Сохранение\n",
    "df_tft.to_csv(output_path, index = False)\n",
    "print(f\"Данные для TFT сохранены: {output_path}\")\n",
    "\n",
    "df_tft.head()"
   ]
  },
  {
   "cell_type": "markdown",
   "id": "1d0f6e46-d460-40d0-ba9c-f636e1a82ab1",
   "metadata": {},
   "source": [
    "#### Блок 4. Загрузка и проверка финального ДФ для TFT"
   ]
  },
  {
   "cell_type": "markdown",
   "id": "2ec084d7-e4e8-435a-8828-820ecfe22b18",
   "metadata": {},
   "source": [
    "В данном блоке кода мы загружаем подготовленный на предыдущем этапе финальный ДФ, который уже содержит все необходимые признаки для обучения модели TFT. На этом шаге мы также задаём правильные форматы данных для ключевых признаков и проводим базовую проверку структуры.\n",
    "\n",
    "В данном блоке выполняются следующие операции:\n",
    "\n",
    "1. Определение пути к файлу — указываем расположение CSV-файла `tatn_tft_weekly_REG.csv`, сформированного на предыдущем шаге.\n",
    "2. Загрузка данных с контролем типов — читаем файл с помощью `pandas.read_csv`, при этом:  \n",
    "   2.1. преобразуем колонку `date` в формат `datetime`, чтобы сохранить возможность работы с календарными функциями;  \n",
    "   2.2. принудительно задаём строковый (`str`) тип для категориальных признаков `group_id`, `month`, `day_of_week` и `is_weekend`. Это важно, чтобы при обучении TFT они были корректно распознаны как категориальные, а не числовые.\n",
    "3. Сортировка по дате — упорядочиваем строки в хронологическом порядке для сохранения правильной временной последовательности.\n",
    "4. Базовая проверка загруженных данных — выводим размер ДФ (количество строк и колонок), чтобы убедиться в корректности загрузки и отсутствии ошибок при чтении.\n",
    "\n",
    "В результате мы получаем корректно загруженный и структурированный набор данных, полностью готовый к созданию объекта `TimeSeriesDataSet` для дальнейшего обучения модели TFT."
   ]
  },
  {
   "cell_type": "code",
   "execution_count": 2,
   "id": "3067093e-90f0-4f3a-a8a3-a6e6ea80a283",
   "metadata": {},
   "outputs": [
    {
     "name": "stdout",
     "output_type": "stream",
     "text": [
      "Данные загружены: (3357, 925)\n"
     ]
    }
   ],
   "source": [
    "# Пути\n",
    "input_path = r\"C:\\VKR_Almaz_Mamatov\\VKR_Almaz_Mamatov_DS_16\\Part_3\\tatn_tft_weekly_REG.csv\"\n",
    "\n",
    "# Загрузка и проверка\n",
    "df = pd.read_csv(\n",
    "    input_path, parse_dates = [\"date\"],\n",
    "    dtype = {\n",
    "        \"group_id\": str,\n",
    "        \"month\": str,\n",
    "        \"day_of_week\": str,\n",
    "        \"is_weekend\": str\n",
    "    }\n",
    ")\n",
    "df = df.sort_values(\"date\").reset_index(drop = True)\n",
    "print(\"Данные загружены:\", df.shape)\n"
   ]
  },
  {
   "cell_type": "markdown",
   "id": "d4c2221c-6960-417e-ab70-066456463290",
   "metadata": {},
   "source": [
    "#### Блок 5. Определение параметров и разбиение данных для обучения TFT"
   ]
  },
  {
   "cell_type": "markdown",
   "id": "7cf2d73a-b476-4c4e-b707-86230f29c1d6",
   "metadata": {},
   "source": [
    "В данном блоке кода мы задаём ключевые параметры обучения модели TFT, определяем структуру признаков и выполняем разбиение данных на обучающую и валидационную выборки. Эти шаги критически важны, так как TFT требует чёткого разделения признаков по типам (статические, временные известные, временные неизвестные) и корректного формирования временных интервалов для обучения.\n",
    "\n",
    "В данном блоке мы выполняем следующие операции:\n",
    "\n",
    "1. Задание основных параметров для конструктора:  \n",
    "   1.1. target — название колонки с целевой переменной (*target_5d*), которую модель должна предсказать;  \n",
    "   1.2. time_idx — колонка с числовым индексом времени, используемая для построения временной шкалы;  \n",
    "   1.3. group_id — идентификатор временного ряда (в нашем случае один ряд — акции ПАО «Татнефть»);  \n",
    "   1.4. max_encoder_length — длина исторического окна (в днях), используемого для обучения модели;  \n",
    "   1.5. max_prediction_length — горизонт прогноза (в нашем случае 1 шаг = 5 торговых дней вперёд);  \n",
    "   1.6. batch_size — размер мини-батча для обучения.  \n",
    "2. Разделение признаков по типам в соответствии с требованиями TFT:  \n",
    "   2.1. Статические категориальные (*static_categoricals*) — признаки, значения которых не меняются во времени (здесь только *group_id*);  \n",
    "   2.2. Временные категориальные, известные заранее (*time_varying_known_categoricals*) — календарные признаки (*month*, *day_of_week*, *is_weekend*), которые можно определить для любой даты ещё до начала прогноза;  \n",
    "   2.3. Временные числовые, известные заранее (*time_varying_known_reals*) — числовые признаки, которые также известны на любом горизонте (*time_idx*, *day_of_year*);  \n",
    "   2.4. Временные числовые, неизвестные заранее (*time_varying_unknown_reals*) — все прочие числовые признаки, значения которых будут известны только в момент прогноза (рыночные, макроэкономические, технические).  \n",
    "3. Разбиение данных на *train* и *validation*:  \n",
    "   3.1. Отбираем только данные до 2025 года для обучения (*df_trainval*), чтобы тестировать модель на будущем периоде;  \n",
    "   3.2. Делим оставшиеся данные в пропорции 80 % на обучение (*train_df*) и 20 % на валидацию (*val_df*), сохраняя хронологический порядок.\n",
    "\n",
    "В результате мы получаем чётко структурированные обучающие и валидационные выборки с разделением признаков по типам, полностью готовые к созданию объекта `TimeSeriesDataSet` для обучения TFT."
   ]
  },
  {
   "cell_type": "code",
   "execution_count": 3,
   "id": "8f66f07a-7718-4c23-a48f-2f9f52933fcd",
   "metadata": {},
   "outputs": [],
   "source": [
    "# Настройки\n",
    "target = \"target_5d\"\n",
    "time_idx = \"time_idx\"\n",
    "group_id = \"group_id\"\n",
    "max_encoder_length = 90\n",
    "max_prediction_length = 1\n",
    "batch_size = 32\n",
    "\n",
    "# Категориальные и непрерывные признаки\n",
    "static_categoricals = [\"group_id\"]\n",
    "time_varying_known_categoricals = [\"month\", \"day_of_week\", \"is_weekend\"]\n",
    "time_varying_known_reals = [\"time_idx\", \"day_of_year\"]\n",
    "time_varying_unknown_reals = [\n",
    "    col for col in df.columns if col not in [\n",
    "        \"group_id\", \"time_idx\", \"date\", target,\n",
    "        \"month\", \"day_of_week\", \"is_weekend\", \"day_of_year\"\n",
    "    ]\n",
    "]\n",
    "\n",
    "# Сплит на train/val по дате\n",
    "df_trainval = df[df[\"date\"] < \"2025-01-01\"].reset_index(drop = True)  # обучаем только на данных до 2025\n",
    "split_idx = int(len(df_trainval) * 0.8)\n",
    "train_df = df_trainval.iloc[:split_idx].reset_index(drop = True)\n",
    "val_df = df_trainval.iloc[split_idx:].reset_index(drop = True)\n"
   ]
  },
  {
   "cell_type": "markdown",
   "id": "4131cb4c-41ca-49a6-ac98-0fe37f36f041",
   "metadata": {},
   "source": [
    "#### Блок 6. Формирование объектов TimeSeriesDataSet и DataLoader для TFT"
   ]
  },
  {
   "cell_type": "markdown",
   "id": "9b4ed143-1ee9-4a01-aa0c-3b15f63628e3",
   "metadata": {},
   "source": [
    "В данном блоке кода мы подготавливаем данные в специальном формате `TimeSeriesDataSet`, который используется библиотекой `pytorch-forecasting` для обучения модели TFT. Этот формат позволяет модели корректно обрабатывать временные ряды, автоматически управлять лагами, признаками и разметкой обучающих примеров.\n",
    "\n",
    "В данном блоке мы проводим следующие операции:\n",
    "\n",
    "1. Создание обучающего набора (*training*) — передаём ДФ с тренировочными данными и указываем:  \n",
    "   1.1. `time_idx` — числовой индекс времени, определяющий порядок наблюдений;  \n",
    "   1.2. `target` — целевая переменная (*target_5d*), которую нужно предсказать;  \n",
    "   1.3. `group_ids` — идентификаторы временных рядов (в нашем случае один ряд — акции ПАО «Татнефть»);  \n",
    "   1.4. `max_encoder_length` — длина истории (в днях), которую модель видит перед прогнозом;  \n",
    "   1.5. `max_prediction_length` — длина горизонта прогноза (у нас 1 точка — цена через 5 торговых дней);  \n",
    "   1.6. `static_categoricals`, `time_varying_known_categoricals`, `time_varying_known_reals`, `time_varying_unknown_reals` — распределение признаков по типам (статические, известные заранее и неизвестные);  \n",
    "   1.7. `target_normalizer` — нормализация целевой переменной в разрезе каждого временного ряда;  \n",
    "   1.8. `add_relative_time_idx`, `add_target_scales`, `add_encoder_length` — добавление вспомогательных признаков для улучшения обучения;  \n",
    "   1.9. `allow_missing_timesteps=True` — разрешение пропусков дат в ряде (полезно при неполных данных).  \n",
    "2. Создание валидационного набора (*validation*) — формируем его с помощью метода `.from_dataset()`, чтобы сохранить те же параметры признаков и нормализации, что и у обучающего набора, но применить к валидационным данным.\n",
    "3. Создание DataLoader’ов — конвертируем оба набора в DataLoader, который управляет пакетной подачей данных в модель во время обучения и валидации. Здесь указываем `batch_size` и количество потоков для ускорения загрузки.\n",
    "\n",
    "В результате мы получаем готовые объекты *training*, *validation*, *train_loader* и *val_loader*, которые можно напрямую передавать в модель TFT для обучения и проверки качества прогноза.\n"
   ]
  },
  {
   "cell_type": "code",
   "execution_count": 4,
   "id": "c249650f-56d1-459b-8e2d-f983d044873c",
   "metadata": {},
   "outputs": [
    {
     "name": "stdout",
     "output_type": "stream",
     "text": [
      "TimeSeriesDataSet и DataLoader’ы готовы\n"
     ]
    }
   ],
   "source": [
    "# TimeSeriesDataSet\n",
    "training = TimeSeriesDataSet(\n",
    "    train_df,\n",
    "    time_idx = time_idx,\n",
    "    target = target,\n",
    "    group_ids = [group_id],\n",
    "    max_encoder_length = max_encoder_length,\n",
    "    max_prediction_length = max_prediction_length,\n",
    "    static_categoricals = static_categoricals,\n",
    "    time_varying_known_categoricals = time_varying_known_categoricals,\n",
    "    time_varying_known_reals = time_varying_known_reals,\n",
    "    time_varying_unknown_reals = time_varying_unknown_reals,\n",
    "    target_normalizer = GroupNormalizer(groups = [group_id], transformation = \"softplus\"),  \n",
    "    add_relative_time_idx = True,\n",
    "    add_target_scales = True,\n",
    "    add_encoder_length = True,\n",
    "    allow_missing_timesteps = True,\n",
    ")\n",
    "\n",
    "# Валидация\n",
    "validation = TimeSeriesDataSet.from_dataset(training, val_df, predict = True, stop_randomization = True)\n",
    "\n",
    "# DataLoader’ы\n",
    "train_loader = training.to_dataloader(train = True, batch_size = batch_size, num_workers = 4, persistent_workers = True)\n",
    "val_loader = validation.to_dataloader(train = False, batch_size = batch_size, num_workers = 4, persistent_workers = True)\n",
    "\n",
    "print(\"TimeSeriesDataSet и DataLoader’ы готовы\")\n"
   ]
  },
  {
   "cell_type": "markdown",
   "id": "4ab2b062-460d-40d5-98f6-1c36e419c5fd",
   "metadata": {},
   "source": [
    "#### Блок 7. Инициализация и обучение TFT"
   ]
  },
  {
   "cell_type": "markdown",
   "id": "cf8a2be5-49ea-4c79-af15-fa59fa166f8e",
   "metadata": {},
   "source": [
    "В данном блоке кода мы создаём и обучаем модель TFT на подготовленных `TimeSeriesDataSet`. Здесь задаются ключевые гиперпараметры архитектуры, метрики, колбэки ранней остановки и сохранения лучшей версии модели, а также конфигурация тренера.\n",
    "\n",
    "В данном блоке мы проводим следующие операции:\n",
    "\n",
    "1. Создание модели из датасета `TemporalFusionTransformer.from_dataset` автоматически подтягивает размеры и типы признаков из *training*:  \n",
    "   1.1. `learning_rate = 2e-3` — стартовая скорость обучения.  \n",
    "   1.2. `hidden_size = 128` — ширина скрытых слоёв (ёмкость модели).  \n",
    "   1.3. `attention_head_size = 2` — число «голов» в механизме внимания.  \n",
    "   1.4. `hidden_continuous_size = 64` — размерность проекций для непрерывных признаков.  \n",
    "   1.5. `dropout = 0.05` — регуляризация для борьбы с переобучением.  \n",
    "   1.6. `reduce_on_plateau_patience = 4` — уменьшение *learning rate* при застое качества.  \n",
    "   1.7. `loss = RMSE()` — функция потерь: корень из MSE по таргету *target_5d*.  \n",
    "   1.8. `logging_metrics = [metric]` — дополнительная метрика в логах (например, MAE).  \n",
    "   1.9. `output_size = 1` — скалярный прогноз (цена через 5 дней).  \n",
    "2. Колбэки контроля обучения:  \n",
    "   2.1. `EarlyStopping(monitor=\"val_loss\", patience=5, mode=\"min\")` — останавливаем обучение, если валидационная ошибка не улучшается 5 эпох.  \n",
    "   2.2. `ModelCheckpoint(monitor=\"val_loss\", save_top_k=1, mode=\"min\")` — сохраняем лучшую версию модели по *val_loss* в указанную папку.  \n",
    "   2.3. `TQDMProgressBar(refresh_rate=20)` — прогресс-бар для наглядного контроля процесса.  \n",
    "3. Конфигурация тренера и запуск обучения:  \n",
    "   3.1. `max_epochs = 50` — верхний предел числа эпох.  \n",
    "   3.2. `accelerator = \"gpu\" if torch.cuda.is_available() else \"cpu\"` — автоматический выбор устройства.  \n",
    "   3.3. `devices = 1` — одна видеокарта или процессор.  \n",
    "   3.4. `gradient_clip_val = 0.1` — клиппинг градиента для устойчивости.  \n",
    "   3.5. `callbacks = [early_stop, checkpoint, progress_bar]` — подключаем контроль качества и сохранение.  \n",
    "   3.6. `trainer.fit(tft, train_loader, val_loader)` — непосредственный запуск обучения на батчах.\n",
    "\n",
    "В результате модель TFT обучается с контролем переобучения и автоматическим сохранением лучшей версии по *val_loss*. После завершения на диске сохраняется чекпойнт, готовый к использованию для валидации, теста и прогнозов.\n"
   ]
  },
  {
   "cell_type": "code",
   "execution_count": 5,
   "id": "7d4d84cd-a485-4208-8c45-9f5ab8e9a9a1",
   "metadata": {},
   "outputs": [
    {
     "name": "stderr",
     "output_type": "stream",
     "text": [
      "C:\\Users\\Администратор\\AppData\\Local\\Programs\\Python\\Python310\\lib\\site-packages\\lightning\\pytorch\\utilities\\parsing.py:209: Attribute 'loss' is an instance of `nn.Module` and is already saved during checkpointing. It is recommended to ignore them using `self.save_hyperparameters(ignore=['loss'])`.\n",
      "GPU available: True (cuda), used: True\n",
      "TPU available: False, using: 0 TPU cores\n",
      "HPU available: False, using: 0 HPUs\n",
      "You are using a CUDA device ('NVIDIA GeForce RTX 4070 Laptop GPU') that has Tensor Cores. To properly utilize them, you should set `torch.set_float32_matmul_precision('medium' | 'high')` which will trade-off precision for performance. For more details, read https://pytorch.org/docs/stable/generated/torch.set_float32_matmul_precision.html#torch.set_float32_matmul_precision\n",
      "C:\\Users\\Администратор\\AppData\\Local\\Programs\\Python\\Python310\\lib\\site-packages\\lightning\\pytorch\\callbacks\\model_checkpoint.py:658: Checkpoint directory C:\\Users\\Администратор\\Desktop\\Аналитик данных\\Дипломная работа\\DL\\Регрессия\\TFT exists and is not empty.\n",
      "LOCAL_RANK: 0 - CUDA_VISIBLE_DEVICES: [0]\n",
      "\n",
      "   | Name                               | Type                            | Params | Mode \n",
      "------------------------------------------------------------------------------------------------\n",
      "0  | loss                               | RMSE                            | 0      | train\n",
      "1  | logging_metrics                    | ModuleList                      | 0      | train\n",
      "2  | input_embeddings                   | MultiEmbedding                  | 110    | train\n",
      "3  | prescalers                         | ModuleDict                      | 118 K  | train\n",
      "4  | static_variable_selection          | VariableSelectionNetwork        | 78.4 K | train\n",
      "5  | encoder_variable_selection         | VariableSelectionNetwork        | 31.5 M | train\n",
      "6  | decoder_variable_selection         | VariableSelectionNetwork        | 80.5 K | train\n",
      "7  | static_context_variable_selection  | GatedResidualNetwork            | 66.3 K | train\n",
      "8  | static_context_initial_hidden_lstm | GatedResidualNetwork            | 66.3 K | train\n",
      "9  | static_context_initial_cell_lstm   | GatedResidualNetwork            | 66.3 K | train\n",
      "10 | static_context_enrichment          | GatedResidualNetwork            | 66.3 K | train\n",
      "11 | lstm_encoder                       | LSTM                            | 132 K  | train\n",
      "12 | lstm_decoder                       | LSTM                            | 132 K  | train\n",
      "13 | post_lstm_gate_encoder             | GatedLinearUnit                 | 33.0 K | train\n",
      "14 | post_lstm_add_norm_encoder         | AddNorm                         | 256    | train\n",
      "15 | static_enrichment                  | GatedResidualNetwork            | 82.7 K | train\n",
      "16 | multihead_attn                     | InterpretableMultiHeadAttention | 49.5 K | train\n",
      "17 | post_attn_gate_norm                | GateAddNorm                     | 33.3 K | train\n",
      "18 | pos_wise_ff                        | GatedResidualNetwork            | 66.3 K | train\n",
      "19 | pre_output_gate_norm               | GateAddNorm                     | 33.3 K | train\n",
      "20 | output_layer                       | Linear                          | 129    | train\n",
      "------------------------------------------------------------------------------------------------\n",
      "32.5 M    Trainable params\n",
      "0         Non-trainable params\n",
      "32.5 M    Total params\n",
      "129.885   Total estimated model params size (MB)\n",
      "14074     Modules in train mode\n",
      "0         Modules in eval mode\n"
     ]
    },
    {
     "data": {
      "application/vnd.jupyter.widget-view+json": {
       "model_id": "e4c409a591364cc3814f765cc217fa72",
       "version_major": 2,
       "version_minor": 0
      },
      "text/plain": [
       "Sanity Checking: |                                                                               | 0/? [00:00<…"
      ]
     },
     "metadata": {},
     "output_type": "display_data"
    },
    {
     "data": {
      "application/vnd.jupyter.widget-view+json": {
       "model_id": "caea40fa96574c25a9e6075a579c795a",
       "version_major": 2,
       "version_minor": 0
      },
      "text/plain": [
       "Training: |                                                                                      | 0/? [00:00<…"
      ]
     },
     "metadata": {},
     "output_type": "display_data"
    },
    {
     "data": {
      "application/vnd.jupyter.widget-view+json": {
       "model_id": "ba0268e0f7ad47fe9d6ba472267f290d",
       "version_major": 2,
       "version_minor": 0
      },
      "text/plain": [
       "Validation: |                                                                                    | 0/? [00:00<…"
      ]
     },
     "metadata": {},
     "output_type": "display_data"
    },
    {
     "data": {
      "application/vnd.jupyter.widget-view+json": {
       "model_id": "26e58205dd454240bd31260594af4ed1",
       "version_major": 2,
       "version_minor": 0
      },
      "text/plain": [
       "Validation: |                                                                                    | 0/? [00:00<…"
      ]
     },
     "metadata": {},
     "output_type": "display_data"
    },
    {
     "data": {
      "application/vnd.jupyter.widget-view+json": {
       "model_id": "1aa8fdba2c2048ef80fef8fd6c835b8f",
       "version_major": 2,
       "version_minor": 0
      },
      "text/plain": [
       "Validation: |                                                                                    | 0/? [00:00<…"
      ]
     },
     "metadata": {},
     "output_type": "display_data"
    },
    {
     "data": {
      "application/vnd.jupyter.widget-view+json": {
       "model_id": "b44bd172637c489788692d6e09f0dafb",
       "version_major": 2,
       "version_minor": 0
      },
      "text/plain": [
       "Validation: |                                                                                    | 0/? [00:00<…"
      ]
     },
     "metadata": {},
     "output_type": "display_data"
    },
    {
     "data": {
      "application/vnd.jupyter.widget-view+json": {
       "model_id": "fd900d225e964233aa36ee3d9f42f5ef",
       "version_major": 2,
       "version_minor": 0
      },
      "text/plain": [
       "Validation: |                                                                                    | 0/? [00:00<…"
      ]
     },
     "metadata": {},
     "output_type": "display_data"
    },
    {
     "data": {
      "application/vnd.jupyter.widget-view+json": {
       "model_id": "3e4078fc3dcc4b3a813bc78213c54c32",
       "version_major": 2,
       "version_minor": 0
      },
      "text/plain": [
       "Validation: |                                                                                    | 0/? [00:00<…"
      ]
     },
     "metadata": {},
     "output_type": "display_data"
    },
    {
     "data": {
      "application/vnd.jupyter.widget-view+json": {
       "model_id": "e332b05e5ffb469393097902d9ceff31",
       "version_major": 2,
       "version_minor": 0
      },
      "text/plain": [
       "Validation: |                                                                                    | 0/? [00:00<…"
      ]
     },
     "metadata": {},
     "output_type": "display_data"
    },
    {
     "data": {
      "application/vnd.jupyter.widget-view+json": {
       "model_id": "422b0ba2d0134e66ad119b21a13ef619",
       "version_major": 2,
       "version_minor": 0
      },
      "text/plain": [
       "Validation: |                                                                                    | 0/? [00:00<…"
      ]
     },
     "metadata": {},
     "output_type": "display_data"
    },
    {
     "data": {
      "application/vnd.jupyter.widget-view+json": {
       "model_id": "8a0e501b085b46cba896481f8c1dfc58",
       "version_major": 2,
       "version_minor": 0
      },
      "text/plain": [
       "Validation: |                                                                                    | 0/? [00:00<…"
      ]
     },
     "metadata": {},
     "output_type": "display_data"
    },
    {
     "data": {
      "application/vnd.jupyter.widget-view+json": {
       "model_id": "a7052e04f9fd4ed8b2b1f72214307f2c",
       "version_major": 2,
       "version_minor": 0
      },
      "text/plain": [
       "Validation: |                                                                                    | 0/? [00:00<…"
      ]
     },
     "metadata": {},
     "output_type": "display_data"
    },
    {
     "data": {
      "application/vnd.jupyter.widget-view+json": {
       "model_id": "e3291a5b74fd492a8802662a9b7d3913",
       "version_major": 2,
       "version_minor": 0
      },
      "text/plain": [
       "Validation: |                                                                                    | 0/? [00:00<…"
      ]
     },
     "metadata": {},
     "output_type": "display_data"
    },
    {
     "data": {
      "application/vnd.jupyter.widget-view+json": {
       "model_id": "e9750a09b26d41e4acd19e38810817a4",
       "version_major": 2,
       "version_minor": 0
      },
      "text/plain": [
       "Validation: |                                                                                    | 0/? [00:00<…"
      ]
     },
     "metadata": {},
     "output_type": "display_data"
    },
    {
     "data": {
      "application/vnd.jupyter.widget-view+json": {
       "model_id": "c8581c53069046b8bf29422b2f6438b0",
       "version_major": 2,
       "version_minor": 0
      },
      "text/plain": [
       "Validation: |                                                                                    | 0/? [00:00<…"
      ]
     },
     "metadata": {},
     "output_type": "display_data"
    },
    {
     "name": "stdout",
     "output_type": "stream",
     "text": [
      "Обучение завершено\n"
     ]
    }
   ],
   "source": [
    "# Модель TFT\n",
    "tft = TemporalFusionTransformer.from_dataset(\n",
    "    training,\n",
    "    learning_rate = 2e-3,\n",
    "    hidden_size = 128,\n",
    "    attention_head_size = 2,\n",
    "    hidden_continuous_size = 64,\n",
    "    dropout = 0.05,\n",
    "    reduce_on_plateau_patience = 4,\n",
    "    log_interval = 10,\n",
    "    loss = RMSE(),\n",
    "    logging_metrics = [metric],\n",
    "    output_size = 1,\n",
    ")\n",
    "\n",
    "# Колбэки\n",
    "early_stop = EarlyStopping(monitor = \"val_loss\", patience = 5, mode = \"min\")\n",
    "checkpoint = ModelCheckpoint(\n",
    "    dirpath = r\"C:\\VKR_Almaz_Mamatov\\VKR_Almaz_Mamatov_DS_16\\Part_3\\TFT\",\n",
    "    filename = \"tft_model_target_5d\",\n",
    "    monitor = \"val_loss\",\n",
    "    save_top_k = 1,\n",
    "    mode = \"min\"\n",
    ")\n",
    "\n",
    "progress_bar = TQDMProgressBar(refresh_rate = 20)\n",
    "\n",
    "# Обучение\n",
    "trainer = Trainer(\n",
    "    max_epochs = 50,\n",
    "    accelerator = \"gpu\" if torch.cuda.is_available() else \"cpu\",\n",
    "    devices = 1,\n",
    "    gradient_clip_val = 0.1,\n",
    "    callbacks=[early_stop, checkpoint, progress_bar]\n",
    ")\n",
    "\n",
    "trainer.fit(tft, train_loader, val_loader)\n",
    "print(\"Обучение завершено\")\n"
   ]
  },
  {
   "cell_type": "markdown",
   "id": "ad2775f0-16fd-489f-b2db-ad37403df643",
   "metadata": {},
   "source": [
    "#### Блок 8. Скользящее тестирование обученной TFT и оценка качества прогноза"
   ]
  },
  {
   "cell_type": "markdown",
   "id": "4c90fe02-a84c-4643-9755-fc4769c12f73",
   "metadata": {},
   "source": [
    "В данном блоке кода мы загружаем обученную модель TFT из чекпойнта, формируем шаблон `TimeSeriesDataSet` для предсказания и выполняем скользящее прогнозирование по окну фиксированной длины. Далее считаем метрики качества, строим наглядные графики и собираем финальный ДФ с результатами для анализа.\n",
    "\n",
    "В данном блоке мы проводим следующие операции:\n",
    "\n",
    "1. Задаём ключевые параметры прогноза: длину исторического окна `encoder_length = 90`, размер батча для предсказаний, имя целевой переменной `target_5d`, дату старта окна и пути к данным и чекпойнту модели.\n",
    "2. Читаем подготовленный CSV с признаками для TFT и загружаем обученную модель из файла `tft_model_target_5d.ckpt`.\n",
    "3. Явно переводим колонки `group_id`, `month`, `day_of_week`, `is_weekend` в строковый тип, чтобы при прогнозе они корректно обрабатывались как категориальные.\n",
    "4. На основе полного ДФ формируем базовый `TimeSeriesDataSet`, где задаём роли признаков: статические категориальные, временные известные заранее, временные неизвестные, а также нормализацию таргета `GroupNormalizer`. Этот шаблон далее используем для быстрой сборки датасетов на каждом шаге скользящего окна.\n",
    "5. Фильтруем данные, начиная с `start_date`, чтобы сформировать последовательность для пошагового прогноза.\n",
    "6. Для каждого шага берём последние 90 наблюдений как энкодер и текущую точку как декодер:  \n",
    "   6.1. создаём датасет через `TimeSeriesDataSet.from_dataset` с теми же настройками, что у шаблона;  \n",
    "   6.2. строим DataLoader и получаем прогноз модели;  \n",
    "   6.3. сохраняем прогноз `pred`, фактическое значение `true` (цена через 5 торговых дней), последнюю известную цену `last_price` и дату прогноза.  \n",
    "   Дополнительно отсеиваем прогнозы до 2025 года, чтобы тестировать только на будущем периоде.\n",
    "7. Считаем **MAE**, **RMSE**, **MAPE** по собранным массивах фактов и прогнозов, чтобы количественно оценить качество модели на реальном форвардном прогоне.\n",
    "8. Строим гистограмму относительных ошибок и график «факт vs прогноз» по датам, чтобы увидеть динамику и характер ошибок (сдвиги, сглаживание пиков, возможные всплески).\n",
    "9. Формируем `df_results` с датой, фактом, прогнозом, последней известной ценой до прогноза, абсолютной/относительной ошибками и смещением прогноза. Это удобная основа для последующего анализа, экспорта и включения в отчёт."
   ]
  },
  {
   "cell_type": "code",
   "execution_count": 11,
   "id": "8d141f1f-07ae-4cc6-a94b-2397061165a9",
   "metadata": {
    "scrolled": true
   },
   "outputs": [
    {
     "name": "stderr",
     "output_type": "stream",
     "text": [
      "C:\\Users\\Администратор\\AppData\\Local\\Programs\\Python\\Python310\\lib\\site-packages\\lightning\\pytorch\\utilities\\parsing.py:209: Attribute 'loss' is an instance of `nn.Module` and is already saved during checkpointing. It is recommended to ignore them using `self.save_hyperparameters(ignore=['loss'])`.\n",
      "C:\\Users\\Администратор\\AppData\\Local\\Programs\\Python\\Python310\\lib\\site-packages\\lightning\\pytorch\\utilities\\parsing.py:209: Attribute 'logging_metrics' is an instance of `nn.Module` and is already saved during checkpointing. It is recommended to ignore them using `self.save_hyperparameters(ignore=['logging_metrics'])`.\n",
      "💡 Tip: For seamless cloud uploads and versioning, try installing [litmodels](https://pypi.org/project/litmodels/) to enable LitModelCheckpoint, which syncs automatically with the Lightning model registry.\n",
      "GPU available: True (cuda), used: True\n",
      "TPU available: False, using: 0 TPU cores\n",
      "HPU available: False, using: 0 HPUs\n",
      "LOCAL_RANK: 0 - CUDA_VISIBLE_DEVICES: [0]\n",
      "C:\\Users\\Администратор\\AppData\\Local\\Programs\\Python\\Python310\\lib\\site-packages\\lightning\\pytorch\\trainer\\connectors\\data_connector.py:425: The 'predict_dataloader' does not have many workers which may be a bottleneck. Consider increasing the value of the `num_workers` argument` to `num_workers=19` in the `DataLoader` to improve performance.\n"
     ]
    },
    {
     "name": "stdout",
     "output_type": "stream",
     "text": [
      "2025-02-11 | Прогноз: 710.07 | Факт: 737.50\n"
     ]
    },
    {
     "name": "stderr",
     "output_type": "stream",
     "text": [
      "💡 Tip: For seamless cloud uploads and versioning, try installing [litmodels](https://pypi.org/project/litmodels/) to enable LitModelCheckpoint, which syncs automatically with the Lightning model registry.\n",
      "GPU available: True (cuda), used: True\n",
      "TPU available: False, using: 0 TPU cores\n",
      "HPU available: False, using: 0 HPUs\n",
      "LOCAL_RANK: 0 - CUDA_VISIBLE_DEVICES: [0]\n",
      "C:\\Users\\Администратор\\AppData\\Local\\Programs\\Python\\Python310\\lib\\site-packages\\lightning\\pytorch\\trainer\\connectors\\data_connector.py:425: The 'predict_dataloader' does not have many workers which may be a bottleneck. Consider increasing the value of the `num_workers` argument` to `num_workers=19` in the `DataLoader` to improve performance.\n"
     ]
    },
    {
     "name": "stdout",
     "output_type": "stream",
     "text": [
      "2025-02-12 | Прогноз: 725.20 | Факт: 744.50\n"
     ]
    },
    {
     "name": "stderr",
     "output_type": "stream",
     "text": [
      "💡 Tip: For seamless cloud uploads and versioning, try installing [litmodels](https://pypi.org/project/litmodels/) to enable LitModelCheckpoint, which syncs automatically with the Lightning model registry.\n",
      "GPU available: True (cuda), used: True\n",
      "TPU available: False, using: 0 TPU cores\n",
      "HPU available: False, using: 0 HPUs\n",
      "LOCAL_RANK: 0 - CUDA_VISIBLE_DEVICES: [0]\n",
      "C:\\Users\\Администратор\\AppData\\Local\\Programs\\Python\\Python310\\lib\\site-packages\\lightning\\pytorch\\trainer\\connectors\\data_connector.py:425: The 'predict_dataloader' does not have many workers which may be a bottleneck. Consider increasing the value of the `num_workers` argument` to `num_workers=19` in the `DataLoader` to improve performance.\n"
     ]
    },
    {
     "name": "stdout",
     "output_type": "stream",
     "text": [
      "2025-02-13 | Прогноз: 734.96 | Факт: 745.30\n"
     ]
    },
    {
     "name": "stderr",
     "output_type": "stream",
     "text": [
      "💡 Tip: For seamless cloud uploads and versioning, try installing [litmodels](https://pypi.org/project/litmodels/) to enable LitModelCheckpoint, which syncs automatically with the Lightning model registry.\n",
      "GPU available: True (cuda), used: True\n",
      "TPU available: False, using: 0 TPU cores\n",
      "HPU available: False, using: 0 HPUs\n",
      "LOCAL_RANK: 0 - CUDA_VISIBLE_DEVICES: [0]\n",
      "C:\\Users\\Администратор\\AppData\\Local\\Programs\\Python\\Python310\\lib\\site-packages\\lightning\\pytorch\\trainer\\connectors\\data_connector.py:425: The 'predict_dataloader' does not have many workers which may be a bottleneck. Consider increasing the value of the `num_workers` argument` to `num_workers=19` in the `DataLoader` to improve performance.\n"
     ]
    },
    {
     "name": "stdout",
     "output_type": "stream",
     "text": [
      "2025-02-14 | Прогноз: 731.60 | Факт: 754.40\n"
     ]
    },
    {
     "name": "stderr",
     "output_type": "stream",
     "text": [
      "💡 Tip: For seamless cloud uploads and versioning, try installing [litmodels](https://pypi.org/project/litmodels/) to enable LitModelCheckpoint, which syncs automatically with the Lightning model registry.\n",
      "GPU available: True (cuda), used: True\n",
      "TPU available: False, using: 0 TPU cores\n",
      "HPU available: False, using: 0 HPUs\n",
      "LOCAL_RANK: 0 - CUDA_VISIBLE_DEVICES: [0]\n",
      "C:\\Users\\Администратор\\AppData\\Local\\Programs\\Python\\Python310\\lib\\site-packages\\lightning\\pytorch\\trainer\\connectors\\data_connector.py:425: The 'predict_dataloader' does not have many workers which may be a bottleneck. Consider increasing the value of the `num_workers` argument` to `num_workers=19` in the `DataLoader` to improve performance.\n"
     ]
    },
    {
     "name": "stdout",
     "output_type": "stream",
     "text": [
      "2025-02-17 | Прогноз: 733.03 | Факт: 752.80\n"
     ]
    },
    {
     "name": "stderr",
     "output_type": "stream",
     "text": [
      "💡 Tip: For seamless cloud uploads and versioning, try installing [litmodels](https://pypi.org/project/litmodels/) to enable LitModelCheckpoint, which syncs automatically with the Lightning model registry.\n",
      "GPU available: True (cuda), used: True\n",
      "TPU available: False, using: 0 TPU cores\n",
      "HPU available: False, using: 0 HPUs\n",
      "LOCAL_RANK: 0 - CUDA_VISIBLE_DEVICES: [0]\n",
      "C:\\Users\\Администратор\\AppData\\Local\\Programs\\Python\\Python310\\lib\\site-packages\\lightning\\pytorch\\trainer\\connectors\\data_connector.py:425: The 'predict_dataloader' does not have many workers which may be a bottleneck. Consider increasing the value of the `num_workers` argument` to `num_workers=19` in the `DataLoader` to improve performance.\n"
     ]
    },
    {
     "name": "stdout",
     "output_type": "stream",
     "text": [
      "2025-02-18 | Прогноз: 741.51 | Факт: 764.30\n"
     ]
    },
    {
     "name": "stderr",
     "output_type": "stream",
     "text": [
      "💡 Tip: For seamless cloud uploads and versioning, try installing [litmodels](https://pypi.org/project/litmodels/) to enable LitModelCheckpoint, which syncs automatically with the Lightning model registry.\n",
      "GPU available: True (cuda), used: True\n",
      "TPU available: False, using: 0 TPU cores\n",
      "HPU available: False, using: 0 HPUs\n",
      "LOCAL_RANK: 0 - CUDA_VISIBLE_DEVICES: [0]\n",
      "C:\\Users\\Администратор\\AppData\\Local\\Programs\\Python\\Python310\\lib\\site-packages\\lightning\\pytorch\\trainer\\connectors\\data_connector.py:425: The 'predict_dataloader' does not have many workers which may be a bottleneck. Consider increasing the value of the `num_workers` argument` to `num_workers=19` in the `DataLoader` to improve performance.\n"
     ]
    },
    {
     "name": "stdout",
     "output_type": "stream",
     "text": [
      "2025-02-19 | Прогноз: 746.66 | Факт: 737.30\n"
     ]
    },
    {
     "name": "stderr",
     "output_type": "stream",
     "text": [
      "💡 Tip: For seamless cloud uploads and versioning, try installing [litmodels](https://pypi.org/project/litmodels/) to enable LitModelCheckpoint, which syncs automatically with the Lightning model registry.\n",
      "GPU available: True (cuda), used: True\n",
      "TPU available: False, using: 0 TPU cores\n",
      "HPU available: False, using: 0 HPUs\n",
      "LOCAL_RANK: 0 - CUDA_VISIBLE_DEVICES: [0]\n",
      "C:\\Users\\Администратор\\AppData\\Local\\Programs\\Python\\Python310\\lib\\site-packages\\lightning\\pytorch\\trainer\\connectors\\data_connector.py:425: The 'predict_dataloader' does not have many workers which may be a bottleneck. Consider increasing the value of the `num_workers` argument` to `num_workers=19` in the `DataLoader` to improve performance.\n"
     ]
    },
    {
     "name": "stdout",
     "output_type": "stream",
     "text": [
      "2025-02-20 | Прогноз: 749.07 | Факт: 713.00\n"
     ]
    },
    {
     "name": "stderr",
     "output_type": "stream",
     "text": [
      "💡 Tip: For seamless cloud uploads and versioning, try installing [litmodels](https://pypi.org/project/litmodels/) to enable LitModelCheckpoint, which syncs automatically with the Lightning model registry.\n",
      "GPU available: True (cuda), used: True\n",
      "TPU available: False, using: 0 TPU cores\n",
      "HPU available: False, using: 0 HPUs\n",
      "LOCAL_RANK: 0 - CUDA_VISIBLE_DEVICES: [0]\n",
      "C:\\Users\\Администратор\\AppData\\Local\\Programs\\Python\\Python310\\lib\\site-packages\\lightning\\pytorch\\trainer\\connectors\\data_connector.py:425: The 'predict_dataloader' does not have many workers which may be a bottleneck. Consider increasing the value of the `num_workers` argument` to `num_workers=19` in the `DataLoader` to improve performance.\n"
     ]
    },
    {
     "name": "stdout",
     "output_type": "stream",
     "text": [
      "2025-02-21 | Прогноз: 749.11 | Факт: 732.40\n"
     ]
    },
    {
     "name": "stderr",
     "output_type": "stream",
     "text": [
      "💡 Tip: For seamless cloud uploads and versioning, try installing [litmodels](https://pypi.org/project/litmodels/) to enable LitModelCheckpoint, which syncs automatically with the Lightning model registry.\n",
      "GPU available: True (cuda), used: True\n",
      "TPU available: False, using: 0 TPU cores\n",
      "HPU available: False, using: 0 HPUs\n",
      "LOCAL_RANK: 0 - CUDA_VISIBLE_DEVICES: [0]\n",
      "C:\\Users\\Администратор\\AppData\\Local\\Programs\\Python\\Python310\\lib\\site-packages\\lightning\\pytorch\\trainer\\connectors\\data_connector.py:425: The 'predict_dataloader' does not have many workers which may be a bottleneck. Consider increasing the value of the `num_workers` argument` to `num_workers=19` in the `DataLoader` to improve performance.\n"
     ]
    },
    {
     "name": "stdout",
     "output_type": "stream",
     "text": [
      "2025-02-24 | Прогноз: 743.45 | Факт: 711.30\n"
     ]
    },
    {
     "name": "stderr",
     "output_type": "stream",
     "text": [
      "💡 Tip: For seamless cloud uploads and versioning, try installing [litmodels](https://pypi.org/project/litmodels/) to enable LitModelCheckpoint, which syncs automatically with the Lightning model registry.\n",
      "GPU available: True (cuda), used: True\n",
      "TPU available: False, using: 0 TPU cores\n",
      "HPU available: False, using: 0 HPUs\n",
      "LOCAL_RANK: 0 - CUDA_VISIBLE_DEVICES: [0]\n",
      "C:\\Users\\Администратор\\AppData\\Local\\Programs\\Python\\Python310\\lib\\site-packages\\lightning\\pytorch\\trainer\\connectors\\data_connector.py:425: The 'predict_dataloader' does not have many workers which may be a bottleneck. Consider increasing the value of the `num_workers` argument` to `num_workers=19` in the `DataLoader` to improve performance.\n"
     ]
    },
    {
     "name": "stdout",
     "output_type": "stream",
     "text": [
      "2025-02-25 | Прогноз: 738.66 | Факт: 714.70\n"
     ]
    },
    {
     "name": "stderr",
     "output_type": "stream",
     "text": [
      "💡 Tip: For seamless cloud uploads and versioning, try installing [litmodels](https://pypi.org/project/litmodels/) to enable LitModelCheckpoint, which syncs automatically with the Lightning model registry.\n",
      "GPU available: True (cuda), used: True\n",
      "TPU available: False, using: 0 TPU cores\n",
      "HPU available: False, using: 0 HPUs\n",
      "LOCAL_RANK: 0 - CUDA_VISIBLE_DEVICES: [0]\n",
      "C:\\Users\\Администратор\\AppData\\Local\\Programs\\Python\\Python310\\lib\\site-packages\\lightning\\pytorch\\trainer\\connectors\\data_connector.py:425: The 'predict_dataloader' does not have many workers which may be a bottleneck. Consider increasing the value of the `num_workers` argument` to `num_workers=19` in the `DataLoader` to improve performance.\n"
     ]
    },
    {
     "name": "stdout",
     "output_type": "stream",
     "text": [
      "2025-02-26 | Прогноз: 740.40 | Факт: 705.00\n"
     ]
    },
    {
     "name": "stderr",
     "output_type": "stream",
     "text": [
      "💡 Tip: For seamless cloud uploads and versioning, try installing [litmodels](https://pypi.org/project/litmodels/) to enable LitModelCheckpoint, which syncs automatically with the Lightning model registry.\n",
      "GPU available: True (cuda), used: True\n",
      "TPU available: False, using: 0 TPU cores\n",
      "HPU available: False, using: 0 HPUs\n",
      "LOCAL_RANK: 0 - CUDA_VISIBLE_DEVICES: [0]\n",
      "C:\\Users\\Администратор\\AppData\\Local\\Programs\\Python\\Python310\\lib\\site-packages\\lightning\\pytorch\\trainer\\connectors\\data_connector.py:425: The 'predict_dataloader' does not have many workers which may be a bottleneck. Consider increasing the value of the `num_workers` argument` to `num_workers=19` in the `DataLoader` to improve performance.\n"
     ]
    },
    {
     "name": "stdout",
     "output_type": "stream",
     "text": [
      "2025-02-27 | Прогноз: 726.53 | Факт: 700.50\n"
     ]
    },
    {
     "name": "stderr",
     "output_type": "stream",
     "text": [
      "💡 Tip: For seamless cloud uploads and versioning, try installing [litmodels](https://pypi.org/project/litmodels/) to enable LitModelCheckpoint, which syncs automatically with the Lightning model registry.\n",
      "GPU available: True (cuda), used: True\n",
      "TPU available: False, using: 0 TPU cores\n",
      "HPU available: False, using: 0 HPUs\n",
      "LOCAL_RANK: 0 - CUDA_VISIBLE_DEVICES: [0]\n",
      "C:\\Users\\Администратор\\AppData\\Local\\Programs\\Python\\Python310\\lib\\site-packages\\lightning\\pytorch\\trainer\\connectors\\data_connector.py:425: The 'predict_dataloader' does not have many workers which may be a bottleneck. Consider increasing the value of the `num_workers` argument` to `num_workers=19` in the `DataLoader` to improve performance.\n"
     ]
    },
    {
     "name": "stdout",
     "output_type": "stream",
     "text": [
      "2025-02-28 | Прогноз: 718.31 | Факт: 693.00\n"
     ]
    },
    {
     "name": "stderr",
     "output_type": "stream",
     "text": [
      "💡 Tip: For seamless cloud uploads and versioning, try installing [litmodels](https://pypi.org/project/litmodels/) to enable LitModelCheckpoint, which syncs automatically with the Lightning model registry.\n",
      "GPU available: True (cuda), used: True\n",
      "TPU available: False, using: 0 TPU cores\n",
      "HPU available: False, using: 0 HPUs\n",
      "LOCAL_RANK: 0 - CUDA_VISIBLE_DEVICES: [0]\n",
      "C:\\Users\\Администратор\\AppData\\Local\\Programs\\Python\\Python310\\lib\\site-packages\\lightning\\pytorch\\trainer\\connectors\\data_connector.py:425: The 'predict_dataloader' does not have many workers which may be a bottleneck. Consider increasing the value of the `num_workers` argument` to `num_workers=19` in the `DataLoader` to improve performance.\n"
     ]
    },
    {
     "name": "stdout",
     "output_type": "stream",
     "text": [
      "2025-03-03 | Прогноз: 709.15 | Факт: 683.60\n"
     ]
    },
    {
     "name": "stderr",
     "output_type": "stream",
     "text": [
      "💡 Tip: For seamless cloud uploads and versioning, try installing [litmodels](https://pypi.org/project/litmodels/) to enable LitModelCheckpoint, which syncs automatically with the Lightning model registry.\n",
      "GPU available: True (cuda), used: True\n",
      "TPU available: False, using: 0 TPU cores\n",
      "HPU available: False, using: 0 HPUs\n",
      "LOCAL_RANK: 0 - CUDA_VISIBLE_DEVICES: [0]\n",
      "C:\\Users\\Администратор\\AppData\\Local\\Programs\\Python\\Python310\\lib\\site-packages\\lightning\\pytorch\\trainer\\connectors\\data_connector.py:425: The 'predict_dataloader' does not have many workers which may be a bottleneck. Consider increasing the value of the `num_workers` argument` to `num_workers=19` in the `DataLoader` to improve performance.\n"
     ]
    },
    {
     "name": "stdout",
     "output_type": "stream",
     "text": [
      "2025-03-04 | Прогноз: 699.13 | Факт: 694.70\n"
     ]
    },
    {
     "name": "stderr",
     "output_type": "stream",
     "text": [
      "💡 Tip: For seamless cloud uploads and versioning, try installing [litmodels](https://pypi.org/project/litmodels/) to enable LitModelCheckpoint, which syncs automatically with the Lightning model registry.\n",
      "GPU available: True (cuda), used: True\n",
      "TPU available: False, using: 0 TPU cores\n",
      "HPU available: False, using: 0 HPUs\n",
      "LOCAL_RANK: 0 - CUDA_VISIBLE_DEVICES: [0]\n",
      "C:\\Users\\Администратор\\AppData\\Local\\Programs\\Python\\Python310\\lib\\site-packages\\lightning\\pytorch\\trainer\\connectors\\data_connector.py:425: The 'predict_dataloader' does not have many workers which may be a bottleneck. Consider increasing the value of the `num_workers` argument` to `num_workers=19` in the `DataLoader` to improve performance.\n"
     ]
    },
    {
     "name": "stdout",
     "output_type": "stream",
     "text": [
      "2025-03-05 | Прогноз: 703.79 | Факт: 694.10\n"
     ]
    },
    {
     "name": "stderr",
     "output_type": "stream",
     "text": [
      "💡 Tip: For seamless cloud uploads and versioning, try installing [litmodels](https://pypi.org/project/litmodels/) to enable LitModelCheckpoint, which syncs automatically with the Lightning model registry.\n",
      "GPU available: True (cuda), used: True\n",
      "TPU available: False, using: 0 TPU cores\n",
      "HPU available: False, using: 0 HPUs\n",
      "LOCAL_RANK: 0 - CUDA_VISIBLE_DEVICES: [0]\n",
      "C:\\Users\\Администратор\\AppData\\Local\\Programs\\Python\\Python310\\lib\\site-packages\\lightning\\pytorch\\trainer\\connectors\\data_connector.py:425: The 'predict_dataloader' does not have many workers which may be a bottleneck. Consider increasing the value of the `num_workers` argument` to `num_workers=19` in the `DataLoader` to improve performance.\n"
     ]
    },
    {
     "name": "stdout",
     "output_type": "stream",
     "text": [
      "2025-03-06 | Прогноз: 699.66 | Факт: 710.30\n"
     ]
    },
    {
     "name": "stderr",
     "output_type": "stream",
     "text": [
      "💡 Tip: For seamless cloud uploads and versioning, try installing [litmodels](https://pypi.org/project/litmodels/) to enable LitModelCheckpoint, which syncs automatically with the Lightning model registry.\n",
      "GPU available: True (cuda), used: True\n",
      "TPU available: False, using: 0 TPU cores\n",
      "HPU available: False, using: 0 HPUs\n",
      "LOCAL_RANK: 0 - CUDA_VISIBLE_DEVICES: [0]\n",
      "C:\\Users\\Администратор\\AppData\\Local\\Programs\\Python\\Python310\\lib\\site-packages\\lightning\\pytorch\\trainer\\connectors\\data_connector.py:425: The 'predict_dataloader' does not have many workers which may be a bottleneck. Consider increasing the value of the `num_workers` argument` to `num_workers=19` in the `DataLoader` to improve performance.\n"
     ]
    },
    {
     "name": "stdout",
     "output_type": "stream",
     "text": [
      "2025-03-07 | Прогноз: 694.34 | Факт: 715.80\n"
     ]
    },
    {
     "name": "stderr",
     "output_type": "stream",
     "text": [
      "💡 Tip: For seamless cloud uploads and versioning, try installing [litmodels](https://pypi.org/project/litmodels/) to enable LitModelCheckpoint, which syncs automatically with the Lightning model registry.\n",
      "GPU available: True (cuda), used: True\n",
      "TPU available: False, using: 0 TPU cores\n",
      "HPU available: False, using: 0 HPUs\n",
      "LOCAL_RANK: 0 - CUDA_VISIBLE_DEVICES: [0]\n",
      "C:\\Users\\Администратор\\AppData\\Local\\Programs\\Python\\Python310\\lib\\site-packages\\lightning\\pytorch\\trainer\\connectors\\data_connector.py:425: The 'predict_dataloader' does not have many workers which may be a bottleneck. Consider increasing the value of the `num_workers` argument` to `num_workers=19` in the `DataLoader` to improve performance.\n"
     ]
    },
    {
     "name": "stdout",
     "output_type": "stream",
     "text": [
      "2025-03-10 | Прогноз: 685.17 | Факт: 714.80\n"
     ]
    },
    {
     "name": "stderr",
     "output_type": "stream",
     "text": [
      "💡 Tip: For seamless cloud uploads and versioning, try installing [litmodels](https://pypi.org/project/litmodels/) to enable LitModelCheckpoint, which syncs automatically with the Lightning model registry.\n",
      "GPU available: True (cuda), used: True\n",
      "TPU available: False, using: 0 TPU cores\n",
      "HPU available: False, using: 0 HPUs\n",
      "LOCAL_RANK: 0 - CUDA_VISIBLE_DEVICES: [0]\n",
      "C:\\Users\\Администратор\\AppData\\Local\\Programs\\Python\\Python310\\lib\\site-packages\\lightning\\pytorch\\trainer\\connectors\\data_connector.py:425: The 'predict_dataloader' does not have many workers which may be a bottleneck. Consider increasing the value of the `num_workers` argument` to `num_workers=19` in the `DataLoader` to improve performance.\n"
     ]
    },
    {
     "name": "stdout",
     "output_type": "stream",
     "text": [
      "2025-03-11 | Прогноз: 685.20 | Факт: 705.00\n"
     ]
    },
    {
     "name": "stderr",
     "output_type": "stream",
     "text": [
      "💡 Tip: For seamless cloud uploads and versioning, try installing [litmodels](https://pypi.org/project/litmodels/) to enable LitModelCheckpoint, which syncs automatically with the Lightning model registry.\n",
      "GPU available: True (cuda), used: True\n",
      "TPU available: False, using: 0 TPU cores\n",
      "HPU available: False, using: 0 HPUs\n",
      "LOCAL_RANK: 0 - CUDA_VISIBLE_DEVICES: [0]\n",
      "C:\\Users\\Администратор\\AppData\\Local\\Programs\\Python\\Python310\\lib\\site-packages\\lightning\\pytorch\\trainer\\connectors\\data_connector.py:425: The 'predict_dataloader' does not have many workers which may be a bottleneck. Consider increasing the value of the `num_workers` argument` to `num_workers=19` in the `DataLoader` to improve performance.\n"
     ]
    },
    {
     "name": "stdout",
     "output_type": "stream",
     "text": [
      "2025-03-12 | Прогноз: 698.97 | Факт: 699.90\n"
     ]
    },
    {
     "name": "stderr",
     "output_type": "stream",
     "text": [
      "💡 Tip: For seamless cloud uploads and versioning, try installing [litmodels](https://pypi.org/project/litmodels/) to enable LitModelCheckpoint, which syncs automatically with the Lightning model registry.\n",
      "GPU available: True (cuda), used: True\n",
      "TPU available: False, using: 0 TPU cores\n",
      "HPU available: False, using: 0 HPUs\n",
      "LOCAL_RANK: 0 - CUDA_VISIBLE_DEVICES: [0]\n",
      "C:\\Users\\Администратор\\AppData\\Local\\Programs\\Python\\Python310\\lib\\site-packages\\lightning\\pytorch\\trainer\\connectors\\data_connector.py:425: The 'predict_dataloader' does not have many workers which may be a bottleneck. Consider increasing the value of the `num_workers` argument` to `num_workers=19` in the `DataLoader` to improve performance.\n"
     ]
    },
    {
     "name": "stdout",
     "output_type": "stream",
     "text": [
      "2025-03-13 | Прогноз: 704.05 | Факт: 688.60\n"
     ]
    },
    {
     "name": "stderr",
     "output_type": "stream",
     "text": [
      "💡 Tip: For seamless cloud uploads and versioning, try installing [litmodels](https://pypi.org/project/litmodels/) to enable LitModelCheckpoint, which syncs automatically with the Lightning model registry.\n",
      "GPU available: True (cuda), used: True\n",
      "TPU available: False, using: 0 TPU cores\n",
      "HPU available: False, using: 0 HPUs\n",
      "LOCAL_RANK: 0 - CUDA_VISIBLE_DEVICES: [0]\n",
      "C:\\Users\\Администратор\\AppData\\Local\\Programs\\Python\\Python310\\lib\\site-packages\\lightning\\pytorch\\trainer\\connectors\\data_connector.py:425: The 'predict_dataloader' does not have many workers which may be a bottleneck. Consider increasing the value of the `num_workers` argument` to `num_workers=19` in the `DataLoader` to improve performance.\n"
     ]
    },
    {
     "name": "stdout",
     "output_type": "stream",
     "text": [
      "2025-03-14 | Прогноз: 707.19 | Факт: 693.90\n"
     ]
    },
    {
     "name": "stderr",
     "output_type": "stream",
     "text": [
      "💡 Tip: For seamless cloud uploads and versioning, try installing [litmodels](https://pypi.org/project/litmodels/) to enable LitModelCheckpoint, which syncs automatically with the Lightning model registry.\n",
      "GPU available: True (cuda), used: True\n",
      "TPU available: False, using: 0 TPU cores\n",
      "HPU available: False, using: 0 HPUs\n",
      "LOCAL_RANK: 0 - CUDA_VISIBLE_DEVICES: [0]\n",
      "C:\\Users\\Администратор\\AppData\\Local\\Programs\\Python\\Python310\\lib\\site-packages\\lightning\\pytorch\\trainer\\connectors\\data_connector.py:425: The 'predict_dataloader' does not have many workers which may be a bottleneck. Consider increasing the value of the `num_workers` argument` to `num_workers=19` in the `DataLoader` to improve performance.\n"
     ]
    },
    {
     "name": "stdout",
     "output_type": "stream",
     "text": [
      "2025-03-17 | Прогноз: 699.58 | Факт: 686.60\n"
     ]
    },
    {
     "name": "stderr",
     "output_type": "stream",
     "text": [
      "💡 Tip: For seamless cloud uploads and versioning, try installing [litmodels](https://pypi.org/project/litmodels/) to enable LitModelCheckpoint, which syncs automatically with the Lightning model registry.\n",
      "GPU available: True (cuda), used: True\n",
      "TPU available: False, using: 0 TPU cores\n",
      "HPU available: False, using: 0 HPUs\n",
      "LOCAL_RANK: 0 - CUDA_VISIBLE_DEVICES: [0]\n",
      "C:\\Users\\Администратор\\AppData\\Local\\Programs\\Python\\Python310\\lib\\site-packages\\lightning\\pytorch\\trainer\\connectors\\data_connector.py:425: The 'predict_dataloader' does not have many workers which may be a bottleneck. Consider increasing the value of the `num_workers` argument` to `num_workers=19` in the `DataLoader` to improve performance.\n"
     ]
    },
    {
     "name": "stdout",
     "output_type": "stream",
     "text": [
      "2025-03-18 | Прогноз: 694.02 | Факт: 697.90\n"
     ]
    },
    {
     "name": "stderr",
     "output_type": "stream",
     "text": [
      "💡 Tip: For seamless cloud uploads and versioning, try installing [litmodels](https://pypi.org/project/litmodels/) to enable LitModelCheckpoint, which syncs automatically with the Lightning model registry.\n",
      "GPU available: True (cuda), used: True\n",
      "TPU available: False, using: 0 TPU cores\n",
      "HPU available: False, using: 0 HPUs\n",
      "LOCAL_RANK: 0 - CUDA_VISIBLE_DEVICES: [0]\n",
      "C:\\Users\\Администратор\\AppData\\Local\\Programs\\Python\\Python310\\lib\\site-packages\\lightning\\pytorch\\trainer\\connectors\\data_connector.py:425: The 'predict_dataloader' does not have many workers which may be a bottleneck. Consider increasing the value of the `num_workers` argument` to `num_workers=19` in the `DataLoader` to improve performance.\n"
     ]
    },
    {
     "name": "stdout",
     "output_type": "stream",
     "text": [
      "2025-03-19 | Прогноз: 694.22 | Факт: 684.50\n"
     ]
    },
    {
     "name": "stderr",
     "output_type": "stream",
     "text": [
      "💡 Tip: For seamless cloud uploads and versioning, try installing [litmodels](https://pypi.org/project/litmodels/) to enable LitModelCheckpoint, which syncs automatically with the Lightning model registry.\n",
      "GPU available: True (cuda), used: True\n",
      "TPU available: False, using: 0 TPU cores\n",
      "HPU available: False, using: 0 HPUs\n",
      "LOCAL_RANK: 0 - CUDA_VISIBLE_DEVICES: [0]\n",
      "C:\\Users\\Администратор\\AppData\\Local\\Programs\\Python\\Python310\\lib\\site-packages\\lightning\\pytorch\\trainer\\connectors\\data_connector.py:425: The 'predict_dataloader' does not have many workers which may be a bottleneck. Consider increasing the value of the `num_workers` argument` to `num_workers=19` in the `DataLoader` to improve performance.\n"
     ]
    },
    {
     "name": "stdout",
     "output_type": "stream",
     "text": [
      "2025-03-20 | Прогноз: 690.89 | Факт: 675.90\n"
     ]
    },
    {
     "name": "stderr",
     "output_type": "stream",
     "text": [
      "💡 Tip: For seamless cloud uploads and versioning, try installing [litmodels](https://pypi.org/project/litmodels/) to enable LitModelCheckpoint, which syncs automatically with the Lightning model registry.\n",
      "GPU available: True (cuda), used: True\n",
      "TPU available: False, using: 0 TPU cores\n",
      "HPU available: False, using: 0 HPUs\n",
      "LOCAL_RANK: 0 - CUDA_VISIBLE_DEVICES: [0]\n",
      "C:\\Users\\Администратор\\AppData\\Local\\Programs\\Python\\Python310\\lib\\site-packages\\lightning\\pytorch\\trainer\\connectors\\data_connector.py:425: The 'predict_dataloader' does not have many workers which may be a bottleneck. Consider increasing the value of the `num_workers` argument` to `num_workers=19` in the `DataLoader` to improve performance.\n"
     ]
    },
    {
     "name": "stdout",
     "output_type": "stream",
     "text": [
      "2025-03-21 | Прогноз: 684.08 | Факт: 687.60\n"
     ]
    },
    {
     "name": "stderr",
     "output_type": "stream",
     "text": [
      "💡 Tip: For seamless cloud uploads and versioning, try installing [litmodels](https://pypi.org/project/litmodels/) to enable LitModelCheckpoint, which syncs automatically with the Lightning model registry.\n",
      "GPU available: True (cuda), used: True\n",
      "TPU available: False, using: 0 TPU cores\n",
      "HPU available: False, using: 0 HPUs\n",
      "LOCAL_RANK: 0 - CUDA_VISIBLE_DEVICES: [0]\n",
      "C:\\Users\\Администратор\\AppData\\Local\\Programs\\Python\\Python310\\lib\\site-packages\\lightning\\pytorch\\trainer\\connectors\\data_connector.py:425: The 'predict_dataloader' does not have many workers which may be a bottleneck. Consider increasing the value of the `num_workers` argument` to `num_workers=19` in the `DataLoader` to improve performance.\n"
     ]
    },
    {
     "name": "stdout",
     "output_type": "stream",
     "text": [
      "2025-03-24 | Прогноз: 676.76 | Факт: 673.30\n"
     ]
    },
    {
     "name": "stderr",
     "output_type": "stream",
     "text": [
      "💡 Tip: For seamless cloud uploads and versioning, try installing [litmodels](https://pypi.org/project/litmodels/) to enable LitModelCheckpoint, which syncs automatically with the Lightning model registry.\n",
      "GPU available: True (cuda), used: True\n",
      "TPU available: False, using: 0 TPU cores\n",
      "HPU available: False, using: 0 HPUs\n",
      "LOCAL_RANK: 0 - CUDA_VISIBLE_DEVICES: [0]\n",
      "C:\\Users\\Администратор\\AppData\\Local\\Programs\\Python\\Python310\\lib\\site-packages\\lightning\\pytorch\\trainer\\connectors\\data_connector.py:425: The 'predict_dataloader' does not have many workers which may be a bottleneck. Consider increasing the value of the `num_workers` argument` to `num_workers=19` in the `DataLoader` to improve performance.\n"
     ]
    },
    {
     "name": "stdout",
     "output_type": "stream",
     "text": [
      "2025-03-25 | Прогноз: 672.10 | Факт: 653.50\n"
     ]
    },
    {
     "name": "stderr",
     "output_type": "stream",
     "text": [
      "💡 Tip: For seamless cloud uploads and versioning, try installing [litmodels](https://pypi.org/project/litmodels/) to enable LitModelCheckpoint, which syncs automatically with the Lightning model registry.\n",
      "GPU available: True (cuda), used: True\n",
      "TPU available: False, using: 0 TPU cores\n",
      "HPU available: False, using: 0 HPUs\n",
      "LOCAL_RANK: 0 - CUDA_VISIBLE_DEVICES: [0]\n",
      "C:\\Users\\Администратор\\AppData\\Local\\Programs\\Python\\Python310\\lib\\site-packages\\lightning\\pytorch\\trainer\\connectors\\data_connector.py:425: The 'predict_dataloader' does not have many workers which may be a bottleneck. Consider increasing the value of the `num_workers` argument` to `num_workers=19` in the `DataLoader` to improve performance.\n"
     ]
    },
    {
     "name": "stdout",
     "output_type": "stream",
     "text": [
      "2025-03-26 | Прогноз: 677.80 | Факт: 673.20\n"
     ]
    },
    {
     "name": "stderr",
     "output_type": "stream",
     "text": [
      "💡 Tip: For seamless cloud uploads and versioning, try installing [litmodels](https://pypi.org/project/litmodels/) to enable LitModelCheckpoint, which syncs automatically with the Lightning model registry.\n",
      "GPU available: True (cuda), used: True\n",
      "TPU available: False, using: 0 TPU cores\n",
      "HPU available: False, using: 0 HPUs\n",
      "LOCAL_RANK: 0 - CUDA_VISIBLE_DEVICES: [0]\n",
      "C:\\Users\\Администратор\\AppData\\Local\\Programs\\Python\\Python310\\lib\\site-packages\\lightning\\pytorch\\trainer\\connectors\\data_connector.py:425: The 'predict_dataloader' does not have many workers which may be a bottleneck. Consider increasing the value of the `num_workers` argument` to `num_workers=19` in the `DataLoader` to improve performance.\n"
     ]
    },
    {
     "name": "stdout",
     "output_type": "stream",
     "text": [
      "2025-03-27 | Прогноз: 670.41 | Факт: 649.40\n"
     ]
    },
    {
     "name": "stderr",
     "output_type": "stream",
     "text": [
      "💡 Tip: For seamless cloud uploads and versioning, try installing [litmodels](https://pypi.org/project/litmodels/) to enable LitModelCheckpoint, which syncs automatically with the Lightning model registry.\n",
      "GPU available: True (cuda), used: True\n",
      "TPU available: False, using: 0 TPU cores\n",
      "HPU available: False, using: 0 HPUs\n",
      "LOCAL_RANK: 0 - CUDA_VISIBLE_DEVICES: [0]\n",
      "C:\\Users\\Администратор\\AppData\\Local\\Programs\\Python\\Python310\\lib\\site-packages\\lightning\\pytorch\\trainer\\connectors\\data_connector.py:425: The 'predict_dataloader' does not have many workers which may be a bottleneck. Consider increasing the value of the `num_workers` argument` to `num_workers=19` in the `DataLoader` to improve performance.\n"
     ]
    },
    {
     "name": "stdout",
     "output_type": "stream",
     "text": [
      "2025-03-28 | Прогноз: 662.91 | Факт: 618.20\n"
     ]
    },
    {
     "name": "stderr",
     "output_type": "stream",
     "text": [
      "💡 Tip: For seamless cloud uploads and versioning, try installing [litmodels](https://pypi.org/project/litmodels/) to enable LitModelCheckpoint, which syncs automatically with the Lightning model registry.\n",
      "GPU available: True (cuda), used: True\n",
      "TPU available: False, using: 0 TPU cores\n",
      "HPU available: False, using: 0 HPUs\n",
      "LOCAL_RANK: 0 - CUDA_VISIBLE_DEVICES: [0]\n",
      "C:\\Users\\Администратор\\AppData\\Local\\Programs\\Python\\Python310\\lib\\site-packages\\lightning\\pytorch\\trainer\\connectors\\data_connector.py:425: The 'predict_dataloader' does not have many workers which may be a bottleneck. Consider increasing the value of the `num_workers` argument` to `num_workers=19` in the `DataLoader` to improve performance.\n"
     ]
    },
    {
     "name": "stdout",
     "output_type": "stream",
     "text": [
      "2025-03-31 | Прогноз: 653.12 | Факт: 636.30\n"
     ]
    },
    {
     "name": "stderr",
     "output_type": "stream",
     "text": [
      "💡 Tip: For seamless cloud uploads and versioning, try installing [litmodels](https://pypi.org/project/litmodels/) to enable LitModelCheckpoint, which syncs automatically with the Lightning model registry.\n",
      "GPU available: True (cuda), used: True\n",
      "TPU available: False, using: 0 TPU cores\n",
      "HPU available: False, using: 0 HPUs\n",
      "LOCAL_RANK: 0 - CUDA_VISIBLE_DEVICES: [0]\n",
      "C:\\Users\\Администратор\\AppData\\Local\\Programs\\Python\\Python310\\lib\\site-packages\\lightning\\pytorch\\trainer\\connectors\\data_connector.py:425: The 'predict_dataloader' does not have many workers which may be a bottleneck. Consider increasing the value of the `num_workers` argument` to `num_workers=19` in the `DataLoader` to improve performance.\n"
     ]
    },
    {
     "name": "stdout",
     "output_type": "stream",
     "text": [
      "2025-04-01 | Прогноз: 648.47 | Факт: 621.10\n"
     ]
    },
    {
     "name": "stderr",
     "output_type": "stream",
     "text": [
      "💡 Tip: For seamless cloud uploads and versioning, try installing [litmodels](https://pypi.org/project/litmodels/) to enable LitModelCheckpoint, which syncs automatically with the Lightning model registry.\n",
      "GPU available: True (cuda), used: True\n",
      "TPU available: False, using: 0 TPU cores\n",
      "HPU available: False, using: 0 HPUs\n",
      "LOCAL_RANK: 0 - CUDA_VISIBLE_DEVICES: [0]\n",
      "C:\\Users\\Администратор\\AppData\\Local\\Programs\\Python\\Python310\\lib\\site-packages\\lightning\\pytorch\\trainer\\connectors\\data_connector.py:425: The 'predict_dataloader' does not have many workers which may be a bottleneck. Consider increasing the value of the `num_workers` argument` to `num_workers=19` in the `DataLoader` to improve performance.\n"
     ]
    },
    {
     "name": "stdout",
     "output_type": "stream",
     "text": [
      "2025-04-02 | Прогноз: 644.45 | Факт: 638.20\n"
     ]
    },
    {
     "name": "stderr",
     "output_type": "stream",
     "text": [
      "💡 Tip: For seamless cloud uploads and versioning, try installing [litmodels](https://pypi.org/project/litmodels/) to enable LitModelCheckpoint, which syncs automatically with the Lightning model registry.\n",
      "GPU available: True (cuda), used: True\n",
      "TPU available: False, using: 0 TPU cores\n",
      "HPU available: False, using: 0 HPUs\n",
      "LOCAL_RANK: 0 - CUDA_VISIBLE_DEVICES: [0]\n",
      "C:\\Users\\Администратор\\AppData\\Local\\Programs\\Python\\Python310\\lib\\site-packages\\lightning\\pytorch\\trainer\\connectors\\data_connector.py:425: The 'predict_dataloader' does not have many workers which may be a bottleneck. Consider increasing the value of the `num_workers` argument` to `num_workers=19` in the `DataLoader` to improve performance.\n"
     ]
    },
    {
     "name": "stdout",
     "output_type": "stream",
     "text": [
      "2025-04-03 | Прогноз: 644.92 | Факт: 655.80\n"
     ]
    },
    {
     "name": "stderr",
     "output_type": "stream",
     "text": [
      "💡 Tip: For seamless cloud uploads and versioning, try installing [litmodels](https://pypi.org/project/litmodels/) to enable LitModelCheckpoint, which syncs automatically with the Lightning model registry.\n",
      "GPU available: True (cuda), used: True\n",
      "TPU available: False, using: 0 TPU cores\n",
      "HPU available: False, using: 0 HPUs\n",
      "LOCAL_RANK: 0 - CUDA_VISIBLE_DEVICES: [0]\n",
      "C:\\Users\\Администратор\\AppData\\Local\\Programs\\Python\\Python310\\lib\\site-packages\\lightning\\pytorch\\trainer\\connectors\\data_connector.py:425: The 'predict_dataloader' does not have many workers which may be a bottleneck. Consider increasing the value of the `num_workers` argument` to `num_workers=19` in the `DataLoader` to improve performance.\n"
     ]
    },
    {
     "name": "stdout",
     "output_type": "stream",
     "text": [
      "2025-04-04 | Прогноз: 630.54 | Факт: 686.90\n"
     ]
    },
    {
     "name": "stderr",
     "output_type": "stream",
     "text": [
      "💡 Tip: For seamless cloud uploads and versioning, try installing [litmodels](https://pypi.org/project/litmodels/) to enable LitModelCheckpoint, which syncs automatically with the Lightning model registry.\n",
      "GPU available: True (cuda), used: True\n",
      "TPU available: False, using: 0 TPU cores\n",
      "HPU available: False, using: 0 HPUs\n",
      "LOCAL_RANK: 0 - CUDA_VISIBLE_DEVICES: [0]\n",
      "C:\\Users\\Администратор\\AppData\\Local\\Programs\\Python\\Python310\\lib\\site-packages\\lightning\\pytorch\\trainer\\connectors\\data_connector.py:425: The 'predict_dataloader' does not have many workers which may be a bottleneck. Consider increasing the value of the `num_workers` argument` to `num_workers=19` in the `DataLoader` to improve performance.\n"
     ]
    },
    {
     "name": "stdout",
     "output_type": "stream",
     "text": [
      "2025-04-07 | Прогноз: 622.74 | Факт: 686.40\n"
     ]
    },
    {
     "name": "stderr",
     "output_type": "stream",
     "text": [
      "💡 Tip: For seamless cloud uploads and versioning, try installing [litmodels](https://pypi.org/project/litmodels/) to enable LitModelCheckpoint, which syncs automatically with the Lightning model registry.\n",
      "GPU available: True (cuda), used: True\n",
      "TPU available: False, using: 0 TPU cores\n",
      "HPU available: False, using: 0 HPUs\n",
      "LOCAL_RANK: 0 - CUDA_VISIBLE_DEVICES: [0]\n",
      "C:\\Users\\Администратор\\AppData\\Local\\Programs\\Python\\Python310\\lib\\site-packages\\lightning\\pytorch\\trainer\\connectors\\data_connector.py:425: The 'predict_dataloader' does not have many workers which may be a bottleneck. Consider increasing the value of the `num_workers` argument` to `num_workers=19` in the `DataLoader` to improve performance.\n"
     ]
    },
    {
     "name": "stdout",
     "output_type": "stream",
     "text": [
      "2025-04-08 | Прогноз: 631.91 | Факт: 684.10\n"
     ]
    },
    {
     "name": "stderr",
     "output_type": "stream",
     "text": [
      "💡 Tip: For seamless cloud uploads and versioning, try installing [litmodels](https://pypi.org/project/litmodels/) to enable LitModelCheckpoint, which syncs automatically with the Lightning model registry.\n",
      "GPU available: True (cuda), used: True\n",
      "TPU available: False, using: 0 TPU cores\n",
      "HPU available: False, using: 0 HPUs\n",
      "LOCAL_RANK: 0 - CUDA_VISIBLE_DEVICES: [0]\n",
      "C:\\Users\\Администратор\\AppData\\Local\\Programs\\Python\\Python310\\lib\\site-packages\\lightning\\pytorch\\trainer\\connectors\\data_connector.py:425: The 'predict_dataloader' does not have many workers which may be a bottleneck. Consider increasing the value of the `num_workers` argument` to `num_workers=19` in the `DataLoader` to improve performance.\n"
     ]
    },
    {
     "name": "stdout",
     "output_type": "stream",
     "text": [
      "2025-04-09 | Прогноз: 641.68 | Факт: 685.90\n"
     ]
    },
    {
     "name": "stderr",
     "output_type": "stream",
     "text": [
      "💡 Tip: For seamless cloud uploads and versioning, try installing [litmodels](https://pypi.org/project/litmodels/) to enable LitModelCheckpoint, which syncs automatically with the Lightning model registry.\n",
      "GPU available: True (cuda), used: True\n",
      "TPU available: False, using: 0 TPU cores\n",
      "HPU available: False, using: 0 HPUs\n",
      "LOCAL_RANK: 0 - CUDA_VISIBLE_DEVICES: [0]\n",
      "C:\\Users\\Администратор\\AppData\\Local\\Programs\\Python\\Python310\\lib\\site-packages\\lightning\\pytorch\\trainer\\connectors\\data_connector.py:425: The 'predict_dataloader' does not have many workers which may be a bottleneck. Consider increasing the value of the `num_workers` argument` to `num_workers=19` in the `DataLoader` to improve performance.\n"
     ]
    },
    {
     "name": "stdout",
     "output_type": "stream",
     "text": [
      "2025-04-10 | Прогноз: 661.05 | Факт: 694.00\n"
     ]
    },
    {
     "name": "stderr",
     "output_type": "stream",
     "text": [
      "💡 Tip: For seamless cloud uploads and versioning, try installing [litmodels](https://pypi.org/project/litmodels/) to enable LitModelCheckpoint, which syncs automatically with the Lightning model registry.\n",
      "GPU available: True (cuda), used: True\n",
      "TPU available: False, using: 0 TPU cores\n",
      "HPU available: False, using: 0 HPUs\n",
      "LOCAL_RANK: 0 - CUDA_VISIBLE_DEVICES: [0]\n",
      "C:\\Users\\Администратор\\AppData\\Local\\Programs\\Python\\Python310\\lib\\site-packages\\lightning\\pytorch\\trainer\\connectors\\data_connector.py:425: The 'predict_dataloader' does not have many workers which may be a bottleneck. Consider increasing the value of the `num_workers` argument` to `num_workers=19` in the `DataLoader` to improve performance.\n"
     ]
    },
    {
     "name": "stdout",
     "output_type": "stream",
     "text": [
      "2025-04-11 | Прогноз: 676.63 | Факт: 693.40\n"
     ]
    },
    {
     "name": "stderr",
     "output_type": "stream",
     "text": [
      "💡 Tip: For seamless cloud uploads and versioning, try installing [litmodels](https://pypi.org/project/litmodels/) to enable LitModelCheckpoint, which syncs automatically with the Lightning model registry.\n",
      "GPU available: True (cuda), used: True\n",
      "TPU available: False, using: 0 TPU cores\n",
      "HPU available: False, using: 0 HPUs\n",
      "LOCAL_RANK: 0 - CUDA_VISIBLE_DEVICES: [0]\n",
      "C:\\Users\\Администратор\\AppData\\Local\\Programs\\Python\\Python310\\lib\\site-packages\\lightning\\pytorch\\trainer\\connectors\\data_connector.py:425: The 'predict_dataloader' does not have many workers which may be a bottleneck. Consider increasing the value of the `num_workers` argument` to `num_workers=19` in the `DataLoader` to improve performance.\n"
     ]
    },
    {
     "name": "stdout",
     "output_type": "stream",
     "text": [
      "2025-04-14 | Прогноз: 687.08 | Факт: 706.60\n"
     ]
    },
    {
     "name": "stderr",
     "output_type": "stream",
     "text": [
      "💡 Tip: For seamless cloud uploads and versioning, try installing [litmodels](https://pypi.org/project/litmodels/) to enable LitModelCheckpoint, which syncs automatically with the Lightning model registry.\n",
      "GPU available: True (cuda), used: True\n",
      "TPU available: False, using: 0 TPU cores\n",
      "HPU available: False, using: 0 HPUs\n",
      "LOCAL_RANK: 0 - CUDA_VISIBLE_DEVICES: [0]\n",
      "C:\\Users\\Администратор\\AppData\\Local\\Programs\\Python\\Python310\\lib\\site-packages\\lightning\\pytorch\\trainer\\connectors\\data_connector.py:425: The 'predict_dataloader' does not have many workers which may be a bottleneck. Consider increasing the value of the `num_workers` argument` to `num_workers=19` in the `DataLoader` to improve performance.\n"
     ]
    },
    {
     "name": "stdout",
     "output_type": "stream",
     "text": [
      "2025-04-15 | Прогноз: 687.07 | Факт: 703.50\n"
     ]
    },
    {
     "name": "stderr",
     "output_type": "stream",
     "text": [
      "💡 Tip: For seamless cloud uploads and versioning, try installing [litmodels](https://pypi.org/project/litmodels/) to enable LitModelCheckpoint, which syncs automatically with the Lightning model registry.\n",
      "GPU available: True (cuda), used: True\n",
      "TPU available: False, using: 0 TPU cores\n",
      "HPU available: False, using: 0 HPUs\n",
      "LOCAL_RANK: 0 - CUDA_VISIBLE_DEVICES: [0]\n",
      "C:\\Users\\Администратор\\AppData\\Local\\Programs\\Python\\Python310\\lib\\site-packages\\lightning\\pytorch\\trainer\\connectors\\data_connector.py:425: The 'predict_dataloader' does not have many workers which may be a bottleneck. Consider increasing the value of the `num_workers` argument` to `num_workers=19` in the `DataLoader` to improve performance.\n"
     ]
    },
    {
     "name": "stdout",
     "output_type": "stream",
     "text": [
      "2025-04-16 | Прогноз: 694.23 | Факт: 693.70\n"
     ]
    },
    {
     "name": "stderr",
     "output_type": "stream",
     "text": [
      "💡 Tip: For seamless cloud uploads and versioning, try installing [litmodels](https://pypi.org/project/litmodels/) to enable LitModelCheckpoint, which syncs automatically with the Lightning model registry.\n",
      "GPU available: True (cuda), used: True\n",
      "TPU available: False, using: 0 TPU cores\n",
      "HPU available: False, using: 0 HPUs\n",
      "LOCAL_RANK: 0 - CUDA_VISIBLE_DEVICES: [0]\n",
      "C:\\Users\\Администратор\\AppData\\Local\\Programs\\Python\\Python310\\lib\\site-packages\\lightning\\pytorch\\trainer\\connectors\\data_connector.py:425: The 'predict_dataloader' does not have many workers which may be a bottleneck. Consider increasing the value of the `num_workers` argument` to `num_workers=19` in the `DataLoader` to improve performance.\n"
     ]
    },
    {
     "name": "stdout",
     "output_type": "stream",
     "text": [
      "2025-04-17 | Прогноз: 698.94 | Факт: 690.50\n"
     ]
    },
    {
     "name": "stderr",
     "output_type": "stream",
     "text": [
      "💡 Tip: For seamless cloud uploads and versioning, try installing [litmodels](https://pypi.org/project/litmodels/) to enable LitModelCheckpoint, which syncs automatically with the Lightning model registry.\n",
      "GPU available: True (cuda), used: True\n",
      "TPU available: False, using: 0 TPU cores\n",
      "HPU available: False, using: 0 HPUs\n",
      "LOCAL_RANK: 0 - CUDA_VISIBLE_DEVICES: [0]\n",
      "C:\\Users\\Администратор\\AppData\\Local\\Programs\\Python\\Python310\\lib\\site-packages\\lightning\\pytorch\\trainer\\connectors\\data_connector.py:425: The 'predict_dataloader' does not have many workers which may be a bottleneck. Consider increasing the value of the `num_workers` argument` to `num_workers=19` in the `DataLoader` to improve performance.\n"
     ]
    },
    {
     "name": "stdout",
     "output_type": "stream",
     "text": [
      "2025-04-18 | Прогноз: 702.36 | Факт: 719.50\n"
     ]
    },
    {
     "name": "stderr",
     "output_type": "stream",
     "text": [
      "💡 Tip: For seamless cloud uploads and versioning, try installing [litmodels](https://pypi.org/project/litmodels/) to enable LitModelCheckpoint, which syncs automatically with the Lightning model registry.\n",
      "GPU available: True (cuda), used: True\n",
      "TPU available: False, using: 0 TPU cores\n",
      "HPU available: False, using: 0 HPUs\n",
      "LOCAL_RANK: 0 - CUDA_VISIBLE_DEVICES: [0]\n",
      "C:\\Users\\Администратор\\AppData\\Local\\Programs\\Python\\Python310\\lib\\site-packages\\lightning\\pytorch\\trainer\\connectors\\data_connector.py:425: The 'predict_dataloader' does not have many workers which may be a bottleneck. Consider increasing the value of the `num_workers` argument` to `num_workers=19` in the `DataLoader` to improve performance.\n"
     ]
    },
    {
     "name": "stdout",
     "output_type": "stream",
     "text": [
      "2025-04-21 | Прогноз: 701.95 | Факт: 725.40\n"
     ]
    },
    {
     "name": "stderr",
     "output_type": "stream",
     "text": [
      "💡 Tip: For seamless cloud uploads and versioning, try installing [litmodels](https://pypi.org/project/litmodels/) to enable LitModelCheckpoint, which syncs automatically with the Lightning model registry.\n",
      "GPU available: True (cuda), used: True\n",
      "TPU available: False, using: 0 TPU cores\n",
      "HPU available: False, using: 0 HPUs\n",
      "LOCAL_RANK: 0 - CUDA_VISIBLE_DEVICES: [0]\n",
      "C:\\Users\\Администратор\\AppData\\Local\\Programs\\Python\\Python310\\lib\\site-packages\\lightning\\pytorch\\trainer\\connectors\\data_connector.py:425: The 'predict_dataloader' does not have many workers which may be a bottleneck. Consider increasing the value of the `num_workers` argument` to `num_workers=19` in the `DataLoader` to improve performance.\n"
     ]
    },
    {
     "name": "stdout",
     "output_type": "stream",
     "text": [
      "2025-04-22 | Прогноз: 704.81 | Факт: 723.10\n"
     ]
    },
    {
     "name": "stderr",
     "output_type": "stream",
     "text": [
      "💡 Tip: For seamless cloud uploads and versioning, try installing [litmodels](https://pypi.org/project/litmodels/) to enable LitModelCheckpoint, which syncs automatically with the Lightning model registry.\n",
      "GPU available: True (cuda), used: True\n",
      "TPU available: False, using: 0 TPU cores\n",
      "HPU available: False, using: 0 HPUs\n",
      "LOCAL_RANK: 0 - CUDA_VISIBLE_DEVICES: [0]\n",
      "C:\\Users\\Администратор\\AppData\\Local\\Programs\\Python\\Python310\\lib\\site-packages\\lightning\\pytorch\\trainer\\connectors\\data_connector.py:425: The 'predict_dataloader' does not have many workers which may be a bottleneck. Consider increasing the value of the `num_workers` argument` to `num_workers=19` in the `DataLoader` to improve performance.\n"
     ]
    },
    {
     "name": "stdout",
     "output_type": "stream",
     "text": [
      "2025-04-23 | Прогноз: 708.69 | Факт: 714.90\n"
     ]
    },
    {
     "name": "stderr",
     "output_type": "stream",
     "text": [
      "💡 Tip: For seamless cloud uploads and versioning, try installing [litmodels](https://pypi.org/project/litmodels/) to enable LitModelCheckpoint, which syncs automatically with the Lightning model registry.\n",
      "GPU available: True (cuda), used: True\n",
      "TPU available: False, using: 0 TPU cores\n",
      "HPU available: False, using: 0 HPUs\n",
      "LOCAL_RANK: 0 - CUDA_VISIBLE_DEVICES: [0]\n",
      "C:\\Users\\Администратор\\AppData\\Local\\Programs\\Python\\Python310\\lib\\site-packages\\lightning\\pytorch\\trainer\\connectors\\data_connector.py:425: The 'predict_dataloader' does not have many workers which may be a bottleneck. Consider increasing the value of the `num_workers` argument` to `num_workers=19` in the `DataLoader` to improve performance.\n"
     ]
    },
    {
     "name": "stdout",
     "output_type": "stream",
     "text": [
      "2025-04-24 | Прогноз: 708.89 | Факт: 698.90\n"
     ]
    },
    {
     "name": "stderr",
     "output_type": "stream",
     "text": [
      "💡 Tip: For seamless cloud uploads and versioning, try installing [litmodels](https://pypi.org/project/litmodels/) to enable LitModelCheckpoint, which syncs automatically with the Lightning model registry.\n",
      "GPU available: True (cuda), used: True\n",
      "TPU available: False, using: 0 TPU cores\n",
      "HPU available: False, using: 0 HPUs\n",
      "LOCAL_RANK: 0 - CUDA_VISIBLE_DEVICES: [0]\n",
      "C:\\Users\\Администратор\\AppData\\Local\\Programs\\Python\\Python310\\lib\\site-packages\\lightning\\pytorch\\trainer\\connectors\\data_connector.py:425: The 'predict_dataloader' does not have many workers which may be a bottleneck. Consider increasing the value of the `num_workers` argument` to `num_workers=19` in the `DataLoader` to improve performance.\n"
     ]
    },
    {
     "name": "stdout",
     "output_type": "stream",
     "text": [
      "2025-04-25 | Прогноз: 712.39 | Факт: 680.00\n"
     ]
    },
    {
     "name": "stderr",
     "output_type": "stream",
     "text": [
      "💡 Tip: For seamless cloud uploads and versioning, try installing [litmodels](https://pypi.org/project/litmodels/) to enable LitModelCheckpoint, which syncs automatically with the Lightning model registry.\n",
      "GPU available: True (cuda), used: True\n",
      "TPU available: False, using: 0 TPU cores\n",
      "HPU available: False, using: 0 HPUs\n",
      "LOCAL_RANK: 0 - CUDA_VISIBLE_DEVICES: [0]\n",
      "C:\\Users\\Администратор\\AppData\\Local\\Programs\\Python\\Python310\\lib\\site-packages\\lightning\\pytorch\\trainer\\connectors\\data_connector.py:425: The 'predict_dataloader' does not have many workers which may be a bottleneck. Consider increasing the value of the `num_workers` argument` to `num_workers=19` in the `DataLoader` to improve performance.\n"
     ]
    },
    {
     "name": "stdout",
     "output_type": "stream",
     "text": [
      "2025-04-28 | Прогноз: 718.71 | Факт: 685.00\n"
     ]
    },
    {
     "name": "stderr",
     "output_type": "stream",
     "text": [
      "💡 Tip: For seamless cloud uploads and versioning, try installing [litmodels](https://pypi.org/project/litmodels/) to enable LitModelCheckpoint, which syncs automatically with the Lightning model registry.\n",
      "GPU available: True (cuda), used: True\n",
      "TPU available: False, using: 0 TPU cores\n",
      "HPU available: False, using: 0 HPUs\n",
      "LOCAL_RANK: 0 - CUDA_VISIBLE_DEVICES: [0]\n",
      "C:\\Users\\Администратор\\AppData\\Local\\Programs\\Python\\Python310\\lib\\site-packages\\lightning\\pytorch\\trainer\\connectors\\data_connector.py:425: The 'predict_dataloader' does not have many workers which may be a bottleneck. Consider increasing the value of the `num_workers` argument` to `num_workers=19` in the `DataLoader` to improve performance.\n"
     ]
    },
    {
     "name": "stdout",
     "output_type": "stream",
     "text": [
      "2025-04-29 | Прогноз: 715.58 | Факт: 691.60\n"
     ]
    },
    {
     "name": "stderr",
     "output_type": "stream",
     "text": [
      "💡 Tip: For seamless cloud uploads and versioning, try installing [litmodels](https://pypi.org/project/litmodels/) to enable LitModelCheckpoint, which syncs automatically with the Lightning model registry.\n",
      "GPU available: True (cuda), used: True\n",
      "TPU available: False, using: 0 TPU cores\n",
      "HPU available: False, using: 0 HPUs\n",
      "LOCAL_RANK: 0 - CUDA_VISIBLE_DEVICES: [0]\n",
      "C:\\Users\\Администратор\\AppData\\Local\\Programs\\Python\\Python310\\lib\\site-packages\\lightning\\pytorch\\trainer\\connectors\\data_connector.py:425: The 'predict_dataloader' does not have many workers which may be a bottleneck. Consider increasing the value of the `num_workers` argument` to `num_workers=19` in the `DataLoader` to improve performance.\n"
     ]
    },
    {
     "name": "stdout",
     "output_type": "stream",
     "text": [
      "2025-04-30 | Прогноз: 714.44 | Факт: 696.80\n"
     ]
    },
    {
     "name": "stderr",
     "output_type": "stream",
     "text": [
      "💡 Tip: For seamless cloud uploads and versioning, try installing [litmodels](https://pypi.org/project/litmodels/) to enable LitModelCheckpoint, which syncs automatically with the Lightning model registry.\n",
      "GPU available: True (cuda), used: True\n",
      "TPU available: False, using: 0 TPU cores\n",
      "HPU available: False, using: 0 HPUs\n",
      "LOCAL_RANK: 0 - CUDA_VISIBLE_DEVICES: [0]\n",
      "C:\\Users\\Администратор\\AppData\\Local\\Programs\\Python\\Python310\\lib\\site-packages\\lightning\\pytorch\\trainer\\connectors\\data_connector.py:425: The 'predict_dataloader' does not have many workers which may be a bottleneck. Consider increasing the value of the `num_workers` argument` to `num_workers=19` in the `DataLoader` to improve performance.\n"
     ]
    },
    {
     "name": "stdout",
     "output_type": "stream",
     "text": [
      "2025-05-02 | Прогноз: 707.56 | Факт: 720.90\n"
     ]
    },
    {
     "name": "stderr",
     "output_type": "stream",
     "text": [
      "💡 Tip: For seamless cloud uploads and versioning, try installing [litmodels](https://pypi.org/project/litmodels/) to enable LitModelCheckpoint, which syncs automatically with the Lightning model registry.\n",
      "GPU available: True (cuda), used: True\n",
      "TPU available: False, using: 0 TPU cores\n",
      "HPU available: False, using: 0 HPUs\n",
      "LOCAL_RANK: 0 - CUDA_VISIBLE_DEVICES: [0]\n",
      "C:\\Users\\Администратор\\AppData\\Local\\Programs\\Python\\Python310\\lib\\site-packages\\lightning\\pytorch\\trainer\\connectors\\data_connector.py:425: The 'predict_dataloader' does not have many workers which may be a bottleneck. Consider increasing the value of the `num_workers` argument` to `num_workers=19` in the `DataLoader` to improve performance.\n"
     ]
    },
    {
     "name": "stdout",
     "output_type": "stream",
     "text": [
      "2025-05-05 | Прогноз: 693.92 | Факт: 715.80\n"
     ]
    },
    {
     "name": "stderr",
     "output_type": "stream",
     "text": [
      "💡 Tip: For seamless cloud uploads and versioning, try installing [litmodels](https://pypi.org/project/litmodels/) to enable LitModelCheckpoint, which syncs automatically with the Lightning model registry.\n",
      "GPU available: True (cuda), used: True\n",
      "TPU available: False, using: 0 TPU cores\n",
      "HPU available: False, using: 0 HPUs\n",
      "LOCAL_RANK: 0 - CUDA_VISIBLE_DEVICES: [0]\n",
      "C:\\Users\\Администратор\\AppData\\Local\\Programs\\Python\\Python310\\lib\\site-packages\\lightning\\pytorch\\trainer\\connectors\\data_connector.py:425: The 'predict_dataloader' does not have many workers which may be a bottleneck. Consider increasing the value of the `num_workers` argument` to `num_workers=19` in the `DataLoader` to improve performance.\n"
     ]
    },
    {
     "name": "stdout",
     "output_type": "stream",
     "text": [
      "2025-05-06 | Прогноз: 689.30 | Факт: 700.50\n"
     ]
    },
    {
     "name": "stderr",
     "output_type": "stream",
     "text": [
      "💡 Tip: For seamless cloud uploads and versioning, try installing [litmodels](https://pypi.org/project/litmodels/) to enable LitModelCheckpoint, which syncs automatically with the Lightning model registry.\n",
      "GPU available: True (cuda), used: True\n",
      "TPU available: False, using: 0 TPU cores\n",
      "HPU available: False, using: 0 HPUs\n",
      "LOCAL_RANK: 0 - CUDA_VISIBLE_DEVICES: [0]\n",
      "C:\\Users\\Администратор\\AppData\\Local\\Programs\\Python\\Python310\\lib\\site-packages\\lightning\\pytorch\\trainer\\connectors\\data_connector.py:425: The 'predict_dataloader' does not have many workers which may be a bottleneck. Consider increasing the value of the `num_workers` argument` to `num_workers=19` in the `DataLoader` to improve performance.\n"
     ]
    },
    {
     "name": "stdout",
     "output_type": "stream",
     "text": [
      "2025-05-07 | Прогноз: 700.14 | Факт: 695.70\n"
     ]
    },
    {
     "name": "stderr",
     "output_type": "stream",
     "text": [
      "💡 Tip: For seamless cloud uploads and versioning, try installing [litmodels](https://pypi.org/project/litmodels/) to enable LitModelCheckpoint, which syncs automatically with the Lightning model registry.\n",
      "GPU available: True (cuda), used: True\n",
      "TPU available: False, using: 0 TPU cores\n",
      "HPU available: False, using: 0 HPUs\n",
      "LOCAL_RANK: 0 - CUDA_VISIBLE_DEVICES: [0]\n",
      "C:\\Users\\Администратор\\AppData\\Local\\Programs\\Python\\Python310\\lib\\site-packages\\lightning\\pytorch\\trainer\\connectors\\data_connector.py:425: The 'predict_dataloader' does not have many workers which may be a bottleneck. Consider increasing the value of the `num_workers` argument` to `num_workers=19` in the `DataLoader` to improve performance.\n"
     ]
    },
    {
     "name": "stdout",
     "output_type": "stream",
     "text": [
      "2025-05-08 | Прогноз: 709.65 | Факт: 699.00\n"
     ]
    },
    {
     "name": "stderr",
     "output_type": "stream",
     "text": [
      "💡 Tip: For seamless cloud uploads and versioning, try installing [litmodels](https://pypi.org/project/litmodels/) to enable LitModelCheckpoint, which syncs automatically with the Lightning model registry.\n",
      "GPU available: True (cuda), used: True\n",
      "TPU available: False, using: 0 TPU cores\n",
      "HPU available: False, using: 0 HPUs\n",
      "LOCAL_RANK: 0 - CUDA_VISIBLE_DEVICES: [0]\n",
      "C:\\Users\\Администратор\\AppData\\Local\\Programs\\Python\\Python310\\lib\\site-packages\\lightning\\pytorch\\trainer\\connectors\\data_connector.py:425: The 'predict_dataloader' does not have many workers which may be a bottleneck. Consider increasing the value of the `num_workers` argument` to `num_workers=19` in the `DataLoader` to improve performance.\n"
     ]
    },
    {
     "name": "stdout",
     "output_type": "stream",
     "text": [
      "2025-05-12 | Прогноз: 708.07 | Факт: 706.30\n"
     ]
    },
    {
     "name": "stderr",
     "output_type": "stream",
     "text": [
      "💡 Tip: For seamless cloud uploads and versioning, try installing [litmodels](https://pypi.org/project/litmodels/) to enable LitModelCheckpoint, which syncs automatically with the Lightning model registry.\n",
      "GPU available: True (cuda), used: True\n",
      "TPU available: False, using: 0 TPU cores\n",
      "HPU available: False, using: 0 HPUs\n",
      "LOCAL_RANK: 0 - CUDA_VISIBLE_DEVICES: [0]\n",
      "C:\\Users\\Администратор\\AppData\\Local\\Programs\\Python\\Python310\\lib\\site-packages\\lightning\\pytorch\\trainer\\connectors\\data_connector.py:425: The 'predict_dataloader' does not have many workers which may be a bottleneck. Consider increasing the value of the `num_workers` argument` to `num_workers=19` in the `DataLoader` to improve performance.\n"
     ]
    },
    {
     "name": "stdout",
     "output_type": "stream",
     "text": [
      "2025-05-13 | Прогноз: 712.07 | Факт: 709.90\n"
     ]
    },
    {
     "name": "stderr",
     "output_type": "stream",
     "text": [
      "💡 Tip: For seamless cloud uploads and versioning, try installing [litmodels](https://pypi.org/project/litmodels/) to enable LitModelCheckpoint, which syncs automatically with the Lightning model registry.\n",
      "GPU available: True (cuda), used: True\n",
      "TPU available: False, using: 0 TPU cores\n",
      "HPU available: False, using: 0 HPUs\n",
      "LOCAL_RANK: 0 - CUDA_VISIBLE_DEVICES: [0]\n",
      "C:\\Users\\Администратор\\AppData\\Local\\Programs\\Python\\Python310\\lib\\site-packages\\lightning\\pytorch\\trainer\\connectors\\data_connector.py:425: The 'predict_dataloader' does not have many workers which may be a bottleneck. Consider increasing the value of the `num_workers` argument` to `num_workers=19` in the `DataLoader` to improve performance.\n"
     ]
    },
    {
     "name": "stdout",
     "output_type": "stream",
     "text": [
      "2025-05-14 | Прогноз: 710.97 | Факт: 703.90\n"
     ]
    },
    {
     "name": "stderr",
     "output_type": "stream",
     "text": [
      "💡 Tip: For seamless cloud uploads and versioning, try installing [litmodels](https://pypi.org/project/litmodels/) to enable LitModelCheckpoint, which syncs automatically with the Lightning model registry.\n",
      "GPU available: True (cuda), used: True\n",
      "TPU available: False, using: 0 TPU cores\n",
      "HPU available: False, using: 0 HPUs\n",
      "LOCAL_RANK: 0 - CUDA_VISIBLE_DEVICES: [0]\n",
      "C:\\Users\\Администратор\\AppData\\Local\\Programs\\Python\\Python310\\lib\\site-packages\\lightning\\pytorch\\trainer\\connectors\\data_connector.py:425: The 'predict_dataloader' does not have many workers which may be a bottleneck. Consider increasing the value of the `num_workers` argument` to `num_workers=19` in the `DataLoader` to improve performance.\n"
     ]
    },
    {
     "name": "stdout",
     "output_type": "stream",
     "text": [
      "2025-05-15 | Прогноз: 708.22 | Факт: 690.90\n"
     ]
    },
    {
     "name": "stderr",
     "output_type": "stream",
     "text": [
      "💡 Tip: For seamless cloud uploads and versioning, try installing [litmodels](https://pypi.org/project/litmodels/) to enable LitModelCheckpoint, which syncs automatically with the Lightning model registry.\n",
      "GPU available: True (cuda), used: True\n",
      "TPU available: False, using: 0 TPU cores\n",
      "HPU available: False, using: 0 HPUs\n",
      "LOCAL_RANK: 0 - CUDA_VISIBLE_DEVICES: [0]\n",
      "C:\\Users\\Администратор\\AppData\\Local\\Programs\\Python\\Python310\\lib\\site-packages\\lightning\\pytorch\\trainer\\connectors\\data_connector.py:425: The 'predict_dataloader' does not have many workers which may be a bottleneck. Consider increasing the value of the `num_workers` argument` to `num_workers=19` in the `DataLoader` to improve performance.\n"
     ]
    },
    {
     "name": "stdout",
     "output_type": "stream",
     "text": [
      "2025-05-16 | Прогноз: 705.82 | Факт: 691.40\n"
     ]
    },
    {
     "name": "stderr",
     "output_type": "stream",
     "text": [
      "💡 Tip: For seamless cloud uploads and versioning, try installing [litmodels](https://pypi.org/project/litmodels/) to enable LitModelCheckpoint, which syncs automatically with the Lightning model registry.\n",
      "GPU available: True (cuda), used: True\n",
      "TPU available: False, using: 0 TPU cores\n",
      "HPU available: False, using: 0 HPUs\n",
      "LOCAL_RANK: 0 - CUDA_VISIBLE_DEVICES: [0]\n",
      "C:\\Users\\Администратор\\AppData\\Local\\Programs\\Python\\Python310\\lib\\site-packages\\lightning\\pytorch\\trainer\\connectors\\data_connector.py:425: The 'predict_dataloader' does not have many workers which may be a bottleneck. Consider increasing the value of the `num_workers` argument` to `num_workers=19` in the `DataLoader` to improve performance.\n"
     ]
    },
    {
     "name": "stdout",
     "output_type": "stream",
     "text": [
      "2025-05-17 | Прогноз: 691.84 | Факт: 692.70\n"
     ]
    },
    {
     "name": "stderr",
     "output_type": "stream",
     "text": [
      "💡 Tip: For seamless cloud uploads and versioning, try installing [litmodels](https://pypi.org/project/litmodels/) to enable LitModelCheckpoint, which syncs automatically with the Lightning model registry.\n",
      "GPU available: True (cuda), used: True\n",
      "TPU available: False, using: 0 TPU cores\n",
      "HPU available: False, using: 0 HPUs\n",
      "LOCAL_RANK: 0 - CUDA_VISIBLE_DEVICES: [0]\n",
      "C:\\Users\\Администратор\\AppData\\Local\\Programs\\Python\\Python310\\lib\\site-packages\\lightning\\pytorch\\trainer\\connectors\\data_connector.py:425: The 'predict_dataloader' does not have many workers which may be a bottleneck. Consider increasing the value of the `num_workers` argument` to `num_workers=19` in the `DataLoader` to improve performance.\n"
     ]
    },
    {
     "name": "stdout",
     "output_type": "stream",
     "text": [
      "2025-05-18 | Прогноз: 695.48 | Факт: 690.70\n"
     ]
    },
    {
     "name": "stderr",
     "output_type": "stream",
     "text": [
      "💡 Tip: For seamless cloud uploads and versioning, try installing [litmodels](https://pypi.org/project/litmodels/) to enable LitModelCheckpoint, which syncs automatically with the Lightning model registry.\n",
      "GPU available: True (cuda), used: True\n",
      "TPU available: False, using: 0 TPU cores\n",
      "HPU available: False, using: 0 HPUs\n",
      "LOCAL_RANK: 0 - CUDA_VISIBLE_DEVICES: [0]\n",
      "C:\\Users\\Администратор\\AppData\\Local\\Programs\\Python\\Python310\\lib\\site-packages\\lightning\\pytorch\\trainer\\connectors\\data_connector.py:425: The 'predict_dataloader' does not have many workers which may be a bottleneck. Consider increasing the value of the `num_workers` argument` to `num_workers=19` in the `DataLoader` to improve performance.\n"
     ]
    },
    {
     "name": "stdout",
     "output_type": "stream",
     "text": [
      "2025-05-19 | Прогноз: 700.79 | Факт: 678.60\n"
     ]
    },
    {
     "name": "stderr",
     "output_type": "stream",
     "text": [
      "💡 Tip: For seamless cloud uploads and versioning, try installing [litmodels](https://pypi.org/project/litmodels/) to enable LitModelCheckpoint, which syncs automatically with the Lightning model registry.\n",
      "GPU available: True (cuda), used: True\n",
      "TPU available: False, using: 0 TPU cores\n",
      "HPU available: False, using: 0 HPUs\n",
      "LOCAL_RANK: 0 - CUDA_VISIBLE_DEVICES: [0]\n",
      "C:\\Users\\Администратор\\AppData\\Local\\Programs\\Python\\Python310\\lib\\site-packages\\lightning\\pytorch\\trainer\\connectors\\data_connector.py:425: The 'predict_dataloader' does not have many workers which may be a bottleneck. Consider increasing the value of the `num_workers` argument` to `num_workers=19` in the `DataLoader` to improve performance.\n"
     ]
    },
    {
     "name": "stdout",
     "output_type": "stream",
     "text": [
      "2025-05-20 | Прогноз: 693.50 | Факт: 680.10\n"
     ]
    },
    {
     "name": "stderr",
     "output_type": "stream",
     "text": [
      "💡 Tip: For seamless cloud uploads and versioning, try installing [litmodels](https://pypi.org/project/litmodels/) to enable LitModelCheckpoint, which syncs automatically with the Lightning model registry.\n",
      "GPU available: True (cuda), used: True\n",
      "TPU available: False, using: 0 TPU cores\n",
      "HPU available: False, using: 0 HPUs\n",
      "LOCAL_RANK: 0 - CUDA_VISIBLE_DEVICES: [0]\n",
      "C:\\Users\\Администратор\\AppData\\Local\\Programs\\Python\\Python310\\lib\\site-packages\\lightning\\pytorch\\trainer\\connectors\\data_connector.py:425: The 'predict_dataloader' does not have many workers which may be a bottleneck. Consider increasing the value of the `num_workers` argument` to `num_workers=19` in the `DataLoader` to improve performance.\n"
     ]
    },
    {
     "name": "stdout",
     "output_type": "stream",
     "text": [
      "2025-05-21 | Прогноз: 692.26 | Факт: 685.80\n"
     ]
    },
    {
     "name": "stderr",
     "output_type": "stream",
     "text": [
      "💡 Tip: For seamless cloud uploads and versioning, try installing [litmodels](https://pypi.org/project/litmodels/) to enable LitModelCheckpoint, which syncs automatically with the Lightning model registry.\n",
      "GPU available: True (cuda), used: True\n",
      "TPU available: False, using: 0 TPU cores\n",
      "HPU available: False, using: 0 HPUs\n",
      "LOCAL_RANK: 0 - CUDA_VISIBLE_DEVICES: [0]\n",
      "C:\\Users\\Администратор\\AppData\\Local\\Programs\\Python\\Python310\\lib\\site-packages\\lightning\\pytorch\\trainer\\connectors\\data_connector.py:425: The 'predict_dataloader' does not have many workers which may be a bottleneck. Consider increasing the value of the `num_workers` argument` to `num_workers=19` in the `DataLoader` to improve performance.\n"
     ]
    },
    {
     "name": "stdout",
     "output_type": "stream",
     "text": [
      "2025-05-22 | Прогноз: 694.47 | Факт: 687.80\n"
     ]
    },
    {
     "name": "stderr",
     "output_type": "stream",
     "text": [
      "💡 Tip: For seamless cloud uploads and versioning, try installing [litmodels](https://pypi.org/project/litmodels/) to enable LitModelCheckpoint, which syncs automatically with the Lightning model registry.\n",
      "GPU available: True (cuda), used: True\n",
      "TPU available: False, using: 0 TPU cores\n",
      "HPU available: False, using: 0 HPUs\n",
      "LOCAL_RANK: 0 - CUDA_VISIBLE_DEVICES: [0]\n",
      "C:\\Users\\Администратор\\AppData\\Local\\Programs\\Python\\Python310\\lib\\site-packages\\lightning\\pytorch\\trainer\\connectors\\data_connector.py:425: The 'predict_dataloader' does not have many workers which may be a bottleneck. Consider increasing the value of the `num_workers` argument` to `num_workers=19` in the `DataLoader` to improve performance.\n"
     ]
    },
    {
     "name": "stdout",
     "output_type": "stream",
     "text": [
      "2025-05-23 | Прогноз: 690.58 | Факт: 704.80\n"
     ]
    },
    {
     "name": "stderr",
     "output_type": "stream",
     "text": [
      "💡 Tip: For seamless cloud uploads and versioning, try installing [litmodels](https://pypi.org/project/litmodels/) to enable LitModelCheckpoint, which syncs automatically with the Lightning model registry.\n",
      "GPU available: True (cuda), used: True\n",
      "TPU available: False, using: 0 TPU cores\n",
      "HPU available: False, using: 0 HPUs\n",
      "LOCAL_RANK: 0 - CUDA_VISIBLE_DEVICES: [0]\n",
      "C:\\Users\\Администратор\\AppData\\Local\\Programs\\Python\\Python310\\lib\\site-packages\\lightning\\pytorch\\trainer\\connectors\\data_connector.py:425: The 'predict_dataloader' does not have many workers which may be a bottleneck. Consider increasing the value of the `num_workers` argument` to `num_workers=19` in the `DataLoader` to improve performance.\n"
     ]
    },
    {
     "name": "stdout",
     "output_type": "stream",
     "text": [
      "2025-05-26 | Прогноз: 681.12 | Факт: 656.50\n",
      "Оценка модели по таргету: target_5d\n",
      "MAE:   18.2451\n",
      "RMSE:  22.3654\n",
      "MAPE:  2.63%\n",
      "R2:    0.3345\n"
     ]
    },
    {
     "data": {
      "image/png": "[encoded data removed]",
      "text/plain": [
       "<Figure size 800x400 with 1 Axes>"
      ]
     },
     "metadata": {},
     "output_type": "display_data"
    },
    {
     "data": {
      "image/png": "[encoded data removed]",
      "text/plain": [
       "<Figure size 1000x500 with 1 Axes>"
      ]
     },
     "metadata": {},
     "output_type": "display_data"
    },
    {
     "data": {
      "text/html": [
       "<div>\n",
       "<style scoped>\n",
       "    .dataframe tbody tr th:only-of-type {\n",
       "        vertical-align: middle;\n",
       "    }\n",
       "\n",
       "    .dataframe tbody tr th {\n",
       "        vertical-align: top;\n",
       "    }\n",
       "\n",
       "    .dataframe thead th {\n",
       "        text-align: right;\n",
       "    }\n",
       "</style>\n",
       "<table border=\"1\" class=\"dataframe\">\n",
       "  <thead>\n",
       "    <tr style=\"text-align: right;\">\n",
       "      <th></th>\n",
       "      <th>date</th>\n",
       "      <th>fact</th>\n",
       "      <th>pred</th>\n",
       "      <th>last_price</th>\n",
       "      <th>error</th>\n",
       "      <th>abs_error</th>\n",
       "      <th>rel_error</th>\n",
       "      <th>bias</th>\n",
       "    </tr>\n",
       "  </thead>\n",
       "  <tbody>\n",
       "    <tr>\n",
       "      <th>0</th>\n",
       "      <td>2025-02-11</td>\n",
       "      <td>737.5</td>\n",
       "      <td>710.072632</td>\n",
       "      <td>1.301003</td>\n",
       "      <td>27.427368</td>\n",
       "      <td>27.427368</td>\n",
       "      <td>0.037190</td>\n",
       "      <td>-27.427368</td>\n",
       "    </tr>\n",
       "    <tr>\n",
       "      <th>1</th>\n",
       "      <td>2025-02-12</td>\n",
       "      <td>744.5</td>\n",
       "      <td>725.195374</td>\n",
       "      <td>1.313986</td>\n",
       "      <td>19.304626</td>\n",
       "      <td>19.304626</td>\n",
       "      <td>0.025930</td>\n",
       "      <td>-19.304626</td>\n",
       "    </tr>\n",
       "    <tr>\n",
       "      <th>2</th>\n",
       "      <td>2025-02-13</td>\n",
       "      <td>745.3</td>\n",
       "      <td>734.959106</td>\n",
       "      <td>1.491597</td>\n",
       "      <td>10.340894</td>\n",
       "      <td>10.340894</td>\n",
       "      <td>0.013875</td>\n",
       "      <td>-10.340894</td>\n",
       "    </tr>\n",
       "    <tr>\n",
       "      <th>3</th>\n",
       "      <td>2025-02-14</td>\n",
       "      <td>754.4</td>\n",
       "      <td>731.602173</td>\n",
       "      <td>1.359687</td>\n",
       "      <td>22.797827</td>\n",
       "      <td>22.797827</td>\n",
       "      <td>0.030220</td>\n",
       "      <td>-22.797827</td>\n",
       "    </tr>\n",
       "    <tr>\n",
       "      <th>4</th>\n",
       "      <td>2025-02-17</td>\n",
       "      <td>752.8</td>\n",
       "      <td>733.027649</td>\n",
       "      <td>1.387212</td>\n",
       "      <td>19.772351</td>\n",
       "      <td>19.772351</td>\n",
       "      <td>0.026265</td>\n",
       "      <td>-19.772351</td>\n",
       "    </tr>\n",
       "  </tbody>\n",
       "</table>\n",
       "</div>"
      ],
      "text/plain": [
       "        date   fact        pred  last_price      error  abs_error  rel_error  \\\n",
       "0 2025-02-11  737.5  710.072632    1.301003  27.427368  27.427368   0.037190   \n",
       "1 2025-02-12  744.5  725.195374    1.313986  19.304626  19.304626   0.025930   \n",
       "2 2025-02-13  745.3  734.959106    1.491597  10.340894  10.340894   0.013875   \n",
       "3 2025-02-14  754.4  731.602173    1.359687  22.797827  22.797827   0.030220   \n",
       "4 2025-02-17  752.8  733.027649    1.387212  19.772351  19.772351   0.026265   \n",
       "\n",
       "        bias  \n",
       "0 -27.427368  \n",
       "1 -19.304626  \n",
       "2 -10.340894  \n",
       "3 -22.797827  \n",
       "4 -19.772351  "
      ]
     },
     "metadata": {},
     "output_type": "display_data"
    }
   ],
   "source": [
    "# Настройки\n",
    "seed = 42\n",
    "encoder_length = 90\n",
    "batch_size = 1\n",
    "target_column = \"target_5d\"\n",
    "start_date = \"2024-10-03\"  # 90 дней до 2025-01-01, чтобы начать предсказание от 2025-01-01\n",
    "\n",
    "data = r\"C:\\VKR_Almaz_Mamatov\\VKR_Almaz_Mamatov_DS_16\\Part_3\\tatn_tft_weekly_REG.csv\"\n",
    "ckpt = r\"C:\\VKR_Almaz_Mamatov\\VKR_Almaz_Mamatov_DS_16\\Part_3\\TFT\\tft_model_target_5d.ckpt\"\n",
    "\n",
    "# Загрузка данных и модели\n",
    "df_all = pd.read_csv(data, parse_dates=[\"date\"])\n",
    "model = TemporalFusionTransformer.load_from_checkpoint(ckpt)\n",
    "\n",
    "# Приведение категориальных колонок к строкам\n",
    "categorical_columns = [\"group_id\", \"month\", \"day_of_week\", \"is_weekend\"]\n",
    "df_all[categorical_columns] = df_all[categorical_columns].astype(str)\n",
    "\n",
    "# Создание шаблона TimeSeriesDataSet\n",
    "training_dataset = TimeSeriesDataSet(\n",
    "    df_all,\n",
    "    time_idx = \"time_idx\",\n",
    "    target = target_column,\n",
    "    group_ids = [\"group_id\"],\n",
    "    max_encoder_length = encoder_length,\n",
    "    max_prediction_length = 1,\n",
    "    static_categoricals = [\"group_id\"],\n",
    "    time_varying_known_categoricals = [\"month\", \"day_of_week\", \"is_weekend\"],\n",
    "    time_varying_known_reals = [\"time_idx\", \"day_of_year\"],\n",
    "    time_varying_unknown_reals=[\n",
    "        col for col in df_all.columns\n",
    "        if col not in [\"group_id\",\"time_idx\",\"date\", target_column,\n",
    "                       \"month\",\"day_of_week\",\"is_weekend\",\"day_of_year\"]\n",
    "    ],\n",
    "    target_normalizer = GroupNormalizer(groups = [\"group_id\"], transformation = \"softplus\"),\n",
    "    add_relative_time_idx = True,\n",
    "    add_target_scales = True,\n",
    "    add_encoder_length = True,\n",
    "    allow_missing_timesteps = True\n",
    ")\n",
    "\n",
    "# Подготовка df_window для скользящего прогноза\n",
    "df_window = df_all[df_all[\"date\"] >= pd.to_datetime(start_date)].reset_index(drop = True)\n",
    "\n",
    "# Прогноз по скользящему окну\n",
    "preds_all, y_true_all, last_price_all, dates = [], [], [], []\n",
    "for i in range(encoder_length, len(df_window)):\n",
    "    window_df = df_window.iloc[i-encoder_length : i+1].copy()\n",
    "    forecast_date = window_df.iloc[-1][\"date\"]\n",
    "    if forecast_date.year < 2025:\n",
    "        continue\n",
    "\n",
    "    dataset = TimeSeriesDataSet.from_dataset(\n",
    "        training_dataset, window_df,\n",
    "        predict = True, stop_randomization=True\n",
    "    )\n",
    "    loader = dataset.to_dataloader(train = False, batch_size = batch_size)\n",
    "\n",
    "    pred = model.predict(loader)[0].item()\n",
    "    true = window_df.iloc[-1][target_column]\n",
    "    last = window_df.iloc[-2][\"price\"]\n",
    "\n",
    "    print(f\"{forecast_date.date()} | Прогноз: {pred:.2f} | Факт: {true:.2f}\")\n",
    "    preds_all.append(pred)\n",
    "    y_true_all.append(true)\n",
    "    last_price_all.append(last)\n",
    "    dates.append(forecast_date)\n",
    "\n",
    "# Метрики и графики\n",
    "y_pred = np.array(preds_all)\n",
    "y_true = np.array(y_true_all)\n",
    "last_price = np.array(last_price_all)\n",
    "dates = pd.to_datetime(dates)\n",
    "\n",
    "mae = mean_absolute_error(y_true, y_pred)\n",
    "rmse = np.sqrt(mean_squared_error(y_true, y_pred))\n",
    "mape = mean_absolute_percentage_error(y_true, y_pred)\n",
    "\n",
    "print(f\"Оценка модели по таргету: {target_column}\")\n",
    "print(f\"MAE:   {mae:.4f}\")\n",
    "print(f\"RMSE:  {rmse:.4f}\")\n",
    "print(f\"MAPE:  {mape:.2%}\")\n",
    "\n",
    "# График распределения ошибок\n",
    "errors = np.where(np.abs(y_true) < 1e-6, 0, np.abs((y_true - y_pred) / y_true))\n",
    "plt.figure(figsize = (8, 4))\n",
    "plt.hist(errors, bins = 20)\n",
    "plt.title(f\"Распределение относительных ошибок ({target_column})\")\n",
    "plt.xlabel(\"Относительная ошибка\")\n",
    "plt.ylabel(\"Частота\")\n",
    "plt.tight_layout()\n",
    "plt.show()\n",
    "\n",
    "# График факт vs прогноз\n",
    "plt.figure(figsize=(10, 5))\n",
    "plt.plot(dates, y_true, label=\"Факт\")\n",
    "plt.plot(dates, y_pred, label=\"Прогноз\")\n",
    "plt.title(f\"Прогноз vs Факт ({target_column})\")\n",
    "plt.legend()\n",
    "plt.tight_layout()\n",
    "plt.show()\n",
    "\n",
    "# Финальный DataFrame с результатами\n",
    "df_results = pd.DataFrame({\n",
    "    \"date\": dates,\n",
    "    \"fact\": y_true,\n",
    "    \"pred\": y_pred,\n",
    "    \"last_price\": last_price,\n",
    "    \"error\": y_true - y_pred,\n",
    "    \"abs_error\": np.abs(y_true - y_pred),\n",
    "    \"rel_error\": errors,\n",
    "    \"bias\": y_pred - y_true\n",
    "})\n",
    "\n",
    "display(df_results.head())\n"
   ]
  },
  {
   "cell_type": "markdown",
   "id": "fa5155b5-f1ea-4908-8a0f-ca430439214a",
   "metadata": {},
   "source": [
    "#### Точечный прогноз TFT на заданную дату"
   ]
  },
  {
   "cell_type": "markdown",
   "id": "88a64303-7a13-4f59-a8ae-24301b15bd7e",
   "metadata": {},
   "source": [
    "В данном блоке кода мы используем обученную модель TFT для построения прогноза цены акции ПАО «Татнефть» на конкретную дату.  \n",
    "Мы формируем входные данные, полностью соответствующие формату обучения, чтобы модель могла корректно спрогнозировать целевое значение.  \n",
    "Это позволяет без переобучения быстро получить прогноз на любую дату, для которой доступны необходимые входные признаки.\n",
    "\n",
    "В данном блоке мы проводим следующие операции:\n",
    "\n",
    "1. Загрузка модели и данных — подгружаем обученную TFT и исходный ДФ с признаками.\n",
    "2. Приведение категориальных признаков — переводим все категориальные колонки (`group_id`, `month`, `day_of_week`, `is_weekend`) в строковый формат, как это требуется для работы модели.\n",
    "3. Определение признаков — разделяем признаки на известные наперёд (календарные) и неизвестные (ценовые и производные признаки, такие как технические индикаторы, процентные изменения цены, скользящие средние и др.), которые модель должна предсказать.\n",
    "4. Выбор временного окна — берём последние 90 записей (максимальная длина энкодера), чтобы сохранить контекст временного ряда.\n",
    "5. Добавление строки с будущей датой — создаём новую запись с датой прогноза, заполняем известные наперёд признаки по календарю, а неизвестные — последними доступными значениями.\n",
    "6. Формирование ДФ для прогноза — с помощью `TimeSeriesDataSet` приводим данные к формату TFT, добавляем относительные индексы времени и масштабы.\n",
    "7. Прогноз — загружаем подготовленные данные в `DataLoader` и получаем предсказание цены на заданную дату.\n",
    "8. Оценка точности — сравниваем прогноз с фактическим значением, вычисляем абсолютную и относительную ошибки.\n",
    "\n",
    "В результате мы получаем готовый прогноз цены акции на нужную дату, а также численную оценку ошибки, что позволяет быстро проверять точность модели в реальных условиях."
   ]
  },
  {
   "cell_type": "code",
   "execution_count": 24,
   "id": "3a64d61c-ec8d-4359-a94d-8bf39dec0831",
   "metadata": {},
   "outputs": [
    {
     "name": "stderr",
     "output_type": "stream",
     "text": [
      "C:\\Users\\Администратор\\AppData\\Local\\Programs\\Python\\Python310\\lib\\site-packages\\lightning\\pytorch\\utilities\\parsing.py:209: Attribute 'loss' is an instance of `nn.Module` and is already saved during checkpointing. It is recommended to ignore them using `self.save_hyperparameters(ignore=['loss'])`.\n",
      "C:\\Users\\Администратор\\AppData\\Local\\Programs\\Python\\Python310\\lib\\site-packages\\lightning\\pytorch\\utilities\\parsing.py:209: Attribute 'logging_metrics' is an instance of `nn.Module` and is already saved during checkpointing. It is recommended to ignore them using `self.save_hyperparameters(ignore=['logging_metrics'])`.\n",
      "💡 Tip: For seamless cloud uploads and versioning, try installing [litmodels](https://pypi.org/project/litmodels/) to enable LitModelCheckpoint, which syncs automatically with the Lightning model registry.\n",
      "GPU available: True (cuda), used: True\n",
      "TPU available: False, using: 0 TPU cores\n",
      "HPU available: False, using: 0 HPUs\n",
      "LOCAL_RANK: 0 - CUDA_VISIBLE_DEVICES: [0]\n",
      "C:\\Users\\Администратор\\AppData\\Local\\Programs\\Python\\Python310\\lib\\site-packages\\lightning\\pytorch\\trainer\\connectors\\data_connector.py:425: The 'predict_dataloader' does not have many workers which may be a bottleneck. Consider increasing the value of the `num_workers` argument` to `num_workers=19` in the `DataLoader` to improve performance.\n"
     ]
    },
    {
     "name": "stdout",
     "output_type": "stream",
     "text": [
      "  group_id       date  prediction\n",
      "0  tatneft 2025-06-06  676.851379\n",
      "Фактическая цена:  639.10 ₽\n",
      "Предсказание TFT: 676.85 ₽\n",
      "Абсолютная ошибка: 37.75 ₽\n",
      "Относительная ошибка: 5.91 %\n"
     ]
    }
   ],
   "source": [
    "# Пути и параметры\n",
    "ckpt = r\"C:\\VKR_Almaz_Mamatov\\VKR_Almaz_Mamatov_DS_16\\Part_3\\TFT\\tft_model_target_5d.ckpt\"\n",
    "data = r\"C:\\VKR_Almaz_Mamatov\\VKR_Almaz_Mamatov_DS_16\\Part_3\\tatn_tft_weekly_REG.csv\"\n",
    "d_pred = pd.to_datetime(\"2025-06-06\")\n",
    "encoder_length = 90\n",
    "\n",
    "# Модель и данные\n",
    "model = TemporalFusionTransformer.load_from_checkpoint(ckpt)\n",
    "df = pd.read_csv(data, parse_dates = [\"date\"]).sort_values([\"group_id\",\"date\"]).reset_index(drop = True)\n",
    "df[[\"group_id\",\"month\",\"day_of_week\",\"is_weekend\"]] = df[[\"group_id\",\"month\",\"day_of_week\",\"is_weekend\"]].astype(str)\n",
    "\n",
    "# Роли признаков\n",
    "g, t_idx, tgt = \"group_id\", \"time_idx\", \"target_5d\"\n",
    "known_cat = [\"month\",\"day_of_week\",\"is_weekend\"]\n",
    "known_real = [t_idx, \"day_of_year\"]\n",
    "exclude = {g, t_idx, \"date\", tgt, *known_cat, *known_real}\n",
    "unk_real = [c for c in df.columns if c not in exclude]\n",
    "\n",
    "# Окно последних encoder_length наблюдений по каждой группе\n",
    "df_window = df.groupby(g).tail(encoder_length).copy()\n",
    "\n",
    "# Строка будущего на d_pred (unknown-фичи - last known)\n",
    "last_ti = df[t_idx].max()\n",
    "future = []\n",
    "for gid, grp in df_window.groupby(g):\n",
    "    last = grp.iloc[-1]\n",
    "    row = {\n",
    "        g: gid, \"date\": d_pred, t_idx: last_ti + 1, tgt: 0.0,\n",
    "        \"month\": str(d_pred.month),\n",
    "        \"day_of_week\": str(d_pred.weekday()),\n",
    "        \"is_weekend\": str(int(d_pred.weekday() >= 5)),\n",
    "        \"day_of_year\": d_pred.timetuple().tm_yday,\n",
    "        **{c: last[c] for c in unk_real},\n",
    "    }\n",
    "    future.append(row)\n",
    "\n",
    "df_final = pd.concat([df_window, pd.DataFrame(future)], ignore_index=True)\n",
    "\n",
    "# Шаблон и датасет для предсказания\n",
    "tmpl = TimeSeriesDataSet(\n",
    "    df, time_idx = t_idx, target = tgt, group_ids = [g],\n",
    "    max_encoder_length = encoder_length, max_prediction_length = 1,\n",
    "    static_categoricals = [g],\n",
    "    time_varying_known_categoricals = known_cat,\n",
    "    time_varying_known_reals = known_real,\n",
    "    time_varying_unknown_reals = unk_real,\n",
    "    target_normalizer = GroupNormalizer(groups = [g], transformation = \"softplus\"),\n",
    "    add_relative_time_idx = True, add_target_scales = True, add_encoder_length = True,\n",
    "    allow_missing_timesteps = True,\n",
    ")\n",
    "\n",
    "pred_ds = TimeSeriesDataSet.from_dataset(tmpl, df_final, predict = True, stop_randomization = True)\n",
    "loader = pred_ds.to_dataloader(train = False, batch_size = len(future))\n",
    "preds = model.predict(loader).cpu().numpy().flatten()\n",
    "\n",
    "# Результат и краткая оценка\n",
    "result = pd.DataFrame({\"group_id\":[r[g] for r in future], \"date\":[d_pred]*len(future), \"prediction\":preds})\n",
    "print(result)\n",
    "\n",
    "# При наличии фактической цены - оценка ошибки\n",
    "real_price = 639.10  # фактическая цена на 06.06.2025\n",
    "pred_price = float(preds[0])\n",
    "abs_err = abs(pred_price - real_price)\n",
    "rel_err = abs_err / real_price * 100\n",
    "print(f\"Фактическая цена:  {real_price:.2f} ₽\")\n",
    "print(f\"Предсказание TFT: {pred_price:.2f} ₽\")\n",
    "print(f\"Абсолютная ошибка: {abs_err:.2f} ₽\")\n",
    "print(f\"Относительная ошибка: {rel_err:.2f} %\")\n"
   ]
  },
  {
   "cell_type": "code",
   "execution_count": null,
   "id": "db4d0de8-a777-4a77-bc05-8f1c2458450a",
   "metadata": {},
   "outputs": [],
   "source": []
  },
  {
   "cell_type": "code",
   "execution_count": null,
   "id": "e8e4afb7-cd9d-4e99-bca8-d1259fc446ee",
   "metadata": {},
   "outputs": [],
   "source": []
  },
  {
   "cell_type": "code",
   "execution_count": null,
   "id": "77ddefb1-4a35-4be5-854c-bbe0dd487bec",
   "metadata": {},
   "outputs": [],
   "source": []
  },
  {
   "cell_type": "code",
   "execution_count": null,
   "id": "278bfd12-e495-4f11-a12f-efe5f79f7fe9",
   "metadata": {},
   "outputs": [],
   "source": []
  },
  {
   "cell_type": "code",
   "execution_count": null,
   "id": "41718cdf-38e1-4b6b-a170-b5f165c4df33",
   "metadata": {},
   "outputs": [],
   "source": []
  },
  {
   "cell_type": "code",
   "execution_count": null,
   "id": "accae0d7-9847-44ab-936e-b1cdb91afb04",
   "metadata": {},
   "outputs": [],
   "source": []
  },
  {
   "cell_type": "code",
   "execution_count": null,
   "id": "07cb0fbc-8d64-447b-8b2f-bceca8b7daff",
   "metadata": {},
   "outputs": [],
   "source": []
  }
 ],
 "metadata": {
  "kernelspec": {
   "display_name": "Python 3 (ipykernel)",
   "language": "python",
   "name": "python3"
  },
  "language_info": {
   "codemirror_mode": {
    "name": "ipython",
    "version": 3
   },
   "file_extension": ".py",
   "mimetype": "text/x-python",
   "name": "python",
   "nbconvert_exporter": "python",
   "pygments_lexer": "ipython3",
   "version": "3.10.11"
  }
 },
 "nbformat": 4,
 "nbformat_minor": 5
}
